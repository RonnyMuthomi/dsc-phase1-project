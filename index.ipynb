{
 "cells": [
  {
   "cell_type": "markdown",
   "metadata": {},
   "source": [
    "# **Phase-1 Project**\n",
    "\n",
    "### **Business Overview/ Introduction**\n",
    "For this project, I will use data cleaning, imputation, analysis, and visualization to generate insights for a business stakeholder.The project aims to analyze aviation accident data to determine the lowest-risk aircraft models for commercial and private enterprises. The analysis will provide actionable insights for the company's aviation division to guide their aircraft purchasing decisions.\n",
    "\n",
    "### **Business Problem**\n",
    "Your company is expanding in to new industries to diversify its portfolio. Specifically, they are interested in purchasing and operating airplanes for commercial and private enterprises, but do not know anything about the potential risks of aircraft.\n",
    "\n",
    "### **My Task**\n",
    "determine which aircraft are the lowest risk for the company to start this new business endeavor\n",
    "\n"
   ]
  },
  {
   "cell_type": "markdown",
   "metadata": {},
   "source": [
    "### **Data Understanding**\n",
    "\n",
    "In this project, I'll work with aviation accident data from the National Transportation Safety Board (NTSB) Dataset, which can be found on \n",
    "[kaggle](https://www.kaggle.com/datasets/khsamaha/aviation-accident-database-synopses?select=AviationData.csv). Specifically I will be using **Avition_Data.csv** file for my analysis.\n",
    "\n",
    "The data is contained in two separate CSV files:\n",
    "\n",
    "1. `Avition_Data.csv`:the file contains information from 1962 and later about civil aviation accidents and selected incidents within the United States, its territories and possessions, and in international waters.\n",
    "2. `USState_Codes.csv`:This file contains the US State name and the abbreviation of them\n",
    "\n",
    "### **Business Understanding**\n",
    "\n",
    "#### Stakeholder\n",
    "The primary stakeholder is the head of the company's new aviation division, responsible for making data-driven decisions on aircraft acquisition.\n",
    "\n",
    "#### Key Business Questions\n",
    "- Which aircraft models have the lowest accident rates?\n",
    "- What are the common causes of aviation accidents?\n",
    "- How do different aircraft manufacturers compare in terms of safety?\n",
    "- What factors contribute most to aviation risk, and how can they be mitigated?\n",
    "\n"
   ]
  },
  {
   "cell_type": "markdown",
   "metadata": {},
   "source": [
    "1. ### **Load Data using pandas**\n",
    "\n",
    "In the cell below, I:\n",
    "\n",
    "* Import and alias `pandas` as `pd`\n",
    "* Import and alias `numpy` as `np`\n",
    "* Import and alias `seaborn` as `sns`\n",
    "* Import and alias `matplotlib.pyplot` as `plt`\n",
    "* Set Matplotlib visualizations to display inline in the notebook"
   ]
  },
  {
   "cell_type": "code",
   "execution_count": 1,
   "metadata": {},
   "outputs": [],
   "source": [
    "# import the libraries using alias\n",
    "import pandas as pd\n",
    "import numpy as np\n",
    "import seaborn as sns\n",
    "import matplotlib.pyplot as plt\n",
    "\n",
    "%matplotlib inline"
   ]
  },
  {
   "cell_type": "markdown",
   "metadata": {},
   "source": [
    "### Import the function from load.py \n",
    "In the cell below I import the function `load_data()` from load.py"
   ]
  },
  {
   "cell_type": "code",
   "execution_count": 2,
   "metadata": {},
   "outputs": [],
   "source": [
    "# Import the function\n",
    "import load"
   ]
  },
  {
   "cell_type": "markdown",
   "metadata": {},
   "source": [
    "### Aviation_Data\n",
    "In the cell below, I load `Aviation_Data.csv` as `df` using the script `load.py`"
   ]
  },
  {
   "cell_type": "code",
   "execution_count": 3,
   "metadata": {},
   "outputs": [],
   "source": [
    "# load the data the function output .head(), .info(), .describe() of data\n",
    "#df =load.load_data('data/Aviation_Data.csv')"
   ]
  },
  {
   "cell_type": "markdown",
   "metadata": {},
   "source": [
    "The above cell output data as expected but the dataset is large to output all details needed .head(), .info(), .describe()"
   ]
  },
  {
   "cell_type": "markdown",
   "metadata": {},
   "source": [
    "In cell below I will load data using pd as alias, then use method .head(), .info(), .describe() in separate cells"
   ]
  },
  {
   "cell_type": "code",
   "execution_count": 4,
   "metadata": {},
   "outputs": [
    {
     "data": {
      "application/vnd.microsoft.datawrangler.viewer.v0+json": {
       "columns": [
        {
         "name": "index",
         "rawType": "int64",
         "type": "integer"
        },
        {
         "name": "Event.Id",
         "rawType": "object",
         "type": "string"
        },
        {
         "name": "Investigation.Type",
         "rawType": "object",
         "type": "string"
        },
        {
         "name": "Accident.Number",
         "rawType": "object",
         "type": "string"
        },
        {
         "name": "Event.Date",
         "rawType": "object",
         "type": "string"
        },
        {
         "name": "Location",
         "rawType": "object",
         "type": "string"
        },
        {
         "name": "Country",
         "rawType": "object",
         "type": "string"
        },
        {
         "name": "Latitude",
         "rawType": "object",
         "type": "unknown"
        },
        {
         "name": "Longitude",
         "rawType": "object",
         "type": "unknown"
        },
        {
         "name": "Airport.Code",
         "rawType": "object",
         "type": "unknown"
        },
        {
         "name": "Airport.Name",
         "rawType": "object",
         "type": "unknown"
        },
        {
         "name": "Injury.Severity",
         "rawType": "object",
         "type": "string"
        },
        {
         "name": "Aircraft.damage",
         "rawType": "object",
         "type": "string"
        },
        {
         "name": "Aircraft.Category",
         "rawType": "object",
         "type": "unknown"
        },
        {
         "name": "Registration.Number",
         "rawType": "object",
         "type": "string"
        },
        {
         "name": "Make",
         "rawType": "object",
         "type": "string"
        },
        {
         "name": "Model",
         "rawType": "object",
         "type": "string"
        },
        {
         "name": "Amateur.Built",
         "rawType": "object",
         "type": "string"
        },
        {
         "name": "Number.of.Engines",
         "rawType": "float64",
         "type": "float"
        },
        {
         "name": "Engine.Type",
         "rawType": "object",
         "type": "unknown"
        },
        {
         "name": "FAR.Description",
         "rawType": "object",
         "type": "unknown"
        },
        {
         "name": "Schedule",
         "rawType": "object",
         "type": "unknown"
        },
        {
         "name": "Purpose.of.flight",
         "rawType": "object",
         "type": "unknown"
        },
        {
         "name": "Air.carrier",
         "rawType": "object",
         "type": "unknown"
        },
        {
         "name": "Total.Fatal.Injuries",
         "rawType": "float64",
         "type": "float"
        },
        {
         "name": "Total.Serious.Injuries",
         "rawType": "float64",
         "type": "float"
        },
        {
         "name": "Total.Minor.Injuries",
         "rawType": "float64",
         "type": "float"
        },
        {
         "name": "Total.Uninjured",
         "rawType": "float64",
         "type": "float"
        },
        {
         "name": "Weather.Condition",
         "rawType": "object",
         "type": "string"
        },
        {
         "name": "Broad.phase.of.flight",
         "rawType": "object",
         "type": "string"
        },
        {
         "name": "Report.Status",
         "rawType": "object",
         "type": "string"
        },
        {
         "name": "Publication.Date",
         "rawType": "object",
         "type": "unknown"
        }
       ],
       "conversionMethod": "pd.DataFrame",
       "ref": "eed9f2d0-7a1d-4387-afaf-98a07698f502",
       "rows": [
        [
         "0",
         "20001218X45444",
         "Accident",
         "SEA87LA080",
         "1948-10-24",
         "MOOSE CREEK, ID",
         "United States",
         null,
         null,
         null,
         null,
         "Fatal(2)",
         "Destroyed",
         null,
         "NC6404",
         "Stinson",
         "108-3",
         "No",
         "1.0",
         "Reciprocating",
         null,
         null,
         "Personal",
         null,
         "2.0",
         "0.0",
         "0.0",
         "0.0",
         "UNK",
         "Cruise",
         "Probable Cause",
         null
        ],
        [
         "1",
         "20001218X45447",
         "Accident",
         "LAX94LA336",
         "1962-07-19",
         "BRIDGEPORT, CA",
         "United States",
         null,
         null,
         null,
         null,
         "Fatal(4)",
         "Destroyed",
         null,
         "N5069P",
         "Piper",
         "PA24-180",
         "No",
         "1.0",
         "Reciprocating",
         null,
         null,
         "Personal",
         null,
         "4.0",
         "0.0",
         "0.0",
         "0.0",
         "UNK",
         "Unknown",
         "Probable Cause",
         "19-09-1996"
        ],
        [
         "2",
         "20061025X01555",
         "Accident",
         "NYC07LA005",
         "1974-08-30",
         "Saltville, VA",
         "United States",
         "36.922223",
         "-81.878056",
         null,
         null,
         "Fatal(3)",
         "Destroyed",
         null,
         "N5142R",
         "Cessna",
         "172M",
         "No",
         "1.0",
         "Reciprocating",
         null,
         null,
         "Personal",
         null,
         "3.0",
         null,
         null,
         null,
         "IMC",
         "Cruise",
         "Probable Cause",
         "26-02-2007"
        ],
        [
         "3",
         "20001218X45448",
         "Accident",
         "LAX96LA321",
         "1977-06-19",
         "EUREKA, CA",
         "United States",
         null,
         null,
         null,
         null,
         "Fatal(2)",
         "Destroyed",
         null,
         "N1168J",
         "Rockwell",
         "112",
         "No",
         "1.0",
         "Reciprocating",
         null,
         null,
         "Personal",
         null,
         "2.0",
         "0.0",
         "0.0",
         "0.0",
         "IMC",
         "Cruise",
         "Probable Cause",
         "12-09-2000"
        ],
        [
         "4",
         "20041105X01764",
         "Accident",
         "CHI79FA064",
         "1979-08-02",
         "Canton, OH",
         "United States",
         null,
         null,
         null,
         null,
         "Fatal(1)",
         "Destroyed",
         null,
         "N15NY",
         "Cessna",
         "501",
         "No",
         null,
         null,
         null,
         null,
         "Personal",
         null,
         "1.0",
         "2.0",
         null,
         "0.0",
         "VMC",
         "Approach",
         "Probable Cause",
         "16-04-1980"
        ],
        [
         "5",
         "20170710X52551",
         "Accident",
         "NYC79AA106",
         "1979-09-17",
         "BOSTON, MA",
         "United States",
         "42.445277",
         "-70.758333",
         null,
         null,
         "Non-Fatal",
         "Substantial",
         "Airplane",
         "CF-TLU",
         "Mcdonnell Douglas",
         "DC9",
         "No",
         "2.0",
         "Turbo Fan",
         "Part 129: Foreign",
         "SCHD",
         null,
         "Air Canada",
         null,
         null,
         "1.0",
         "44.0",
         "VMC",
         "Climb",
         "Probable Cause",
         "19-09-2017"
        ],
        [
         "6",
         "20001218X45446",
         "Accident",
         "CHI81LA106",
         "1981-08-01",
         "COTTON, MN",
         "United States",
         null,
         null,
         null,
         null,
         "Fatal(4)",
         "Destroyed",
         null,
         "N4988E",
         "Cessna",
         "180",
         "No",
         "1.0",
         "Reciprocating",
         null,
         null,
         "Personal",
         null,
         "4.0",
         "0.0",
         "0.0",
         "0.0",
         "IMC",
         "Unknown",
         "Probable Cause",
         "06-11-2001"
        ],
        [
         "7",
         "20020909X01562",
         "Accident",
         "SEA82DA022",
         "1982-01-01",
         "PULLMAN, WA",
         "United States",
         null,
         null,
         null,
         "BLACKBURN AG STRIP",
         "Non-Fatal",
         "Substantial",
         "Airplane",
         "N2482N",
         "Cessna",
         "140",
         "No",
         "1.0",
         "Reciprocating",
         "Part 91: General Aviation",
         null,
         "Personal",
         null,
         "0.0",
         "0.0",
         "0.0",
         "2.0",
         "VMC",
         "Takeoff",
         "Probable Cause",
         "01-01-1982"
        ],
        [
         "8",
         "20020909X01561",
         "Accident",
         "NYC82DA015",
         "1982-01-01",
         "EAST HANOVER, NJ",
         "United States",
         null,
         null,
         "N58",
         "HANOVER",
         "Non-Fatal",
         "Substantial",
         "Airplane",
         "N7967Q",
         "Cessna",
         "401B",
         "No",
         "2.0",
         "Reciprocating",
         "Part 91: General Aviation",
         null,
         "Business",
         null,
         "0.0",
         "0.0",
         "0.0",
         "2.0",
         "IMC",
         "Landing",
         "Probable Cause",
         "01-01-1982"
        ],
        [
         "9",
         "20020909X01560",
         "Accident",
         "MIA82DA029",
         "1982-01-01",
         "JACKSONVILLE, FL",
         "United States",
         null,
         null,
         "JAX",
         "JACKSONVILLE INTL",
         "Non-Fatal",
         "Substantial",
         null,
         "N3906K",
         "North American",
         "NAVION L-17B",
         "No",
         "1.0",
         "Reciprocating",
         null,
         null,
         "Personal",
         null,
         "0.0",
         "0.0",
         "3.0",
         "0.0",
         "IMC",
         "Cruise",
         "Probable Cause",
         "01-01-1982"
        ]
       ],
       "shape": {
        "columns": 31,
        "rows": 10
       }
      },
      "text/html": [
       "<div>\n",
       "<style scoped>\n",
       "    .dataframe tbody tr th:only-of-type {\n",
       "        vertical-align: middle;\n",
       "    }\n",
       "\n",
       "    .dataframe tbody tr th {\n",
       "        vertical-align: top;\n",
       "    }\n",
       "\n",
       "    .dataframe thead th {\n",
       "        text-align: right;\n",
       "    }\n",
       "</style>\n",
       "<table border=\"1\" class=\"dataframe\">\n",
       "  <thead>\n",
       "    <tr style=\"text-align: right;\">\n",
       "      <th></th>\n",
       "      <th>Event.Id</th>\n",
       "      <th>Investigation.Type</th>\n",
       "      <th>Accident.Number</th>\n",
       "      <th>Event.Date</th>\n",
       "      <th>Location</th>\n",
       "      <th>Country</th>\n",
       "      <th>Latitude</th>\n",
       "      <th>Longitude</th>\n",
       "      <th>Airport.Code</th>\n",
       "      <th>Airport.Name</th>\n",
       "      <th>...</th>\n",
       "      <th>Purpose.of.flight</th>\n",
       "      <th>Air.carrier</th>\n",
       "      <th>Total.Fatal.Injuries</th>\n",
       "      <th>Total.Serious.Injuries</th>\n",
       "      <th>Total.Minor.Injuries</th>\n",
       "      <th>Total.Uninjured</th>\n",
       "      <th>Weather.Condition</th>\n",
       "      <th>Broad.phase.of.flight</th>\n",
       "      <th>Report.Status</th>\n",
       "      <th>Publication.Date</th>\n",
       "    </tr>\n",
       "  </thead>\n",
       "  <tbody>\n",
       "    <tr>\n",
       "      <th>0</th>\n",
       "      <td>20001218X45444</td>\n",
       "      <td>Accident</td>\n",
       "      <td>SEA87LA080</td>\n",
       "      <td>1948-10-24</td>\n",
       "      <td>MOOSE CREEK, ID</td>\n",
       "      <td>United States</td>\n",
       "      <td>NaN</td>\n",
       "      <td>NaN</td>\n",
       "      <td>NaN</td>\n",
       "      <td>NaN</td>\n",
       "      <td>...</td>\n",
       "      <td>Personal</td>\n",
       "      <td>NaN</td>\n",
       "      <td>2.0</td>\n",
       "      <td>0.0</td>\n",
       "      <td>0.0</td>\n",
       "      <td>0.0</td>\n",
       "      <td>UNK</td>\n",
       "      <td>Cruise</td>\n",
       "      <td>Probable Cause</td>\n",
       "      <td>NaN</td>\n",
       "    </tr>\n",
       "    <tr>\n",
       "      <th>1</th>\n",
       "      <td>20001218X45447</td>\n",
       "      <td>Accident</td>\n",
       "      <td>LAX94LA336</td>\n",
       "      <td>1962-07-19</td>\n",
       "      <td>BRIDGEPORT, CA</td>\n",
       "      <td>United States</td>\n",
       "      <td>NaN</td>\n",
       "      <td>NaN</td>\n",
       "      <td>NaN</td>\n",
       "      <td>NaN</td>\n",
       "      <td>...</td>\n",
       "      <td>Personal</td>\n",
       "      <td>NaN</td>\n",
       "      <td>4.0</td>\n",
       "      <td>0.0</td>\n",
       "      <td>0.0</td>\n",
       "      <td>0.0</td>\n",
       "      <td>UNK</td>\n",
       "      <td>Unknown</td>\n",
       "      <td>Probable Cause</td>\n",
       "      <td>19-09-1996</td>\n",
       "    </tr>\n",
       "    <tr>\n",
       "      <th>2</th>\n",
       "      <td>20061025X01555</td>\n",
       "      <td>Accident</td>\n",
       "      <td>NYC07LA005</td>\n",
       "      <td>1974-08-30</td>\n",
       "      <td>Saltville, VA</td>\n",
       "      <td>United States</td>\n",
       "      <td>36.922223</td>\n",
       "      <td>-81.878056</td>\n",
       "      <td>NaN</td>\n",
       "      <td>NaN</td>\n",
       "      <td>...</td>\n",
       "      <td>Personal</td>\n",
       "      <td>NaN</td>\n",
       "      <td>3.0</td>\n",
       "      <td>NaN</td>\n",
       "      <td>NaN</td>\n",
       "      <td>NaN</td>\n",
       "      <td>IMC</td>\n",
       "      <td>Cruise</td>\n",
       "      <td>Probable Cause</td>\n",
       "      <td>26-02-2007</td>\n",
       "    </tr>\n",
       "    <tr>\n",
       "      <th>3</th>\n",
       "      <td>20001218X45448</td>\n",
       "      <td>Accident</td>\n",
       "      <td>LAX96LA321</td>\n",
       "      <td>1977-06-19</td>\n",
       "      <td>EUREKA, CA</td>\n",
       "      <td>United States</td>\n",
       "      <td>NaN</td>\n",
       "      <td>NaN</td>\n",
       "      <td>NaN</td>\n",
       "      <td>NaN</td>\n",
       "      <td>...</td>\n",
       "      <td>Personal</td>\n",
       "      <td>NaN</td>\n",
       "      <td>2.0</td>\n",
       "      <td>0.0</td>\n",
       "      <td>0.0</td>\n",
       "      <td>0.0</td>\n",
       "      <td>IMC</td>\n",
       "      <td>Cruise</td>\n",
       "      <td>Probable Cause</td>\n",
       "      <td>12-09-2000</td>\n",
       "    </tr>\n",
       "    <tr>\n",
       "      <th>4</th>\n",
       "      <td>20041105X01764</td>\n",
       "      <td>Accident</td>\n",
       "      <td>CHI79FA064</td>\n",
       "      <td>1979-08-02</td>\n",
       "      <td>Canton, OH</td>\n",
       "      <td>United States</td>\n",
       "      <td>NaN</td>\n",
       "      <td>NaN</td>\n",
       "      <td>NaN</td>\n",
       "      <td>NaN</td>\n",
       "      <td>...</td>\n",
       "      <td>Personal</td>\n",
       "      <td>NaN</td>\n",
       "      <td>1.0</td>\n",
       "      <td>2.0</td>\n",
       "      <td>NaN</td>\n",
       "      <td>0.0</td>\n",
       "      <td>VMC</td>\n",
       "      <td>Approach</td>\n",
       "      <td>Probable Cause</td>\n",
       "      <td>16-04-1980</td>\n",
       "    </tr>\n",
       "    <tr>\n",
       "      <th>5</th>\n",
       "      <td>20170710X52551</td>\n",
       "      <td>Accident</td>\n",
       "      <td>NYC79AA106</td>\n",
       "      <td>1979-09-17</td>\n",
       "      <td>BOSTON, MA</td>\n",
       "      <td>United States</td>\n",
       "      <td>42.445277</td>\n",
       "      <td>-70.758333</td>\n",
       "      <td>NaN</td>\n",
       "      <td>NaN</td>\n",
       "      <td>...</td>\n",
       "      <td>NaN</td>\n",
       "      <td>Air Canada</td>\n",
       "      <td>NaN</td>\n",
       "      <td>NaN</td>\n",
       "      <td>1.0</td>\n",
       "      <td>44.0</td>\n",
       "      <td>VMC</td>\n",
       "      <td>Climb</td>\n",
       "      <td>Probable Cause</td>\n",
       "      <td>19-09-2017</td>\n",
       "    </tr>\n",
       "    <tr>\n",
       "      <th>6</th>\n",
       "      <td>20001218X45446</td>\n",
       "      <td>Accident</td>\n",
       "      <td>CHI81LA106</td>\n",
       "      <td>1981-08-01</td>\n",
       "      <td>COTTON, MN</td>\n",
       "      <td>United States</td>\n",
       "      <td>NaN</td>\n",
       "      <td>NaN</td>\n",
       "      <td>NaN</td>\n",
       "      <td>NaN</td>\n",
       "      <td>...</td>\n",
       "      <td>Personal</td>\n",
       "      <td>NaN</td>\n",
       "      <td>4.0</td>\n",
       "      <td>0.0</td>\n",
       "      <td>0.0</td>\n",
       "      <td>0.0</td>\n",
       "      <td>IMC</td>\n",
       "      <td>Unknown</td>\n",
       "      <td>Probable Cause</td>\n",
       "      <td>06-11-2001</td>\n",
       "    </tr>\n",
       "    <tr>\n",
       "      <th>7</th>\n",
       "      <td>20020909X01562</td>\n",
       "      <td>Accident</td>\n",
       "      <td>SEA82DA022</td>\n",
       "      <td>1982-01-01</td>\n",
       "      <td>PULLMAN, WA</td>\n",
       "      <td>United States</td>\n",
       "      <td>NaN</td>\n",
       "      <td>NaN</td>\n",
       "      <td>NaN</td>\n",
       "      <td>BLACKBURN AG STRIP</td>\n",
       "      <td>...</td>\n",
       "      <td>Personal</td>\n",
       "      <td>NaN</td>\n",
       "      <td>0.0</td>\n",
       "      <td>0.0</td>\n",
       "      <td>0.0</td>\n",
       "      <td>2.0</td>\n",
       "      <td>VMC</td>\n",
       "      <td>Takeoff</td>\n",
       "      <td>Probable Cause</td>\n",
       "      <td>01-01-1982</td>\n",
       "    </tr>\n",
       "    <tr>\n",
       "      <th>8</th>\n",
       "      <td>20020909X01561</td>\n",
       "      <td>Accident</td>\n",
       "      <td>NYC82DA015</td>\n",
       "      <td>1982-01-01</td>\n",
       "      <td>EAST HANOVER, NJ</td>\n",
       "      <td>United States</td>\n",
       "      <td>NaN</td>\n",
       "      <td>NaN</td>\n",
       "      <td>N58</td>\n",
       "      <td>HANOVER</td>\n",
       "      <td>...</td>\n",
       "      <td>Business</td>\n",
       "      <td>NaN</td>\n",
       "      <td>0.0</td>\n",
       "      <td>0.0</td>\n",
       "      <td>0.0</td>\n",
       "      <td>2.0</td>\n",
       "      <td>IMC</td>\n",
       "      <td>Landing</td>\n",
       "      <td>Probable Cause</td>\n",
       "      <td>01-01-1982</td>\n",
       "    </tr>\n",
       "    <tr>\n",
       "      <th>9</th>\n",
       "      <td>20020909X01560</td>\n",
       "      <td>Accident</td>\n",
       "      <td>MIA82DA029</td>\n",
       "      <td>1982-01-01</td>\n",
       "      <td>JACKSONVILLE, FL</td>\n",
       "      <td>United States</td>\n",
       "      <td>NaN</td>\n",
       "      <td>NaN</td>\n",
       "      <td>JAX</td>\n",
       "      <td>JACKSONVILLE INTL</td>\n",
       "      <td>...</td>\n",
       "      <td>Personal</td>\n",
       "      <td>NaN</td>\n",
       "      <td>0.0</td>\n",
       "      <td>0.0</td>\n",
       "      <td>3.0</td>\n",
       "      <td>0.0</td>\n",
       "      <td>IMC</td>\n",
       "      <td>Cruise</td>\n",
       "      <td>Probable Cause</td>\n",
       "      <td>01-01-1982</td>\n",
       "    </tr>\n",
       "  </tbody>\n",
       "</table>\n",
       "<p>10 rows × 31 columns</p>\n",
       "</div>"
      ],
      "text/plain": [
       "         Event.Id Investigation.Type Accident.Number  Event.Date  \\\n",
       "0  20001218X45444           Accident      SEA87LA080  1948-10-24   \n",
       "1  20001218X45447           Accident      LAX94LA336  1962-07-19   \n",
       "2  20061025X01555           Accident      NYC07LA005  1974-08-30   \n",
       "3  20001218X45448           Accident      LAX96LA321  1977-06-19   \n",
       "4  20041105X01764           Accident      CHI79FA064  1979-08-02   \n",
       "5  20170710X52551           Accident      NYC79AA106  1979-09-17   \n",
       "6  20001218X45446           Accident      CHI81LA106  1981-08-01   \n",
       "7  20020909X01562           Accident      SEA82DA022  1982-01-01   \n",
       "8  20020909X01561           Accident      NYC82DA015  1982-01-01   \n",
       "9  20020909X01560           Accident      MIA82DA029  1982-01-01   \n",
       "\n",
       "           Location        Country   Latitude   Longitude Airport.Code  \\\n",
       "0   MOOSE CREEK, ID  United States        NaN         NaN          NaN   \n",
       "1    BRIDGEPORT, CA  United States        NaN         NaN          NaN   \n",
       "2     Saltville, VA  United States  36.922223  -81.878056          NaN   \n",
       "3        EUREKA, CA  United States        NaN         NaN          NaN   \n",
       "4        Canton, OH  United States        NaN         NaN          NaN   \n",
       "5        BOSTON, MA  United States  42.445277  -70.758333          NaN   \n",
       "6        COTTON, MN  United States        NaN         NaN          NaN   \n",
       "7       PULLMAN, WA  United States        NaN         NaN          NaN   \n",
       "8  EAST HANOVER, NJ  United States        NaN         NaN          N58   \n",
       "9  JACKSONVILLE, FL  United States        NaN         NaN          JAX   \n",
       "\n",
       "         Airport.Name  ... Purpose.of.flight Air.carrier Total.Fatal.Injuries  \\\n",
       "0                 NaN  ...          Personal         NaN                  2.0   \n",
       "1                 NaN  ...          Personal         NaN                  4.0   \n",
       "2                 NaN  ...          Personal         NaN                  3.0   \n",
       "3                 NaN  ...          Personal         NaN                  2.0   \n",
       "4                 NaN  ...          Personal         NaN                  1.0   \n",
       "5                 NaN  ...               NaN  Air Canada                  NaN   \n",
       "6                 NaN  ...          Personal         NaN                  4.0   \n",
       "7  BLACKBURN AG STRIP  ...          Personal         NaN                  0.0   \n",
       "8             HANOVER  ...          Business         NaN                  0.0   \n",
       "9   JACKSONVILLE INTL  ...          Personal         NaN                  0.0   \n",
       "\n",
       "  Total.Serious.Injuries Total.Minor.Injuries Total.Uninjured  \\\n",
       "0                    0.0                  0.0             0.0   \n",
       "1                    0.0                  0.0             0.0   \n",
       "2                    NaN                  NaN             NaN   \n",
       "3                    0.0                  0.0             0.0   \n",
       "4                    2.0                  NaN             0.0   \n",
       "5                    NaN                  1.0            44.0   \n",
       "6                    0.0                  0.0             0.0   \n",
       "7                    0.0                  0.0             2.0   \n",
       "8                    0.0                  0.0             2.0   \n",
       "9                    0.0                  3.0             0.0   \n",
       "\n",
       "  Weather.Condition  Broad.phase.of.flight   Report.Status Publication.Date  \n",
       "0               UNK                 Cruise  Probable Cause              NaN  \n",
       "1               UNK                Unknown  Probable Cause       19-09-1996  \n",
       "2               IMC                 Cruise  Probable Cause       26-02-2007  \n",
       "3               IMC                 Cruise  Probable Cause       12-09-2000  \n",
       "4               VMC               Approach  Probable Cause       16-04-1980  \n",
       "5               VMC                  Climb  Probable Cause       19-09-2017  \n",
       "6               IMC                Unknown  Probable Cause       06-11-2001  \n",
       "7               VMC                Takeoff  Probable Cause       01-01-1982  \n",
       "8               IMC                Landing  Probable Cause       01-01-1982  \n",
       "9               IMC                 Cruise  Probable Cause       01-01-1982  \n",
       "\n",
       "[10 rows x 31 columns]"
      ]
     },
     "execution_count": 4,
     "metadata": {},
     "output_type": "execute_result"
    }
   ],
   "source": [
    "# load data using alias pd and view first 5 reconds of data \n",
    "\n",
    "df = pd.read_csv('data\\Aviation_Data.csv', low_memory=False)\n",
    "df.head(10)"
   ]
  },
  {
   "cell_type": "markdown",
   "metadata": {},
   "source": [
    "Get familiar with the data. Steps includes:\n",
    "\n",
    "* Understanding the dimensionality of the dataset\n",
    "* Investigating what type of data it contains, and the data types used to store it\n",
    "* Discovering how missing values are encoded, and how many there are\n",
    "* Getting a feel for what information it does and doesn't contain\n",
    "\n"
   ]
  },
  {
   "cell_type": "code",
   "execution_count": 5,
   "metadata": {},
   "outputs": [
    {
     "name": "stdout",
     "output_type": "stream",
     "text": [
      "<class 'pandas.core.frame.DataFrame'>\n",
      "RangeIndex: 90348 entries, 0 to 90347\n",
      "Data columns (total 31 columns):\n",
      " #   Column                  Non-Null Count  Dtype  \n",
      "---  ------                  --------------  -----  \n",
      " 0   Event.Id                88889 non-null  object \n",
      " 1   Investigation.Type      90348 non-null  object \n",
      " 2   Accident.Number         88889 non-null  object \n",
      " 3   Event.Date              88889 non-null  object \n",
      " 4   Location                88837 non-null  object \n",
      " 5   Country                 88663 non-null  object \n",
      " 6   Latitude                34382 non-null  object \n",
      " 7   Longitude               34373 non-null  object \n",
      " 8   Airport.Code            50132 non-null  object \n",
      " 9   Airport.Name            52704 non-null  object \n",
      " 10  Injury.Severity         87889 non-null  object \n",
      " 11  Aircraft.damage         85695 non-null  object \n",
      " 12  Aircraft.Category       32287 non-null  object \n",
      " 13  Registration.Number     87507 non-null  object \n",
      " 14  Make                    88826 non-null  object \n",
      " 15  Model                   88797 non-null  object \n",
      " 16  Amateur.Built           88787 non-null  object \n",
      " 17  Number.of.Engines       82805 non-null  float64\n",
      " 18  Engine.Type             81793 non-null  object \n",
      " 19  FAR.Description         32023 non-null  object \n",
      " 20  Schedule                12582 non-null  object \n",
      " 21  Purpose.of.flight       82697 non-null  object \n",
      " 22  Air.carrier             16648 non-null  object \n",
      " 23  Total.Fatal.Injuries    77488 non-null  float64\n",
      " 24  Total.Serious.Injuries  76379 non-null  float64\n",
      " 25  Total.Minor.Injuries    76956 non-null  float64\n",
      " 26  Total.Uninjured         82977 non-null  float64\n",
      " 27  Weather.Condition       84397 non-null  object \n",
      " 28  Broad.phase.of.flight   61724 non-null  object \n",
      " 29  Report.Status           82505 non-null  object \n",
      " 30  Publication.Date        73659 non-null  object \n",
      "dtypes: float64(5), object(26)\n",
      "memory usage: 21.4+ MB\n"
     ]
    }
   ],
   "source": [
    "# use .info() method to perfom metadata summary of df\n",
    "\n",
    "df.info()\n"
   ]
  },
  {
   "cell_type": "markdown",
   "metadata": {},
   "source": [
    "The cell below, I interpret the metadata information above"
   ]
  },
  {
   "cell_type": "code",
   "execution_count": 6,
   "metadata": {},
   "outputs": [
    {
     "data": {
      "text/plain": [
       "'\\nThe type of df is Dataframe.\\nData types: the dataset as 31 columns with 26 columns with object(26) data types\\nand 5 0nly as float(5).\\nThe entire dataset columns as missing values except column 2 Investigation.Type\\n\\n'"
      ]
     },
     "execution_count": 6,
     "metadata": {},
     "output_type": "execute_result"
    }
   ],
   "source": [
    "\"\"\"\n",
    "The type of df is Dataframe.\n",
    "Data types: the dataset as 31 columns with 26 columns with object(26) data types\n",
    "and 5 0nly as float(5).\n",
    "The entire dataset columns as missing values except column 2 Investigation.Type\n",
    "\n",
    "\"\"\""
   ]
  },
  {
   "cell_type": "code",
   "execution_count": 7,
   "metadata": {},
   "outputs": [
    {
     "data": {
      "application/vnd.microsoft.datawrangler.viewer.v0+json": {
       "columns": [
        {
         "name": "index",
         "rawType": "object",
         "type": "string"
        },
        {
         "name": "Number.of.Engines",
         "rawType": "float64",
         "type": "float"
        },
        {
         "name": "Total.Fatal.Injuries",
         "rawType": "float64",
         "type": "float"
        },
        {
         "name": "Total.Serious.Injuries",
         "rawType": "float64",
         "type": "float"
        },
        {
         "name": "Total.Minor.Injuries",
         "rawType": "float64",
         "type": "float"
        },
        {
         "name": "Total.Uninjured",
         "rawType": "float64",
         "type": "float"
        }
       ],
       "conversionMethod": "pd.DataFrame",
       "ref": "2332d6d1-df7e-4a8f-8539-442a00024fd1",
       "rows": [
        [
         "count",
         "82805.0",
         "77488.0",
         "76379.0",
         "76956.0",
         "82977.0"
        ],
        [
         "mean",
         "1.1465853511261397",
         "0.6478551517654346",
         "0.27988059545162935",
         "0.3570611778158948",
         "5.325439579642552"
        ],
        [
         "std",
         "0.4465102138196286",
         "5.485960107559197",
         "1.5440836452335867",
         "2.235625319656934",
         "27.913634431008564"
        ],
        [
         "min",
         "0.0",
         "0.0",
         "0.0",
         "0.0",
         "0.0"
        ],
        [
         "25%",
         "1.0",
         "0.0",
         "0.0",
         "0.0",
         "0.0"
        ],
        [
         "50%",
         "1.0",
         "0.0",
         "0.0",
         "0.0",
         "1.0"
        ],
        [
         "75%",
         "1.0",
         "0.0",
         "0.0",
         "0.0",
         "2.0"
        ],
        [
         "max",
         "8.0",
         "349.0",
         "161.0",
         "380.0",
         "699.0"
        ]
       ],
       "shape": {
        "columns": 5,
        "rows": 8
       }
      },
      "text/html": [
       "<div>\n",
       "<style scoped>\n",
       "    .dataframe tbody tr th:only-of-type {\n",
       "        vertical-align: middle;\n",
       "    }\n",
       "\n",
       "    .dataframe tbody tr th {\n",
       "        vertical-align: top;\n",
       "    }\n",
       "\n",
       "    .dataframe thead th {\n",
       "        text-align: right;\n",
       "    }\n",
       "</style>\n",
       "<table border=\"1\" class=\"dataframe\">\n",
       "  <thead>\n",
       "    <tr style=\"text-align: right;\">\n",
       "      <th></th>\n",
       "      <th>Number.of.Engines</th>\n",
       "      <th>Total.Fatal.Injuries</th>\n",
       "      <th>Total.Serious.Injuries</th>\n",
       "      <th>Total.Minor.Injuries</th>\n",
       "      <th>Total.Uninjured</th>\n",
       "    </tr>\n",
       "  </thead>\n",
       "  <tbody>\n",
       "    <tr>\n",
       "      <th>count</th>\n",
       "      <td>82805.000000</td>\n",
       "      <td>77488.000000</td>\n",
       "      <td>76379.000000</td>\n",
       "      <td>76956.000000</td>\n",
       "      <td>82977.000000</td>\n",
       "    </tr>\n",
       "    <tr>\n",
       "      <th>mean</th>\n",
       "      <td>1.146585</td>\n",
       "      <td>0.647855</td>\n",
       "      <td>0.279881</td>\n",
       "      <td>0.357061</td>\n",
       "      <td>5.325440</td>\n",
       "    </tr>\n",
       "    <tr>\n",
       "      <th>std</th>\n",
       "      <td>0.446510</td>\n",
       "      <td>5.485960</td>\n",
       "      <td>1.544084</td>\n",
       "      <td>2.235625</td>\n",
       "      <td>27.913634</td>\n",
       "    </tr>\n",
       "    <tr>\n",
       "      <th>min</th>\n",
       "      <td>0.000000</td>\n",
       "      <td>0.000000</td>\n",
       "      <td>0.000000</td>\n",
       "      <td>0.000000</td>\n",
       "      <td>0.000000</td>\n",
       "    </tr>\n",
       "    <tr>\n",
       "      <th>25%</th>\n",
       "      <td>1.000000</td>\n",
       "      <td>0.000000</td>\n",
       "      <td>0.000000</td>\n",
       "      <td>0.000000</td>\n",
       "      <td>0.000000</td>\n",
       "    </tr>\n",
       "    <tr>\n",
       "      <th>50%</th>\n",
       "      <td>1.000000</td>\n",
       "      <td>0.000000</td>\n",
       "      <td>0.000000</td>\n",
       "      <td>0.000000</td>\n",
       "      <td>1.000000</td>\n",
       "    </tr>\n",
       "    <tr>\n",
       "      <th>75%</th>\n",
       "      <td>1.000000</td>\n",
       "      <td>0.000000</td>\n",
       "      <td>0.000000</td>\n",
       "      <td>0.000000</td>\n",
       "      <td>2.000000</td>\n",
       "    </tr>\n",
       "    <tr>\n",
       "      <th>max</th>\n",
       "      <td>8.000000</td>\n",
       "      <td>349.000000</td>\n",
       "      <td>161.000000</td>\n",
       "      <td>380.000000</td>\n",
       "      <td>699.000000</td>\n",
       "    </tr>\n",
       "  </tbody>\n",
       "</table>\n",
       "</div>"
      ],
      "text/plain": [
       "       Number.of.Engines  Total.Fatal.Injuries  Total.Serious.Injuries  \\\n",
       "count       82805.000000          77488.000000            76379.000000   \n",
       "mean            1.146585              0.647855                0.279881   \n",
       "std             0.446510              5.485960                1.544084   \n",
       "min             0.000000              0.000000                0.000000   \n",
       "25%             1.000000              0.000000                0.000000   \n",
       "50%             1.000000              0.000000                0.000000   \n",
       "75%             1.000000              0.000000                0.000000   \n",
       "max             8.000000            349.000000              161.000000   \n",
       "\n",
       "       Total.Minor.Injuries  Total.Uninjured  \n",
       "count          76956.000000     82977.000000  \n",
       "mean               0.357061         5.325440  \n",
       "std                2.235625        27.913634  \n",
       "min                0.000000         0.000000  \n",
       "25%                0.000000         0.000000  \n",
       "50%                0.000000         1.000000  \n",
       "75%                0.000000         2.000000  \n",
       "max              380.000000       699.000000  "
      ]
     },
     "execution_count": 7,
     "metadata": {},
     "output_type": "execute_result"
    }
   ],
   "source": [
    "# use the .describe() to get statistics summary of df data\n",
    "\n",
    "df.describe()"
   ]
  },
  {
   "cell_type": "markdown",
   "metadata": {},
   "source": [
    "The cell bellow interpret the statistical summary above"
   ]
  },
  {
   "cell_type": "code",
   "execution_count": 8,
   "metadata": {},
   "outputs": [
    {
     "data": {
      "text/plain": [
       "'\\ndf total of 5 columns with float data types\\nThe count indicates total entries of each attribute\\nMean is total mean of each attribute\\nstd is the standard deviation of each attribute (how values are far from mean)\\nMIn and max shows the highest and lowest number in each attribute\\n25% is the lower quantile range in each attribute\\n50% is the middle quantile range in each attribute\\n75% is the upper quantile range in each attribute\\n'"
      ]
     },
     "execution_count": 8,
     "metadata": {},
     "output_type": "execute_result"
    }
   ],
   "source": [
    "\"\"\"\n",
    "df total of 5 columns with float data types\n",
    "The count indicates total entries of each attribute\n",
    "Mean is total mean of each attribute\n",
    "std is the standard deviation of each attribute (how values are far from mean)\n",
    "MIn and max shows the highest and lowest number in each attribute\n",
    "25% is the lower quantile range in each attribute\n",
    "50% is the middle quantile range in each attribute\n",
    "75% is the upper quantile range in each attribute\n",
    "\"\"\""
   ]
  },
  {
   "cell_type": "markdown",
   "metadata": {},
   "source": [
    "In the cell below, inspect the overall shape of the dataframe:\n"
   ]
  },
  {
   "cell_type": "code",
   "execution_count": 9,
   "metadata": {},
   "outputs": [
    {
     "data": {
      "text/plain": [
       "(90348, 31)"
      ]
     },
     "execution_count": 9,
     "metadata": {},
     "output_type": "execute_result"
    }
   ],
   "source": [
    "# shape of the df\n",
    "df.shape"
   ]
  },
  {
   "cell_type": "markdown",
   "metadata": {},
   "source": [
    "2. ## **Perform Data Cleaning**\n",
    "\n",
    "Based on my df dataset shape I choose to group data into two `numeric_values` and `categorical_values` for faster end efficient cleaning and performing other method and finally concantenate both DataFrame to one using variable `Aviation_df`\n",
    "\n",
    "* Method inteding to use are **.isna().sum()**, **.isnull()**, **.unique()**, **.value_count()**, **.notna()**, **.fillna()**, **.replace()**, **.drop()**, **.dropna()**, **.duplicated()**, **.drop_duplicated()**\n",
    "\n",
    "### Identifying and Handling Missing Values\n",
    "\n",
    "df contains alot of missing values. Let explore deep to know how to deal with the missing values.\n",
    "\n",
    "In the cell below first I group my dataset into two numeric_values and categorical_values"
   ]
  },
  {
   "cell_type": "code",
   "execution_count": 10,
   "metadata": {},
   "outputs": [
    {
     "data": {
      "text/plain": [
       "['Number.of.Engines',\n",
       " 'Total.Fatal.Injuries',\n",
       " 'Total.Serious.Injuries',\n",
       " 'Total.Minor.Injuries',\n",
       " 'Total.Uninjured']"
      ]
     },
     "execution_count": 10,
     "metadata": {},
     "output_type": "execute_result"
    }
   ],
   "source": [
    "# group the numeric_values from df\n",
    "\n",
    "numeric_values = df.select_dtypes(include=[float, int]).columns\n",
    "list(numeric_values)"
   ]
  },
  {
   "cell_type": "markdown",
   "metadata": {},
   "source": [
    "The above cell takes only numeric values from df and stores them in variable called numeric_values.\n",
    "\n"
   ]
  },
  {
   "cell_type": "code",
   "execution_count": 11,
   "metadata": {},
   "outputs": [
    {
     "data": {
      "text/plain": [
       "['Event.Id',\n",
       " 'Investigation.Type',\n",
       " 'Accident.Number',\n",
       " 'Event.Date',\n",
       " 'Location',\n",
       " 'Country',\n",
       " 'Latitude',\n",
       " 'Longitude',\n",
       " 'Airport.Code',\n",
       " 'Airport.Name',\n",
       " 'Injury.Severity',\n",
       " 'Aircraft.damage',\n",
       " 'Aircraft.Category',\n",
       " 'Registration.Number',\n",
       " 'Make',\n",
       " 'Model',\n",
       " 'Amateur.Built',\n",
       " 'Engine.Type',\n",
       " 'FAR.Description',\n",
       " 'Schedule',\n",
       " 'Purpose.of.flight',\n",
       " 'Air.carrier',\n",
       " 'Weather.Condition',\n",
       " 'Broad.phase.of.flight',\n",
       " 'Report.Status',\n",
       " 'Publication.Date']"
      ]
     },
     "execution_count": 11,
     "metadata": {},
     "output_type": "execute_result"
    }
   ],
   "source": [
    "# group the categorical values from df\n",
    "\n",
    "categorical_values = df.select_dtypes(include=['object']).columns\n",
    "list(categorical_values)"
   ]
  },
  {
   "cell_type": "markdown",
   "metadata": {},
   "source": [
    "In cell above I only take the categorical values from df and stored them in variable known as categorical_values"
   ]
  },
  {
   "cell_type": "markdown",
   "metadata": {},
   "source": [
    "### Next I want to perform cleaning first on numeric_values DataFrame"
   ]
  },
  {
   "cell_type": "code",
   "execution_count": 12,
   "metadata": {},
   "outputs": [
    {
     "data": {
      "text/plain": [
       "Number.of.Engines          7543\n",
       "Total.Fatal.Injuries      12860\n",
       "Total.Serious.Injuries    13969\n",
       "Total.Minor.Injuries      13392\n",
       "Total.Uninjured            7371\n",
       "dtype: int64"
      ]
     },
     "execution_count": 12,
     "metadata": {},
     "output_type": "execute_result"
    }
   ],
   "source": [
    "# check for all missing values\n",
    "\n",
    "df[numeric_values].isna().sum()"
   ]
  },
  {
   "cell_type": "markdown",
   "metadata": {},
   "source": [
    "The cell below interpret the numeric_values dataframe "
   ]
  },
  {
   "cell_type": "code",
   "execution_count": 13,
   "metadata": {},
   "outputs": [
    {
     "data": {
      "text/plain": [
       "'\\nThe numeric_values df as total of 5 columns both are float\\nAttribute Number.of.Engines as total of 7543 missing from 90348\\nAttribute Total.Fatal.Injuries  as total of 12860 missing from 90348\\nAttribute Total.Serious.Injuries  as total of 13969 missing from 90348\\nAttribute Total.Minor.Injuries   as total of Total.Uninjured   missing from 90348\\nAttribute Total.Fatal.Injuries  as total of  7371 missing from 90348\\n\\n'"
      ]
     },
     "execution_count": 13,
     "metadata": {},
     "output_type": "execute_result"
    }
   ],
   "source": [
    "\"\"\"\n",
    "The numeric_values df as total of 5 columns both are float\n",
    "Attribute Number.of.Engines as total of 7543 missing from 90348\n",
    "Attribute Total.Fatal.Injuries  as total of 12860 missing from 90348\n",
    "Attribute Total.Serious.Injuries  as total of 13969 missing from 90348\n",
    "Attribute Total.Minor.Injuries   as total of Total.Uninjured   missing from 90348\n",
    "Attribute Total.Fatal.Injuries  as total of  7371 missing from 90348\n",
    "\n",
    "\"\"\""
   ]
  },
  {
   "cell_type": "code",
   "execution_count": 14,
   "metadata": {},
   "outputs": [
    {
     "data": {
      "text/plain": [
       "(90348, 5)"
      ]
     },
     "execution_count": 14,
     "metadata": {},
     "output_type": "execute_result"
    }
   ],
   "source": [
    "# check the shape of the numeric_values df\n",
    "\n",
    "df[numeric_values].shape"
   ]
  },
  {
   "cell_type": "markdown",
   "metadata": {},
   "source": [
    "### Dealing with missing values in numeric_values DataFrame\n",
    "\n",
    "As total entries is 90348 and missing values range is small I choose to impute all missing values using median() as it will not affect the std . I will use **fillna()** method to impute\n"
   ]
  },
  {
   "cell_type": "code",
   "execution_count": 15,
   "metadata": {},
   "outputs": [],
   "source": [
    "\n",
    "# Impute missing values in numeric columns using median\n",
    "df[numeric_values] = df[numeric_values].fillna(df[numeric_values].median())\n",
    "\n"
   ]
  },
  {
   "cell_type": "markdown",
   "metadata": {},
   "source": [
    "Above cell impute for all missing values in numeric_values using median()\n",
    "\n",
    "In cell below I execute .info() method in numeric_values and .shape to check if the values have been imputed:"
   ]
  },
  {
   "cell_type": "code",
   "execution_count": 16,
   "metadata": {},
   "outputs": [
    {
     "name": "stdout",
     "output_type": "stream",
     "text": [
      "<class 'pandas.core.frame.DataFrame'>\n",
      "RangeIndex: 90348 entries, 0 to 90347\n",
      "Data columns (total 5 columns):\n",
      " #   Column                  Non-Null Count  Dtype  \n",
      "---  ------                  --------------  -----  \n",
      " 0   Number.of.Engines       90348 non-null  float64\n",
      " 1   Total.Fatal.Injuries    90348 non-null  float64\n",
      " 2   Total.Serious.Injuries  90348 non-null  float64\n",
      " 3   Total.Minor.Injuries    90348 non-null  float64\n",
      " 4   Total.Uninjured         90348 non-null  float64\n",
      "dtypes: float64(5)\n",
      "memory usage: 3.4 MB\n"
     ]
    }
   ],
   "source": [
    "# check the summary of the data\n",
    "\n",
    "df[numeric_values].info()"
   ]
  },
  {
   "cell_type": "markdown",
   "metadata": {},
   "source": [
    "The cell below check for any duplicates values in numeric_values DataFrame"
   ]
  },
  {
   "cell_type": "code",
   "execution_count": 17,
   "metadata": {},
   "outputs": [
    {
     "data": {
      "text/plain": [
       "np.int64(87605)"
      ]
     },
     "execution_count": 17,
     "metadata": {},
     "output_type": "execute_result"
    }
   ],
   "source": [
    "# check for any duplicates values in numeric_values\n",
    "\n",
    "df[numeric_values].duplicated().sum()"
   ]
  },
  {
   "cell_type": "code",
   "execution_count": 18,
   "metadata": {},
   "outputs": [
    {
     "data": {
      "text/plain": [
       "(90348, 5)"
      ]
     },
     "execution_count": 18,
     "metadata": {},
     "output_type": "execute_result"
    }
   ],
   "source": [
    "# check for the shape before droping duplicates\n",
    "df[numeric_values].shape"
   ]
  },
  {
   "cell_type": "markdown",
   "metadata": {},
   "source": [
    "In the above cell I checked for duplicated It shows some of records contains duplicates in numeric_values. But if you keenly look to other elements corresponding with such as **Event.Id** each is unique which means each record is unique too"
   ]
  },
  {
   "cell_type": "code",
   "execution_count": 19,
   "metadata": {},
   "outputs": [],
   "source": [
    "\n",
    "# Remove duplicates in numeric columns\n",
    "#df = df.drop_duplicates(subset=numeric_values)"
   ]
  },
  {
   "cell_type": "code",
   "execution_count": 20,
   "metadata": {},
   "outputs": [],
   "source": [
    "# check if all duplicates as been removed\n",
    "#df.duplicated()"
   ]
  },
  {
   "cell_type": "markdown",
   "metadata": {},
   "source": [
    "\n",
    "\n",
    "The cell below check for shape of numeric dataframe after removing the duplicates"
   ]
  },
  {
   "cell_type": "code",
   "execution_count": 21,
   "metadata": {},
   "outputs": [
    {
     "data": {
      "text/plain": [
       "(90348, 5)"
      ]
     },
     "execution_count": 21,
     "metadata": {},
     "output_type": "execute_result"
    }
   ],
   "source": [
    "# check for the shape after removing\n",
    "df[numeric_values].shape"
   ]
  },
  {
   "cell_type": "markdown",
   "metadata": {},
   "source": [
    "The shape as reduced as the duplicates as been removed"
   ]
  },
  {
   "cell_type": "code",
   "execution_count": 22,
   "metadata": {},
   "outputs": [],
   "source": [
    "# assigned remove_duplicates in numeric_values to apply changes \n",
    "#numeric_values = remove_duplicates.columns.tolist()  # Ensure it's a list of column names\n"
   ]
  },
  {
   "cell_type": "markdown",
   "metadata": {},
   "source": [
    "### Next Step Take categorical_values and Deal with Missing Values and duplicates\n",
    "\n",
    "for categorical values I will use .unique(), .value_counts() .dropna(), .drop() and isna().sum()"
   ]
  },
  {
   "cell_type": "code",
   "execution_count": 23,
   "metadata": {},
   "outputs": [
    {
     "data": {
      "text/plain": [
       "Event.Id                  1.614867\n",
       "Investigation.Type        0.000000\n",
       "Accident.Number           1.614867\n",
       "Event.Date                1.614867\n",
       "Location                  1.672422\n",
       "Country                   1.865011\n",
       "Latitude                 61.944924\n",
       "Longitude                61.954886\n",
       "Airport.Code             44.512330\n",
       "Airport.Name             41.665560\n",
       "Injury.Severity           2.721698\n",
       "Aircraft.damage           5.150086\n",
       "Aircraft.Category        64.263736\n",
       "Registration.Number       3.144508\n",
       "Make                      1.684597\n",
       "Model                     1.716695\n",
       "Amateur.Built             1.727764\n",
       "Engine.Type               9.468942\n",
       "FAR.Description          64.555939\n",
       "Schedule                 86.073848\n",
       "Purpose.of.flight         8.468367\n",
       "Air.carrier              81.573471\n",
       "Weather.Condition         6.586753\n",
       "Broad.phase.of.flight    31.681941\n",
       "Report.Status             8.680878\n",
       "Publication.Date         18.471909\n",
       "dtype: float64"
      ]
     },
     "execution_count": 23,
     "metadata": {},
     "output_type": "execute_result"
    }
   ],
   "source": [
    "missing_percent=(df[categorical_values].isna().sum() / len(df[categorical_values])) * 100\n",
    "missing_percent"
   ]
  },
  {
   "cell_type": "markdown",
   "metadata": {},
   "source": [
    "The cell above checks for missing values and founds out that only one attribute as all values other have missing values. Converted them into percentage. \n",
    "\n",
    "\n",
    "The cell below explains the output above and stragey to use for the missing values"
   ]
  },
  {
   "cell_type": "code",
   "execution_count": 24,
   "metadata": {},
   "outputs": [
    {
     "data": {
      "text/plain": [
       "np.int64(1)"
      ]
     },
     "execution_count": 24,
     "metadata": {},
     "output_type": "execute_result"
    }
   ],
   "source": [
    "df[categorical_values].value_counts().sum()"
   ]
  },
  {
   "cell_type": "code",
   "execution_count": 25,
   "metadata": {},
   "outputs": [
    {
     "data": {
      "text/plain": [
       "'\\nMost attributes have very low percentage of missing around 15 \\nBoth Latitude and Longitude have slightly high percent best approach to use is fill them using mode or drop\\nfor the attributes with high percents such as schedule and Air.carrier is good to drop\\n             \\n\\n'"
      ]
     },
     "execution_count": 25,
     "metadata": {},
     "output_type": "execute_result"
    }
   ],
   "source": [
    "\"\"\"\n",
    "Most attributes have very low percentage of missing around 15 \n",
    "Both Latitude and Longitude have slightly high percent best approach to use is fill them using mode or drop\n",
    "for the attributes with high percents such as schedule and Air.carrier is good to drop\n",
    "             \n",
    "\n",
    "\"\"\""
   ]
  },
  {
   "cell_type": "markdown",
   "metadata": {},
   "source": [
    "For all attributes with low percents I will impute them using mode.\n",
    "Fist I store them in a variable known as `low_percent` and impute them using mode in cell below"
   ]
  },
  {
   "cell_type": "code",
   "execution_count": 26,
   "metadata": {},
   "outputs": [
    {
     "name": "stdout",
     "output_type": "stream",
     "text": [
      "Low Missing Values (<50%): ['Event.Id', 'Investigation.Type', 'Accident.Number', 'Event.Date', 'Location', 'Country', 'Airport.Code', 'Airport.Name', 'Injury.Severity', 'Aircraft.damage', 'Registration.Number', 'Make', 'Model', 'Amateur.Built', 'Engine.Type', 'Purpose.of.flight', 'Weather.Condition', 'Broad.phase.of.flight', 'Report.Status', 'Publication.Date']\n",
      "Middle Missing Values (50-65%): ['Latitude', 'Longitude', 'Aircraft.Category', 'FAR.Description']\n",
      "High Missing Values (>80%): ['Schedule', 'Air.carrier']\n"
     ]
    }
   ],
   "source": [
    "# Categorize columns based on missing percentage\n",
    "\n",
    "low_percent = missing_percent[missing_percent < 50].index.tolist()\n",
    "middle_percent = missing_percent[(missing_percent >= 50) & (missing_percent <= 65)].index.tolist()\n",
    "high_percent = missing_percent[missing_percent > 80].index.tolist()\n",
    "\n",
    "# Print results\n",
    "print(\"Low Missing Values (<50%):\", low_percent)\n",
    "print(\"Middle Missing Values (50-65%):\", middle_percent)\n",
    "print(\"High Missing Values (>80%):\", high_percent)"
   ]
  },
  {
   "cell_type": "markdown",
   "metadata": {},
   "source": [
    "In the above cell I just grouped all attributes with less than 50 % to variable called low_percent with intede to impute them with mode and the one between 50 to 65 % to a variable `middle_percent` to impute with 'unknown' and those with 80% stored them to variable `high_percent`and drop them since the missing values are alot"
   ]
  },
  {
   "cell_type": "code",
   "execution_count": 27,
   "metadata": {},
   "outputs": [],
   "source": [
    "# Impute low_percent columns with mode\n",
    "for col in low_percent:\n",
    "    if col in df.columns:\n",
    "        df.loc[:, col] = df[col].fillna(df[col].mode()[0])\n",
    "\n",
    "# Impute middle_percent columns with \"Unknown\"\n",
    "for col in middle_percent:\n",
    "    if col in df.columns:\n",
    "        df.loc[:, col] = df[col].fillna(\"Unknown\")\n",
    "\n",
    "# Drop high_percent columns\n",
    "df.drop(columns=high_percent, inplace=True)"
   ]
  },
  {
   "cell_type": "code",
   "execution_count": 28,
   "metadata": {},
   "outputs": [],
   "source": [
    "# Recalculate categorical columns after dropping\n",
    "categorical_values = df.select_dtypes(include=['object']).columns"
   ]
  },
  {
   "cell_type": "markdown",
   "metadata": {},
   "source": [
    "the cell above I create a for loop to iterate through low_percent and impute all missing values with mode as the percent of the missing values was not too high. And for the middle_percent i iterate with for loop to impute with 'unknown' and lastly for all missing values with 80% and above I droped them as it is hard to impute them.\n",
    "The **inplace = True** is used to change the list but not return new one"
   ]
  },
  {
   "cell_type": "markdown",
   "metadata": {},
   "source": [
    "The cell below reinitilizes the categorical_values dataframe after droping column `Schedule` and `Air.Carrier` to avoid geting errors\n",
    "\n",
    "Then goes ahead to check for empty values again"
   ]
  },
  {
   "cell_type": "code",
   "execution_count": 29,
   "metadata": {},
   "outputs": [
    {
     "data": {
      "text/plain": [
       "Event.Id                 0\n",
       "Investigation.Type       0\n",
       "Accident.Number          0\n",
       "Event.Date               0\n",
       "Location                 0\n",
       "Country                  0\n",
       "Latitude                 0\n",
       "Longitude                0\n",
       "Airport.Code             0\n",
       "Airport.Name             0\n",
       "Injury.Severity          0\n",
       "Aircraft.damage          0\n",
       "Aircraft.Category        0\n",
       "Registration.Number      0\n",
       "Make                     0\n",
       "Model                    0\n",
       "Amateur.Built            0\n",
       "Engine.Type              0\n",
       "FAR.Description          0\n",
       "Purpose.of.flight        0\n",
       "Weather.Condition        0\n",
       "Broad.phase.of.flight    0\n",
       "Report.Status            0\n",
       "Publication.Date         0\n",
       "dtype: int64"
      ]
     },
     "execution_count": 29,
     "metadata": {},
     "output_type": "execute_result"
    }
   ],
   "source": [
    "\n",
    "\n",
    "df[categorical_values].isna().sum()"
   ]
  },
  {
   "cell_type": "markdown",
   "metadata": {},
   "source": [
    "Perfect the categorical_values is now clean and ready to work with"
   ]
  },
  {
   "cell_type": "code",
   "execution_count": 30,
   "metadata": {},
   "outputs": [
    {
     "name": "stdout",
     "output_type": "stream",
     "text": [
      "<class 'pandas.core.frame.DataFrame'>\n",
      "RangeIndex: 90348 entries, 0 to 90347\n",
      "Data columns (total 24 columns):\n",
      " #   Column                 Non-Null Count  Dtype \n",
      "---  ------                 --------------  ----- \n",
      " 0   Event.Id               90348 non-null  object\n",
      " 1   Investigation.Type     90348 non-null  object\n",
      " 2   Accident.Number        90348 non-null  object\n",
      " 3   Event.Date             90348 non-null  object\n",
      " 4   Location               90348 non-null  object\n",
      " 5   Country                90348 non-null  object\n",
      " 6   Latitude               90348 non-null  object\n",
      " 7   Longitude              90348 non-null  object\n",
      " 8   Airport.Code           90348 non-null  object\n",
      " 9   Airport.Name           90348 non-null  object\n",
      " 10  Injury.Severity        90348 non-null  object\n",
      " 11  Aircraft.damage        90348 non-null  object\n",
      " 12  Aircraft.Category      90348 non-null  object\n",
      " 13  Registration.Number    90348 non-null  object\n",
      " 14  Make                   90348 non-null  object\n",
      " 15  Model                  90348 non-null  object\n",
      " 16  Amateur.Built          90348 non-null  object\n",
      " 17  Engine.Type            90348 non-null  object\n",
      " 18  FAR.Description        90348 non-null  object\n",
      " 19  Purpose.of.flight      90348 non-null  object\n",
      " 20  Weather.Condition      90348 non-null  object\n",
      " 21  Broad.phase.of.flight  90348 non-null  object\n",
      " 22  Report.Status          90348 non-null  object\n",
      " 23  Publication.Date       90348 non-null  object\n",
      "dtypes: object(24)\n",
      "memory usage: 16.5+ MB\n"
     ]
    }
   ],
   "source": [
    "# checks if all missing values have been imputed\n",
    "df[categorical_values].info()"
   ]
  },
  {
   "cell_type": "code",
   "execution_count": 31,
   "metadata": {},
   "outputs": [
    {
     "data": {
      "text/plain": [
       "(90348, 24)"
      ]
     },
     "execution_count": 31,
     "metadata": {},
     "output_type": "execute_result"
    }
   ],
   "source": [
    "# checking the shape of the categorical_values after imputing\n",
    "df[categorical_values].shape"
   ]
  },
  {
   "cell_type": "markdown",
   "metadata": {},
   "source": [
    "The shape of categorical_values reduces the columns from 26 to 24 as I just droped two columns `Schedule` and `Air.Carrier`\n",
    "\n",
    "\n",
    "The cell below checks for duplicates value"
   ]
  },
  {
   "cell_type": "code",
   "execution_count": 32,
   "metadata": {},
   "outputs": [
    {
     "data": {
      "text/plain": [
       "0        False\n",
       "1        False\n",
       "2        False\n",
       "3        False\n",
       "4        False\n",
       "         ...  \n",
       "90343    False\n",
       "90344    False\n",
       "90345    False\n",
       "90346    False\n",
       "90347    False\n",
       "Length: 90348, dtype: bool"
      ]
     },
     "execution_count": 32,
     "metadata": {},
     "output_type": "execute_result"
    }
   ],
   "source": [
    "# checking for duplicates \n",
    "\n",
    "df[categorical_values].duplicated()"
   ]
  },
  {
   "cell_type": "markdown",
   "metadata": {},
   "source": [
    "No duplicates found in categorical_values"
   ]
  },
  {
   "cell_type": "markdown",
   "metadata": {},
   "source": [
    "## **Next step I will Concatenate my two df numeric_values and categorical_values to one** \n",
    "\n",
    "I will store them in **Aviation_df** as one for efficient working with"
   ]
  },
  {
   "cell_type": "code",
   "execution_count": 33,
   "metadata": {},
   "outputs": [
    {
     "data": {
      "application/vnd.microsoft.datawrangler.viewer.v0+json": {
       "columns": [
        {
         "name": "index",
         "rawType": "int64",
         "type": "integer"
        },
        {
         "name": "Event.Id",
         "rawType": "object",
         "type": "string"
        },
        {
         "name": "Investigation.Type",
         "rawType": "object",
         "type": "string"
        },
        {
         "name": "Accident.Number",
         "rawType": "object",
         "type": "string"
        },
        {
         "name": "Event.Date",
         "rawType": "object",
         "type": "string"
        },
        {
         "name": "Location",
         "rawType": "object",
         "type": "string"
        },
        {
         "name": "Country",
         "rawType": "object",
         "type": "string"
        },
        {
         "name": "Latitude",
         "rawType": "object",
         "type": "string"
        },
        {
         "name": "Longitude",
         "rawType": "object",
         "type": "string"
        },
        {
         "name": "Airport.Code",
         "rawType": "object",
         "type": "string"
        },
        {
         "name": "Airport.Name",
         "rawType": "object",
         "type": "string"
        },
        {
         "name": "Injury.Severity",
         "rawType": "object",
         "type": "string"
        },
        {
         "name": "Aircraft.damage",
         "rawType": "object",
         "type": "string"
        },
        {
         "name": "Aircraft.Category",
         "rawType": "object",
         "type": "string"
        },
        {
         "name": "Registration.Number",
         "rawType": "object",
         "type": "string"
        },
        {
         "name": "Make",
         "rawType": "object",
         "type": "string"
        },
        {
         "name": "Model",
         "rawType": "object",
         "type": "string"
        },
        {
         "name": "Amateur.Built",
         "rawType": "object",
         "type": "string"
        },
        {
         "name": "Engine.Type",
         "rawType": "object",
         "type": "string"
        },
        {
         "name": "FAR.Description",
         "rawType": "object",
         "type": "string"
        },
        {
         "name": "Purpose.of.flight",
         "rawType": "object",
         "type": "string"
        },
        {
         "name": "Weather.Condition",
         "rawType": "object",
         "type": "string"
        },
        {
         "name": "Broad.phase.of.flight",
         "rawType": "object",
         "type": "string"
        },
        {
         "name": "Report.Status",
         "rawType": "object",
         "type": "string"
        },
        {
         "name": "Publication.Date",
         "rawType": "object",
         "type": "string"
        },
        {
         "name": "Number.of.Engines",
         "rawType": "float64",
         "type": "float"
        },
        {
         "name": "Total.Fatal.Injuries",
         "rawType": "float64",
         "type": "float"
        },
        {
         "name": "Total.Serious.Injuries",
         "rawType": "float64",
         "type": "float"
        },
        {
         "name": "Total.Minor.Injuries",
         "rawType": "float64",
         "type": "float"
        },
        {
         "name": "Total.Uninjured",
         "rawType": "float64",
         "type": "float"
        }
       ],
       "conversionMethod": "pd.DataFrame",
       "ref": "9146f5b5-ad61-4668-a933-142585c93bc7",
       "rows": [
        [
         "0",
         "20001218X45444",
         "Accident",
         "SEA87LA080",
         "1948-10-24",
         "MOOSE CREEK, ID",
         "United States",
         "Unknown",
         "Unknown",
         "NONE",
         "Private",
         "Fatal(2)",
         "Destroyed",
         "Unknown",
         "NC6404",
         "Stinson",
         "108-3",
         "No",
         "Reciprocating",
         "Unknown",
         "Personal",
         "UNK",
         "Cruise",
         "Probable Cause",
         "25-09-2020",
         "1.0",
         "2.0",
         "0.0",
         "0.0",
         "0.0"
        ],
        [
         "1",
         "20001218X45447",
         "Accident",
         "LAX94LA336",
         "1962-07-19",
         "BRIDGEPORT, CA",
         "United States",
         "Unknown",
         "Unknown",
         "NONE",
         "Private",
         "Fatal(4)",
         "Destroyed",
         "Unknown",
         "N5069P",
         "Piper",
         "PA24-180",
         "No",
         "Reciprocating",
         "Unknown",
         "Personal",
         "UNK",
         "Unknown",
         "Probable Cause",
         "19-09-1996",
         "1.0",
         "4.0",
         "0.0",
         "0.0",
         "0.0"
        ],
        [
         "2",
         "20061025X01555",
         "Accident",
         "NYC07LA005",
         "1974-08-30",
         "Saltville, VA",
         "United States",
         "36.922223",
         "-81.878056",
         "NONE",
         "Private",
         "Fatal(3)",
         "Destroyed",
         "Unknown",
         "N5142R",
         "Cessna",
         "172M",
         "No",
         "Reciprocating",
         "Unknown",
         "Personal",
         "IMC",
         "Cruise",
         "Probable Cause",
         "26-02-2007",
         "1.0",
         "3.0",
         "0.0",
         "0.0",
         "1.0"
        ],
        [
         "3",
         "20001218X45448",
         "Accident",
         "LAX96LA321",
         "1977-06-19",
         "EUREKA, CA",
         "United States",
         "Unknown",
         "Unknown",
         "NONE",
         "Private",
         "Fatal(2)",
         "Destroyed",
         "Unknown",
         "N1168J",
         "Rockwell",
         "112",
         "No",
         "Reciprocating",
         "Unknown",
         "Personal",
         "IMC",
         "Cruise",
         "Probable Cause",
         "12-09-2000",
         "1.0",
         "2.0",
         "0.0",
         "0.0",
         "0.0"
        ],
        [
         "4",
         "20041105X01764",
         "Accident",
         "CHI79FA064",
         "1979-08-02",
         "Canton, OH",
         "United States",
         "Unknown",
         "Unknown",
         "NONE",
         "Private",
         "Fatal(1)",
         "Destroyed",
         "Unknown",
         "N15NY",
         "Cessna",
         "501",
         "No",
         "Reciprocating",
         "Unknown",
         "Personal",
         "VMC",
         "Approach",
         "Probable Cause",
         "16-04-1980",
         "1.0",
         "1.0",
         "2.0",
         "0.0",
         "0.0"
        ]
       ],
       "shape": {
        "columns": 29,
        "rows": 5
       }
      },
      "text/html": [
       "<div>\n",
       "<style scoped>\n",
       "    .dataframe tbody tr th:only-of-type {\n",
       "        vertical-align: middle;\n",
       "    }\n",
       "\n",
       "    .dataframe tbody tr th {\n",
       "        vertical-align: top;\n",
       "    }\n",
       "\n",
       "    .dataframe thead th {\n",
       "        text-align: right;\n",
       "    }\n",
       "</style>\n",
       "<table border=\"1\" class=\"dataframe\">\n",
       "  <thead>\n",
       "    <tr style=\"text-align: right;\">\n",
       "      <th></th>\n",
       "      <th>Event.Id</th>\n",
       "      <th>Investigation.Type</th>\n",
       "      <th>Accident.Number</th>\n",
       "      <th>Event.Date</th>\n",
       "      <th>Location</th>\n",
       "      <th>Country</th>\n",
       "      <th>Latitude</th>\n",
       "      <th>Longitude</th>\n",
       "      <th>Airport.Code</th>\n",
       "      <th>Airport.Name</th>\n",
       "      <th>...</th>\n",
       "      <th>Purpose.of.flight</th>\n",
       "      <th>Weather.Condition</th>\n",
       "      <th>Broad.phase.of.flight</th>\n",
       "      <th>Report.Status</th>\n",
       "      <th>Publication.Date</th>\n",
       "      <th>Number.of.Engines</th>\n",
       "      <th>Total.Fatal.Injuries</th>\n",
       "      <th>Total.Serious.Injuries</th>\n",
       "      <th>Total.Minor.Injuries</th>\n",
       "      <th>Total.Uninjured</th>\n",
       "    </tr>\n",
       "  </thead>\n",
       "  <tbody>\n",
       "    <tr>\n",
       "      <th>0</th>\n",
       "      <td>20001218X45444</td>\n",
       "      <td>Accident</td>\n",
       "      <td>SEA87LA080</td>\n",
       "      <td>1948-10-24</td>\n",
       "      <td>MOOSE CREEK, ID</td>\n",
       "      <td>United States</td>\n",
       "      <td>Unknown</td>\n",
       "      <td>Unknown</td>\n",
       "      <td>NONE</td>\n",
       "      <td>Private</td>\n",
       "      <td>...</td>\n",
       "      <td>Personal</td>\n",
       "      <td>UNK</td>\n",
       "      <td>Cruise</td>\n",
       "      <td>Probable Cause</td>\n",
       "      <td>25-09-2020</td>\n",
       "      <td>1.0</td>\n",
       "      <td>2.0</td>\n",
       "      <td>0.0</td>\n",
       "      <td>0.0</td>\n",
       "      <td>0.0</td>\n",
       "    </tr>\n",
       "    <tr>\n",
       "      <th>1</th>\n",
       "      <td>20001218X45447</td>\n",
       "      <td>Accident</td>\n",
       "      <td>LAX94LA336</td>\n",
       "      <td>1962-07-19</td>\n",
       "      <td>BRIDGEPORT, CA</td>\n",
       "      <td>United States</td>\n",
       "      <td>Unknown</td>\n",
       "      <td>Unknown</td>\n",
       "      <td>NONE</td>\n",
       "      <td>Private</td>\n",
       "      <td>...</td>\n",
       "      <td>Personal</td>\n",
       "      <td>UNK</td>\n",
       "      <td>Unknown</td>\n",
       "      <td>Probable Cause</td>\n",
       "      <td>19-09-1996</td>\n",
       "      <td>1.0</td>\n",
       "      <td>4.0</td>\n",
       "      <td>0.0</td>\n",
       "      <td>0.0</td>\n",
       "      <td>0.0</td>\n",
       "    </tr>\n",
       "    <tr>\n",
       "      <th>2</th>\n",
       "      <td>20061025X01555</td>\n",
       "      <td>Accident</td>\n",
       "      <td>NYC07LA005</td>\n",
       "      <td>1974-08-30</td>\n",
       "      <td>Saltville, VA</td>\n",
       "      <td>United States</td>\n",
       "      <td>36.922223</td>\n",
       "      <td>-81.878056</td>\n",
       "      <td>NONE</td>\n",
       "      <td>Private</td>\n",
       "      <td>...</td>\n",
       "      <td>Personal</td>\n",
       "      <td>IMC</td>\n",
       "      <td>Cruise</td>\n",
       "      <td>Probable Cause</td>\n",
       "      <td>26-02-2007</td>\n",
       "      <td>1.0</td>\n",
       "      <td>3.0</td>\n",
       "      <td>0.0</td>\n",
       "      <td>0.0</td>\n",
       "      <td>1.0</td>\n",
       "    </tr>\n",
       "    <tr>\n",
       "      <th>3</th>\n",
       "      <td>20001218X45448</td>\n",
       "      <td>Accident</td>\n",
       "      <td>LAX96LA321</td>\n",
       "      <td>1977-06-19</td>\n",
       "      <td>EUREKA, CA</td>\n",
       "      <td>United States</td>\n",
       "      <td>Unknown</td>\n",
       "      <td>Unknown</td>\n",
       "      <td>NONE</td>\n",
       "      <td>Private</td>\n",
       "      <td>...</td>\n",
       "      <td>Personal</td>\n",
       "      <td>IMC</td>\n",
       "      <td>Cruise</td>\n",
       "      <td>Probable Cause</td>\n",
       "      <td>12-09-2000</td>\n",
       "      <td>1.0</td>\n",
       "      <td>2.0</td>\n",
       "      <td>0.0</td>\n",
       "      <td>0.0</td>\n",
       "      <td>0.0</td>\n",
       "    </tr>\n",
       "    <tr>\n",
       "      <th>4</th>\n",
       "      <td>20041105X01764</td>\n",
       "      <td>Accident</td>\n",
       "      <td>CHI79FA064</td>\n",
       "      <td>1979-08-02</td>\n",
       "      <td>Canton, OH</td>\n",
       "      <td>United States</td>\n",
       "      <td>Unknown</td>\n",
       "      <td>Unknown</td>\n",
       "      <td>NONE</td>\n",
       "      <td>Private</td>\n",
       "      <td>...</td>\n",
       "      <td>Personal</td>\n",
       "      <td>VMC</td>\n",
       "      <td>Approach</td>\n",
       "      <td>Probable Cause</td>\n",
       "      <td>16-04-1980</td>\n",
       "      <td>1.0</td>\n",
       "      <td>1.0</td>\n",
       "      <td>2.0</td>\n",
       "      <td>0.0</td>\n",
       "      <td>0.0</td>\n",
       "    </tr>\n",
       "  </tbody>\n",
       "</table>\n",
       "<p>5 rows × 29 columns</p>\n",
       "</div>"
      ],
      "text/plain": [
       "         Event.Id Investigation.Type Accident.Number  Event.Date  \\\n",
       "0  20001218X45444           Accident      SEA87LA080  1948-10-24   \n",
       "1  20001218X45447           Accident      LAX94LA336  1962-07-19   \n",
       "2  20061025X01555           Accident      NYC07LA005  1974-08-30   \n",
       "3  20001218X45448           Accident      LAX96LA321  1977-06-19   \n",
       "4  20041105X01764           Accident      CHI79FA064  1979-08-02   \n",
       "\n",
       "          Location        Country   Latitude   Longitude Airport.Code  \\\n",
       "0  MOOSE CREEK, ID  United States    Unknown     Unknown         NONE   \n",
       "1   BRIDGEPORT, CA  United States    Unknown     Unknown         NONE   \n",
       "2    Saltville, VA  United States  36.922223  -81.878056         NONE   \n",
       "3       EUREKA, CA  United States    Unknown     Unknown         NONE   \n",
       "4       Canton, OH  United States    Unknown     Unknown         NONE   \n",
       "\n",
       "  Airport.Name  ... Purpose.of.flight Weather.Condition Broad.phase.of.flight  \\\n",
       "0      Private  ...          Personal               UNK                Cruise   \n",
       "1      Private  ...          Personal               UNK               Unknown   \n",
       "2      Private  ...          Personal               IMC                Cruise   \n",
       "3      Private  ...          Personal               IMC                Cruise   \n",
       "4      Private  ...          Personal               VMC              Approach   \n",
       "\n",
       "    Report.Status Publication.Date Number.of.Engines Total.Fatal.Injuries  \\\n",
       "0  Probable Cause       25-09-2020               1.0                  2.0   \n",
       "1  Probable Cause       19-09-1996               1.0                  4.0   \n",
       "2  Probable Cause       26-02-2007               1.0                  3.0   \n",
       "3  Probable Cause       12-09-2000               1.0                  2.0   \n",
       "4  Probable Cause       16-04-1980               1.0                  1.0   \n",
       "\n",
       "  Total.Serious.Injuries Total.Minor.Injuries Total.Uninjured  \n",
       "0                    0.0                  0.0             0.0  \n",
       "1                    0.0                  0.0             0.0  \n",
       "2                    0.0                  0.0             1.0  \n",
       "3                    0.0                  0.0             0.0  \n",
       "4                    2.0                  0.0             0.0  \n",
       "\n",
       "[5 rows x 29 columns]"
      ]
     },
     "execution_count": 33,
     "metadata": {},
     "output_type": "execute_result"
    }
   ],
   "source": [
    "# Create the final DataFrame\n",
    "Aviation_df = pd.concat([df[categorical_values], df[numeric_values]], axis=1)\n",
    "Aviation_df.head()\n",
    "\n",
    "\n"
   ]
  },
  {
   "cell_type": "code",
   "execution_count": 34,
   "metadata": {},
   "outputs": [
    {
     "name": "stdout",
     "output_type": "stream",
     "text": [
      "<class 'pandas.core.frame.DataFrame'>\n",
      "RangeIndex: 90348 entries, 0 to 90347\n",
      "Data columns (total 29 columns):\n",
      " #   Column                  Non-Null Count  Dtype  \n",
      "---  ------                  --------------  -----  \n",
      " 0   Event.Id                90348 non-null  object \n",
      " 1   Investigation.Type      90348 non-null  object \n",
      " 2   Accident.Number         90348 non-null  object \n",
      " 3   Event.Date              90348 non-null  object \n",
      " 4   Location                90348 non-null  object \n",
      " 5   Country                 90348 non-null  object \n",
      " 6   Latitude                90348 non-null  object \n",
      " 7   Longitude               90348 non-null  object \n",
      " 8   Airport.Code            90348 non-null  object \n",
      " 9   Airport.Name            90348 non-null  object \n",
      " 10  Injury.Severity         90348 non-null  object \n",
      " 11  Aircraft.damage         90348 non-null  object \n",
      " 12  Aircraft.Category       90348 non-null  object \n",
      " 13  Registration.Number     90348 non-null  object \n",
      " 14  Make                    90348 non-null  object \n",
      " 15  Model                   90348 non-null  object \n",
      " 16  Amateur.Built           90348 non-null  object \n",
      " 17  Engine.Type             90348 non-null  object \n",
      " 18  FAR.Description         90348 non-null  object \n",
      " 19  Purpose.of.flight       90348 non-null  object \n",
      " 20  Weather.Condition       90348 non-null  object \n",
      " 21  Broad.phase.of.flight   90348 non-null  object \n",
      " 22  Report.Status           90348 non-null  object \n",
      " 23  Publication.Date        90348 non-null  object \n",
      " 24  Number.of.Engines       90348 non-null  float64\n",
      " 25  Total.Fatal.Injuries    90348 non-null  float64\n",
      " 26  Total.Serious.Injuries  90348 non-null  float64\n",
      " 27  Total.Minor.Injuries    90348 non-null  float64\n",
      " 28  Total.Uninjured         90348 non-null  float64\n",
      "dtypes: float64(5), object(24)\n",
      "memory usage: 20.0+ MB\n"
     ]
    }
   ],
   "source": [
    "Aviation_df.info()"
   ]
  },
  {
   "cell_type": "code",
   "execution_count": 35,
   "metadata": {},
   "outputs": [
    {
     "data": {
      "text/plain": [
       "(90348, 29)"
      ]
     },
     "execution_count": 35,
     "metadata": {},
     "output_type": "execute_result"
    }
   ],
   "source": [
    "Aviation_df.shape"
   ]
  },
  {
   "cell_type": "markdown",
   "metadata": {},
   "source": [
    "### Now the data is prepared, Cleaned ready for Analysis\n",
    "\n",
    "The data is stored under variable `Avition_df`"
   ]
  },
  {
   "cell_type": "markdown",
   "metadata": {},
   "source": [
    "## **Data Analysis**\n",
    "\n",
    "### Key Business Questions/ Business Objectives\n",
    "\n",
    "1. **Which aircraft models have the lowest accident rates?**\n",
    "\n",
    "The goal of this analysis is to identify aircraft models with the lowest accident rates. This will help the company prioritize safer aircraft for purchase and operation. To achieve this, I will analyze the Aviation_df dataset, focusing on aircraft models and their associated accident data.\n",
    "\n",
    "For effective analysis I will be using this features to get insights:\n",
    "\n",
    "* Model: The aircraft model (e.g., Boeing 737, Cessna 172).\n",
    "* Make: The manufacturer of the aircraft (e.g., Boeing, Airbus, Cessna).\n",
    "* Total.Fatal.Injuries: Total fatalities per accident.\n",
    "* Total.Serious.Injuries: Total serious injuries per accident.\n",
    "* Total.Minor.Injuries: Total minor injuries per accident.\n",
    "* Total.Uninjured: Total uninjured individuals per accident.\n",
    "* Event.Date: Date of the accident (to analyze trends over time).\n",
    "* Aircraft.Category: Type of aircraft (e.g., airplane, helicopter).\n",
    "* Engine.Type: Type of engine (e.g., piston, turbojet).\n",
    "* Broad.phase.of.flight: Phase of flight when the accident occurred (e.g., takeoff, landing)."
   ]
  },
  {
   "cell_type": "markdown",
   "metadata": {},
   "source": [
    "\n",
    "\n",
    "In cell below I am calculating the Accident counts per Aircraft model by grouping the data by `Model` and count the number of accidents for each model. Second I find the `Injury` and `fatality` metrics by grouping data by `Model` and calculate **Total Accidents**: count of accidents per model, **Total Fatalities:** sum of Total.Fatal.Injuries, **Total Injuries:** Sum of Total.Serious.Injuries and Total.Minor.Injuries, **Average Severity:** Average fatalities per accident(Total.Fatal.Injuries / Total Accidents).\n",
    "\n",
    "I will achieve this by using **Data Aggregation** methods and `.groupby()` method"
   ]
  },
  {
   "cell_type": "code",
   "execution_count": 36,
   "metadata": {},
   "outputs": [
    {
     "data": {
      "application/vnd.microsoft.datawrangler.viewer.v0+json": {
       "columns": [
        {
         "name": "index",
         "rawType": "int64",
         "type": "integer"
        },
        {
         "name": "Model",
         "rawType": "object",
         "type": "string"
        },
        {
         "name": "Total_Accidents",
         "rawType": "int64",
         "type": "integer"
        },
        {
         "name": "Total_Fatalities",
         "rawType": "float64",
         "type": "float"
        },
        {
         "name": "Total_Serious_Injuries",
         "rawType": "float64",
         "type": "float"
        },
        {
         "name": "Total_Minor_Injuries",
         "rawType": "float64",
         "type": "float"
        },
        {
         "name": "Average_Fatalities",
         "rawType": "float64",
         "type": "float"
        },
        {
         "name": "Total_Injuries",
         "rawType": "float64",
         "type": "float"
        }
       ],
       "conversionMethod": "pd.DataFrame",
       "ref": "9177628e-de5a-45d9-9f68-43bc33564bbf",
       "rows": [
        [
         "0",
         "100 180",
         "1",
         "0.0",
         "0.0",
         "0.0",
         "0.0",
         "0.0"
        ],
        [
         "1",
         "100-160",
         "1",
         "0.0",
         "0.0",
         "0.0",
         "0.0",
         "0.0"
        ],
        [
         "2",
         "1000",
         "1",
         "0.0",
         "1.0",
         "0.0",
         "0.0",
         "1.0"
        ],
        [
         "3",
         "1000 STU",
         "1",
         "0.0",
         "0.0",
         "0.0",
         "0.0",
         "0.0"
        ],
        [
         "4",
         "1000LT",
         "1",
         "3.0",
         "0.0",
         "0.0",
         "3.0",
         "0.0"
        ],
        [
         "5",
         "1002",
         "1",
         "0.0",
         "2.0",
         "0.0",
         "0.0",
         "2.0"
        ],
        [
         "6",
         "100D2",
         "1",
         "2.0",
         "0.0",
         "0.0",
         "2.0",
         "0.0"
        ],
        [
         "7",
         "Zodiac CH-601-H",
         "1",
         "0.0",
         "0.0",
         "0.0",
         "0.0",
         "0.0"
        ],
        [
         "8",
         "1-11",
         "1",
         "0.0",
         "0.0",
         "0.0",
         "0.0",
         "0.0"
        ],
        [
         "9",
         "1-11-204AF",
         "1",
         "0.0",
         "0.0",
         "0.0",
         "0.0",
         "0.0"
        ]
       ],
       "shape": {
        "columns": 7,
        "rows": 10
       }
      },
      "text/html": [
       "<div>\n",
       "<style scoped>\n",
       "    .dataframe tbody tr th:only-of-type {\n",
       "        vertical-align: middle;\n",
       "    }\n",
       "\n",
       "    .dataframe tbody tr th {\n",
       "        vertical-align: top;\n",
       "    }\n",
       "\n",
       "    .dataframe thead th {\n",
       "        text-align: right;\n",
       "    }\n",
       "</style>\n",
       "<table border=\"1\" class=\"dataframe\">\n",
       "  <thead>\n",
       "    <tr style=\"text-align: right;\">\n",
       "      <th></th>\n",
       "      <th>Model</th>\n",
       "      <th>Total_Accidents</th>\n",
       "      <th>Total_Fatalities</th>\n",
       "      <th>Total_Serious_Injuries</th>\n",
       "      <th>Total_Minor_Injuries</th>\n",
       "      <th>Average_Fatalities</th>\n",
       "      <th>Total_Injuries</th>\n",
       "    </tr>\n",
       "  </thead>\n",
       "  <tbody>\n",
       "    <tr>\n",
       "      <th>0</th>\n",
       "      <td>100 180</td>\n",
       "      <td>1</td>\n",
       "      <td>0.0</td>\n",
       "      <td>0.0</td>\n",
       "      <td>0.0</td>\n",
       "      <td>0.0</td>\n",
       "      <td>0.0</td>\n",
       "    </tr>\n",
       "    <tr>\n",
       "      <th>1</th>\n",
       "      <td>100-160</td>\n",
       "      <td>1</td>\n",
       "      <td>0.0</td>\n",
       "      <td>0.0</td>\n",
       "      <td>0.0</td>\n",
       "      <td>0.0</td>\n",
       "      <td>0.0</td>\n",
       "    </tr>\n",
       "    <tr>\n",
       "      <th>2</th>\n",
       "      <td>1000</td>\n",
       "      <td>1</td>\n",
       "      <td>0.0</td>\n",
       "      <td>1.0</td>\n",
       "      <td>0.0</td>\n",
       "      <td>0.0</td>\n",
       "      <td>1.0</td>\n",
       "    </tr>\n",
       "    <tr>\n",
       "      <th>3</th>\n",
       "      <td>1000 STU</td>\n",
       "      <td>1</td>\n",
       "      <td>0.0</td>\n",
       "      <td>0.0</td>\n",
       "      <td>0.0</td>\n",
       "      <td>0.0</td>\n",
       "      <td>0.0</td>\n",
       "    </tr>\n",
       "    <tr>\n",
       "      <th>4</th>\n",
       "      <td>1000LT</td>\n",
       "      <td>1</td>\n",
       "      <td>3.0</td>\n",
       "      <td>0.0</td>\n",
       "      <td>0.0</td>\n",
       "      <td>3.0</td>\n",
       "      <td>0.0</td>\n",
       "    </tr>\n",
       "    <tr>\n",
       "      <th>5</th>\n",
       "      <td>1002</td>\n",
       "      <td>1</td>\n",
       "      <td>0.0</td>\n",
       "      <td>2.0</td>\n",
       "      <td>0.0</td>\n",
       "      <td>0.0</td>\n",
       "      <td>2.0</td>\n",
       "    </tr>\n",
       "    <tr>\n",
       "      <th>6</th>\n",
       "      <td>100D2</td>\n",
       "      <td>1</td>\n",
       "      <td>2.0</td>\n",
       "      <td>0.0</td>\n",
       "      <td>0.0</td>\n",
       "      <td>2.0</td>\n",
       "      <td>0.0</td>\n",
       "    </tr>\n",
       "    <tr>\n",
       "      <th>7</th>\n",
       "      <td>Zodiac CH-601-H</td>\n",
       "      <td>1</td>\n",
       "      <td>0.0</td>\n",
       "      <td>0.0</td>\n",
       "      <td>0.0</td>\n",
       "      <td>0.0</td>\n",
       "      <td>0.0</td>\n",
       "    </tr>\n",
       "    <tr>\n",
       "      <th>8</th>\n",
       "      <td>1-11</td>\n",
       "      <td>1</td>\n",
       "      <td>0.0</td>\n",
       "      <td>0.0</td>\n",
       "      <td>0.0</td>\n",
       "      <td>0.0</td>\n",
       "      <td>0.0</td>\n",
       "    </tr>\n",
       "    <tr>\n",
       "      <th>9</th>\n",
       "      <td>1-11-204AF</td>\n",
       "      <td>1</td>\n",
       "      <td>0.0</td>\n",
       "      <td>0.0</td>\n",
       "      <td>0.0</td>\n",
       "      <td>0.0</td>\n",
       "      <td>0.0</td>\n",
       "    </tr>\n",
       "  </tbody>\n",
       "</table>\n",
       "</div>"
      ],
      "text/plain": [
       "             Model  Total_Accidents  Total_Fatalities  Total_Serious_Injuries  \\\n",
       "0          100 180                1               0.0                     0.0   \n",
       "1          100-160                1               0.0                     0.0   \n",
       "2             1000                1               0.0                     1.0   \n",
       "3         1000 STU                1               0.0                     0.0   \n",
       "4           1000LT                1               3.0                     0.0   \n",
       "5             1002                1               0.0                     2.0   \n",
       "6            100D2                1               2.0                     0.0   \n",
       "7  Zodiac CH-601-H                1               0.0                     0.0   \n",
       "8             1-11                1               0.0                     0.0   \n",
       "9       1-11-204AF                1               0.0                     0.0   \n",
       "\n",
       "   Total_Minor_Injuries  Average_Fatalities  Total_Injuries  \n",
       "0                   0.0                 0.0             0.0  \n",
       "1                   0.0                 0.0             0.0  \n",
       "2                   0.0                 0.0             1.0  \n",
       "3                   0.0                 0.0             0.0  \n",
       "4                   0.0                 3.0             0.0  \n",
       "5                   0.0                 0.0             2.0  \n",
       "6                   0.0                 2.0             0.0  \n",
       "7                   0.0                 0.0             0.0  \n",
       "8                   0.0                 0.0             0.0  \n",
       "9                   0.0                 0.0             0.0  "
      ]
     },
     "execution_count": 36,
     "metadata": {},
     "output_type": "execute_result"
    }
   ],
   "source": [
    "# Group data by model and use .mean(), .count() .sum() aggregation methods\n",
    "\n",
    "accident_summary = Aviation_df.groupby('Model').agg(\n",
    "    Total_Accidents=('Event.Id', 'count'), # count accidents per model\n",
    "    Total_Fatalities=('Total.Fatal.Injuries', 'sum'), # sum the fatalities\n",
    "    Total_Serious_Injuries=('Total.Serious.Injuries', 'sum'),# sum serious injuries\n",
    "    Total_Minor_Injuries=('Total.Minor.Injuries', 'sum'), # sum minor injuries\n",
    "    Average_Fatalities=('Total.Fatal.Injuries', 'mean')# Avg fatalities per accident\n",
    "\n",
    ").reset_index()\n",
    "\n",
    "# calculate total injuries separately \n",
    "accident_summary ['Total_Injuries']=(\n",
    "    accident_summary['Total_Serious_Injuries'] + accident_summary['Total_Minor_Injuries']\n",
    ")\n",
    "\n",
    "# sort by total accidents to find the safest models\n",
    "safest_models = accident_summary.sort_values(by='Total_Accidents').head(10).reset_index(drop=True)\n",
    "\n",
    "# display the safest model\n",
    "safest_models"
   ]
  },
  {
   "cell_type": "markdown",
   "metadata": {},
   "source": [
    "The cell above finds which model had lowest risk accident. I group data using `Model` and uses aggregation methods and .groupby() to achieve the result. To achieve this I used `Event.Id` as **unique identify** to target all model, And lastly used `.sort_values` by **Total_Accident**.\n",
    "\n",
    "From the analysis Most model had atleast 1 Total_Accidents but still 0 Total_Fatalities, Total_Serious_Injuries, Total_Minor_Injuries,Total_Injuries. This means there was accident but it was not fatal, serious or minor"
   ]
  },
  {
   "cell_type": "markdown",
   "metadata": {},
   "source": [
    "## **Visualization To Highlight Safest aircraft models and trends**\n",
    "\n",
    "To effectively communicate insights, I will use data visualization to highlight aircraft models with the lowest accident counts and identify patterns in aviation safety.\n",
    "\n",
    "### Objective\n",
    "\n",
    "* Visualize the top 10 aircraft models with the lowest accident counts.\n",
    "* Use bar charts to show accident frequency across different aircraft models.\n",
    "* Identify potential trends in aircraft safety.\n",
    "\n",
    "First I import Libraries for visualization in cell below.\n",
    "1. Matplotlib as plt\n",
    "2. seaborn as sns\n",
    "\n",
    "In the cell below I plot a **Bar plot** for safest Models visualize the top 10 models with the lowest accident counts."
   ]
  },
  {
   "cell_type": "code",
   "execution_count": 37,
   "metadata": {},
   "outputs": [
    {
     "name": "stderr",
     "output_type": "stream",
     "text": [
      "C:\\Users\\ronny somi\\AppData\\Local\\Temp\\ipykernel_4048\\3159123388.py:4: FutureWarning: \n",
      "\n",
      "Passing `palette` without assigning `hue` is deprecated and will be removed in v0.14.0. Assign the `y` variable to `hue` and set `legend=False` for the same effect.\n",
      "\n",
      "  sns.barplot(x='Total_Accidents', y='Model', data=safest_models, palette='viridis')\n"
     ]
    },
    {
     "data": {
      "image/png": "[encoded data removed]",
      "text/plain": [
       "<Figure size 1000x600 with 1 Axes>"
      ]
     },
     "metadata": {},
     "output_type": "display_data"
    }
   ],
   "source": [
    "# plot the figure using alias plt, sns\n",
    "\n",
    "fig, ax =plt.subplots(figsize=(10,6))# defines size of the figure\n",
    "sns.barplot(x='Total_Accidents', y='Model', data=safest_models, palette='viridis')\n",
    "ax.set_title('Top 10 Safest Aircraft Models by Accident Count')\n",
    "ax.set_xlabel('Total Accidents')\n",
    "ax.set_ylabel('Aircraft Model')\n",
    "plt.show();\n"
   ]
  },
  {
   "cell_type": "markdown",
   "metadata": {},
   "source": [
    "Interpretation of the above cell **Aircraft Models on Y-axis** shows the the safest models simply meaning they had the lowest risk.\n",
    "\n",
    "For ploting I am using **object oriented concept** `fig, ax =plt.subplots(), ax`\n",
    "\n",
    "And in X-axis shows **Total Accidents**: The X-axis values ranges from 0 to 1, meaning each of these aircraft models recorded **only 1 accident**\n",
    "Since all bars appear to have the same length, it implies that all models here have an **equal number of recorded accidents**\n",
    "\n",
    "For colorRepresentation **Different shades represent different aircraft models**"
   ]
  },
  {
   "cell_type": "markdown",
   "metadata": {},
   "source": [
    "2. #### **Scatter Plot for Accidents vs Fatalities**\n",
    "\n",
    "* Explore the relationship between accident counts and fatalities\n",
    "\n",
    "In cell below I apply the same libraies to plot `scatter plot` to find relationship between `Accidents vs Fatalities`"
   ]
  },
  {
   "cell_type": "code",
   "execution_count": 38,
   "metadata": {},
   "outputs": [
    {
     "data": {
      "image/png": "[encoded data removed]",
      "text/plain": [
       "<Figure size 1000x500 with 1 Axes>"
      ]
     },
     "metadata": {},
     "output_type": "display_data"
    }
   ],
   "source": [
    "# plot the figure\n",
    "\n",
    "fig, ax =plt.subplots(figsize=(10,5))\n",
    "sns.scatterplot(x='Total_Accidents', y='Total_Fatalities', data=accident_summary, alpha=0.5)\n",
    "ax.set_title('Accident Counts vs Fatalities by Aircraft Model')\n",
    "ax.set_xlabel('Total Accidents')\n",
    "ax.set_ylabel('Total Fatalities')\n",
    "plt.show();\n",
    "\n"
   ]
  },
  {
   "cell_type": "markdown",
   "metadata": {},
   "source": [
    "In cell above the scatter plot shows there is a strong relationship between Total Accidents and Total Fatalities most of them cummulate around 200"
   ]
  },
  {
   "cell_type": "code",
   "execution_count": 39,
   "metadata": {},
   "outputs": [
    {
     "data": {
      "application/vnd.microsoft.datawrangler.viewer.v0+json": {
       "columns": [
        {
         "name": "index",
         "rawType": "int64",
         "type": "integer"
        },
        {
         "name": "Make",
         "rawType": "object",
         "type": "string"
        },
        {
         "name": "Model",
         "rawType": "object",
         "type": "string"
        },
        {
         "name": "Engine.Type",
         "rawType": "object",
         "type": "string"
        },
        {
         "name": "Total_Fatalities",
         "rawType": "float64",
         "type": "float"
        },
        {
         "name": "Total_Serious_Injuries",
         "rawType": "float64",
         "type": "float"
        },
        {
         "name": "Total_Minor_Injuries",
         "rawType": "float64",
         "type": "float"
        }
       ],
       "conversionMethod": "pd.DataFrame",
       "ref": "3347f0f8-686b-43bc-a95d-a992dfb1cd50",
       "rows": [
        [
         "0",
         "107.5 Flying Corporation",
         "One Design DR 107",
         "Reciprocating",
         "1.0",
         "0.0",
         "0.0"
        ],
        [
         "1",
         "1200",
         "G103",
         "Reciprocating",
         "0.0",
         "1.0",
         "0.0"
        ],
        [
         "2",
         "177MF LLC",
         "PITTS MODEL 12",
         "Reciprocating",
         "0.0",
         "2.0",
         "0.0"
        ],
        [
         "3",
         "1977 Colfer-chan",
         "STEEN SKYBOLT",
         "Reciprocating",
         "0.0",
         "0.0",
         "1.0"
        ],
        [
         "4",
         "1st Ftr Gp",
         "FOCKE-WULF 190",
         "Reciprocating",
         "1.0",
         "0.0",
         "0.0"
        ]
       ],
       "shape": {
        "columns": 6,
        "rows": 5
       }
      },
      "text/html": [
       "<div>\n",
       "<style scoped>\n",
       "    .dataframe tbody tr th:only-of-type {\n",
       "        vertical-align: middle;\n",
       "    }\n",
       "\n",
       "    .dataframe tbody tr th {\n",
       "        vertical-align: top;\n",
       "    }\n",
       "\n",
       "    .dataframe thead th {\n",
       "        text-align: right;\n",
       "    }\n",
       "</style>\n",
       "<table border=\"1\" class=\"dataframe\">\n",
       "  <thead>\n",
       "    <tr style=\"text-align: right;\">\n",
       "      <th></th>\n",
       "      <th>Make</th>\n",
       "      <th>Model</th>\n",
       "      <th>Engine.Type</th>\n",
       "      <th>Total_Fatalities</th>\n",
       "      <th>Total_Serious_Injuries</th>\n",
       "      <th>Total_Minor_Injuries</th>\n",
       "    </tr>\n",
       "  </thead>\n",
       "  <tbody>\n",
       "    <tr>\n",
       "      <th>0</th>\n",
       "      <td>107.5 Flying Corporation</td>\n",
       "      <td>One Design DR 107</td>\n",
       "      <td>Reciprocating</td>\n",
       "      <td>1.0</td>\n",
       "      <td>0.0</td>\n",
       "      <td>0.0</td>\n",
       "    </tr>\n",
       "    <tr>\n",
       "      <th>1</th>\n",
       "      <td>1200</td>\n",
       "      <td>G103</td>\n",
       "      <td>Reciprocating</td>\n",
       "      <td>0.0</td>\n",
       "      <td>1.0</td>\n",
       "      <td>0.0</td>\n",
       "    </tr>\n",
       "    <tr>\n",
       "      <th>2</th>\n",
       "      <td>177MF LLC</td>\n",
       "      <td>PITTS MODEL 12</td>\n",
       "      <td>Reciprocating</td>\n",
       "      <td>0.0</td>\n",
       "      <td>2.0</td>\n",
       "      <td>0.0</td>\n",
       "    </tr>\n",
       "    <tr>\n",
       "      <th>3</th>\n",
       "      <td>1977 Colfer-chan</td>\n",
       "      <td>STEEN SKYBOLT</td>\n",
       "      <td>Reciprocating</td>\n",
       "      <td>0.0</td>\n",
       "      <td>0.0</td>\n",
       "      <td>1.0</td>\n",
       "    </tr>\n",
       "    <tr>\n",
       "      <th>4</th>\n",
       "      <td>1st Ftr Gp</td>\n",
       "      <td>FOCKE-WULF 190</td>\n",
       "      <td>Reciprocating</td>\n",
       "      <td>1.0</td>\n",
       "      <td>0.0</td>\n",
       "      <td>0.0</td>\n",
       "    </tr>\n",
       "  </tbody>\n",
       "</table>\n",
       "</div>"
      ],
      "text/plain": [
       "                       Make              Model    Engine.Type  \\\n",
       "0  107.5 Flying Corporation  One Design DR 107  Reciprocating   \n",
       "1                      1200               G103  Reciprocating   \n",
       "2                 177MF LLC     PITTS MODEL 12  Reciprocating   \n",
       "3          1977 Colfer-chan      STEEN SKYBOLT  Reciprocating   \n",
       "4                1st Ftr Gp     FOCKE-WULF 190  Reciprocating   \n",
       "\n",
       "   Total_Fatalities  Total_Serious_Injuries  Total_Minor_Injuries  \n",
       "0               1.0                     0.0                   0.0  \n",
       "1               0.0                     1.0                   0.0  \n",
       "2               0.0                     2.0                   0.0  \n",
       "3               0.0                     0.0                   1.0  \n",
       "4               1.0                     0.0                   0.0  "
      ]
     },
     "execution_count": 39,
     "metadata": {},
     "output_type": "execute_result"
    }
   ],
   "source": [
    "# Filter the dataset for top engine types\n",
    "top_engines = Aviation_df['Engine.Type'].value_counts().nlargest(10).index\n",
    "filtered_data = Aviation_df[Aviation_df['Engine.Type'].isin(top_engines)]\n",
    "\n",
    "# Group by Make, Model, and Engine Type\n",
    "safety_df = filtered_data.groupby(['Make', 'Model', 'Engine.Type']).agg(\n",
    "    Total_Fatalities=('Total.Fatal.Injuries', 'sum'),\n",
    "    Total_Serious_Injuries=('Total.Serious.Injuries', 'sum'),\n",
    "    Total_Minor_Injuries=('Total.Minor.Injuries', 'sum')\n",
    ").reset_index()\n",
    "\n",
    "# Ensure valid accident data\n",
    "safety_df = safety_df[\n",
    "    (safety_df['Total_Fatalities'] > 0) | \n",
    "    (safety_df['Total_Serious_Injuries'] > 0) | \n",
    "    (safety_df['Total_Minor_Injuries'] > 0)\n",
    "]\n",
    "\n",
    "# Show results\n",
    "safety_df.head()\n"
   ]
  },
  {
   "cell_type": "code",
   "execution_count": null,
   "metadata": {},
   "outputs": [
    {
     "name": "stderr",
     "output_type": "stream",
     "text": [
      "C:\\Users\\ronny somi\\AppData\\Local\\Temp\\ipykernel_4048\\1438053061.py:13: FutureWarning: \n",
      "\n",
      "Passing `palette` without assigning `hue` is deprecated and will be removed in v0.14.0. Assign the `y` variable to `hue` and set `legend=False` for the same effect.\n",
      "\n",
      "  sns.barplot(\n"
     ]
    }
   ],
   "source": [
    "# Calculate weighted safety score (lower = safer)\n",
    "safety_df['Safety_Score'] = (\n",
    "    safety_df['Total_Fatalities'] * 3 + \n",
    "    safety_df['Total_Serious_Injuries'] * 2 + \n",
    "    safety_df['Total_Minor_Injuries']\n",
    ")\n",
    "\n",
    "# Get top 10 safest models\n",
    "top_safest = safety_df.sort_values('Safety_Score').head(10)\n",
    "\n",
    "# Plot\n",
    "plt.figure(figsize=(12, 6))\n",
    "sns.barplot(\n",
    "    data=top_safest,\n",
    "    x='Safety_Score',\n",
    "    y='Model',\n",
    "    palette='Blues_r'  # Darker = safer\n",
    ")\n",
    "\n",
    "# Add Engine Type as text labels\n",
    "for idx, row in top_safest.iterrows():\n",
    "    plt.text(\n",
    "        row['Safety_Score'] + 0.1,  # X-position (just after bar)\n",
    "        idx,                        # Y-position (bar index)\n",
    "        f\"Engine: {row['Engine.Type']}\",\n",
    "        ha='left',\n",
    "        va='center'\n",
    "    )\n",
    "\n",
    "\n",
    "plt.title('Top 10 Safest Models (Labeled by Engine Type)')\n",
    "plt.xlabel('Safety Score (Lower = Safer)')\n",
    "plt.ylabel('Model')\n",
    "plt.show()"
   ]
  },
  {
   "cell_type": "code",
   "execution_count": null,
   "metadata": {},
   "outputs": [],
   "source": []
  }
 ],
 "metadata": {
  "kernelspec": {
   "display_name": ".venv",
   "language": "python",
   "name": "python3"
  },
  "language_info": {
   "codemirror_mode": {
    "name": "ipython",
    "version": 3
   },
   "file_extension": ".py",
   "mimetype": "text/x-python",
   "name": "python",
   "nbconvert_exporter": "python",
   "pygments_lexer": "ipython3",
   "version": "3.11.9"
  }
 },
 "nbformat": 4,
 "nbformat_minor": 2
}
