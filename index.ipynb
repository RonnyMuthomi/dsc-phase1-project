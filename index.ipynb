{
 "cells": [
  {
   "cell_type": "markdown",
   "metadata": {},
   "source": [
    "# **Phase-1 Project**\n",
    "\n",
    "### **Business Overview/ Introduction**\n",
    "For this project, I will use data cleaning, imputation, analysis, and visualization to generate insights for a business stakeholder.The project aims to analyze aviation accident data to determine the lowest-risk aircraft models for commercial and private enterprises. The analysis will provide actionable insights for the company's aviation division to guide their aircraft purchasing decisions.\n",
    "\n",
    "### **Business Problem**\n",
    "Your company is expanding in to new industries to diversify its portfolio. Specifically, they are interested in purchasing and operating airplanes for commercial and private enterprises, but do not know anything about the potential risks of aircraft.\n",
    "\n",
    "### **My Task**\n",
    "determine which aircraft are the lowest risk for the company to start this new business endeavor\n",
    "\n"
   ]
  },
  {
   "cell_type": "markdown",
   "metadata": {},
   "source": [
    "### **Data Understanding**\n",
    "\n",
    "In this project, I'll work with aviation accident data from the National Transportation Safety Board (NTSB) Dataset, which can be found on \n",
    "[kaggle](https://www.kaggle.com/datasets/khsamaha/aviation-accident-database-synopses?select=AviationData.csv). Specifically I will be using **Avition_Data.csv** file for my analysis.\n",
    "\n",
    "The data is contained in two separate CSV files:\n",
    "\n",
    "1. `Avition_Data.csv`:the file contains information from 1962 and later about civil aviation accidents and selected incidents within the United States, its territories and possessions, and in international waters.\n",
    "2. `USState_Codes.csv`:This file contains the US State name and the abbreviation of them\n",
    "\n",
    "### **Business Understanding**\n",
    "\n",
    "#### Stakeholder\n",
    "The primary stakeholder is the head of the company's new aviation division, responsible for making data-driven decisions on aircraft acquisition.\n",
    "\n",
    "#### Key Business Questions\n",
    "- Which aircraft models have the lowest accident rates?\n",
    "- What are the common causes of aviation accidents?\n",
    "- How do different aircraft manufacturers compare in terms of safety?\n",
    "- What factors contribute most to aviation risk, and how can they be mitigated?\n",
    "\n"
   ]
  },
  {
   "cell_type": "markdown",
   "metadata": {},
   "source": [
    "1. ### **Load Data using pandas**\n",
    "\n",
    "In the cell below, I:\n",
    "\n",
    "* Import and alias `pandas` as `pd`\n",
    "* Import and alias `numpy` as `np`\n",
    "* Import and alias `seaborn` as `sns`\n",
    "* Import and alias `matplotlib.pyplot` as `plt`\n",
    "* Set Matplotlib visualizations to display inline in the notebook"
   ]
  },
  {
   "cell_type": "code",
   "execution_count": 1,
   "metadata": {},
   "outputs": [],
   "source": [
    "# import the libraries using alias\n",
    "import pandas as pd\n",
    "import numpy as np\n",
    "import seaborn as sns\n",
    "import matplotlib.pyplot as plt\n",
    "\n",
    "%matplotlib inline"
   ]
  },
  {
   "cell_type": "markdown",
   "metadata": {},
   "source": [
    "### Import the function from load.py \n",
    "In the cell below I import the function `load_data()` from load.py"
   ]
  },
  {
   "cell_type": "code",
   "execution_count": 2,
   "metadata": {},
   "outputs": [],
   "source": [
    "# Import the function\n",
    "import load"
   ]
  },
  {
   "cell_type": "markdown",
   "metadata": {},
   "source": [
    "### Aviation_Data\n",
    "In the cell below, I load `Aviation_Data.csv` as `df` using the script `load.py`"
   ]
  },
  {
   "cell_type": "code",
   "execution_count": 3,
   "metadata": {},
   "outputs": [],
   "source": [
    "# load the data the function output .head(), .info(), .describe() of data\n",
    "#df =load.load_data('data/Aviation_Data.csv')"
   ]
  },
  {
   "cell_type": "markdown",
   "metadata": {},
   "source": [
    "The above cell output data as expected but the dataset is large to output all details needed .head(), .info(), .describe()"
   ]
  },
  {
   "cell_type": "markdown",
   "metadata": {},
   "source": [
    "In cell below I will load data using pd as alias, then use method .head(), .info(), .describe() in separate cells"
   ]
  },
  {
   "cell_type": "code",
   "execution_count": 4,
   "metadata": {},
   "outputs": [
    {
     "data": {
      "application/vnd.microsoft.datawrangler.viewer.v0+json": {
       "columns": [
        {
         "name": "index",
         "rawType": "int64",
         "type": "integer"
        },
        {
         "name": "Event.Id",
         "rawType": "object",
         "type": "string"
        },
        {
         "name": "Investigation.Type",
         "rawType": "object",
         "type": "string"
        },
        {
         "name": "Accident.Number",
         "rawType": "object",
         "type": "string"
        },
        {
         "name": "Event.Date",
         "rawType": "object",
         "type": "string"
        },
        {
         "name": "Location",
         "rawType": "object",
         "type": "string"
        },
        {
         "name": "Country",
         "rawType": "object",
         "type": "string"
        },
        {
         "name": "Latitude",
         "rawType": "object",
         "type": "unknown"
        },
        {
         "name": "Longitude",
         "rawType": "object",
         "type": "unknown"
        },
        {
         "name": "Airport.Code",
         "rawType": "object",
         "type": "unknown"
        },
        {
         "name": "Airport.Name",
         "rawType": "object",
         "type": "unknown"
        },
        {
         "name": "Injury.Severity",
         "rawType": "object",
         "type": "string"
        },
        {
         "name": "Aircraft.damage",
         "rawType": "object",
         "type": "string"
        },
        {
         "name": "Aircraft.Category",
         "rawType": "object",
         "type": "unknown"
        },
        {
         "name": "Registration.Number",
         "rawType": "object",
         "type": "string"
        },
        {
         "name": "Make",
         "rawType": "object",
         "type": "string"
        },
        {
         "name": "Model",
         "rawType": "object",
         "type": "string"
        },
        {
         "name": "Amateur.Built",
         "rawType": "object",
         "type": "string"
        },
        {
         "name": "Number.of.Engines",
         "rawType": "float64",
         "type": "float"
        },
        {
         "name": "Engine.Type",
         "rawType": "object",
         "type": "unknown"
        },
        {
         "name": "FAR.Description",
         "rawType": "object",
         "type": "unknown"
        },
        {
         "name": "Schedule",
         "rawType": "object",
         "type": "unknown"
        },
        {
         "name": "Purpose.of.flight",
         "rawType": "object",
         "type": "unknown"
        },
        {
         "name": "Air.carrier",
         "rawType": "object",
         "type": "unknown"
        },
        {
         "name": "Total.Fatal.Injuries",
         "rawType": "float64",
         "type": "float"
        },
        {
         "name": "Total.Serious.Injuries",
         "rawType": "float64",
         "type": "float"
        },
        {
         "name": "Total.Minor.Injuries",
         "rawType": "float64",
         "type": "float"
        },
        {
         "name": "Total.Uninjured",
         "rawType": "float64",
         "type": "float"
        },
        {
         "name": "Weather.Condition",
         "rawType": "object",
         "type": "string"
        },
        {
         "name": "Broad.phase.of.flight",
         "rawType": "object",
         "type": "string"
        },
        {
         "name": "Report.Status",
         "rawType": "object",
         "type": "string"
        },
        {
         "name": "Publication.Date",
         "rawType": "object",
         "type": "unknown"
        }
       ],
       "conversionMethod": "pd.DataFrame",
       "ref": "da3daf33-6c92-4412-8dda-6de8c984b43e",
       "rows": [
        [
         "0",
         "20001218X45444",
         "Accident",
         "SEA87LA080",
         "1948-10-24",
         "MOOSE CREEK, ID",
         "United States",
         null,
         null,
         null,
         null,
         "Fatal(2)",
         "Destroyed",
         null,
         "NC6404",
         "Stinson",
         "108-3",
         "No",
         "1.0",
         "Reciprocating",
         null,
         null,
         "Personal",
         null,
         "2.0",
         "0.0",
         "0.0",
         "0.0",
         "UNK",
         "Cruise",
         "Probable Cause",
         null
        ],
        [
         "1",
         "20001218X45447",
         "Accident",
         "LAX94LA336",
         "1962-07-19",
         "BRIDGEPORT, CA",
         "United States",
         null,
         null,
         null,
         null,
         "Fatal(4)",
         "Destroyed",
         null,
         "N5069P",
         "Piper",
         "PA24-180",
         "No",
         "1.0",
         "Reciprocating",
         null,
         null,
         "Personal",
         null,
         "4.0",
         "0.0",
         "0.0",
         "0.0",
         "UNK",
         "Unknown",
         "Probable Cause",
         "19-09-1996"
        ],
        [
         "2",
         "20061025X01555",
         "Accident",
         "NYC07LA005",
         "1974-08-30",
         "Saltville, VA",
         "United States",
         "36.922223",
         "-81.878056",
         null,
         null,
         "Fatal(3)",
         "Destroyed",
         null,
         "N5142R",
         "Cessna",
         "172M",
         "No",
         "1.0",
         "Reciprocating",
         null,
         null,
         "Personal",
         null,
         "3.0",
         null,
         null,
         null,
         "IMC",
         "Cruise",
         "Probable Cause",
         "26-02-2007"
        ],
        [
         "3",
         "20001218X45448",
         "Accident",
         "LAX96LA321",
         "1977-06-19",
         "EUREKA, CA",
         "United States",
         null,
         null,
         null,
         null,
         "Fatal(2)",
         "Destroyed",
         null,
         "N1168J",
         "Rockwell",
         "112",
         "No",
         "1.0",
         "Reciprocating",
         null,
         null,
         "Personal",
         null,
         "2.0",
         "0.0",
         "0.0",
         "0.0",
         "IMC",
         "Cruise",
         "Probable Cause",
         "12-09-2000"
        ],
        [
         "4",
         "20041105X01764",
         "Accident",
         "CHI79FA064",
         "1979-08-02",
         "Canton, OH",
         "United States",
         null,
         null,
         null,
         null,
         "Fatal(1)",
         "Destroyed",
         null,
         "N15NY",
         "Cessna",
         "501",
         "No",
         null,
         null,
         null,
         null,
         "Personal",
         null,
         "1.0",
         "2.0",
         null,
         "0.0",
         "VMC",
         "Approach",
         "Probable Cause",
         "16-04-1980"
        ],
        [
         "5",
         "20170710X52551",
         "Accident",
         "NYC79AA106",
         "1979-09-17",
         "BOSTON, MA",
         "United States",
         "42.445277",
         "-70.758333",
         null,
         null,
         "Non-Fatal",
         "Substantial",
         "Airplane",
         "CF-TLU",
         "Mcdonnell Douglas",
         "DC9",
         "No",
         "2.0",
         "Turbo Fan",
         "Part 129: Foreign",
         "SCHD",
         null,
         "Air Canada",
         null,
         null,
         "1.0",
         "44.0",
         "VMC",
         "Climb",
         "Probable Cause",
         "19-09-2017"
        ],
        [
         "6",
         "20001218X45446",
         "Accident",
         "CHI81LA106",
         "1981-08-01",
         "COTTON, MN",
         "United States",
         null,
         null,
         null,
         null,
         "Fatal(4)",
         "Destroyed",
         null,
         "N4988E",
         "Cessna",
         "180",
         "No",
         "1.0",
         "Reciprocating",
         null,
         null,
         "Personal",
         null,
         "4.0",
         "0.0",
         "0.0",
         "0.0",
         "IMC",
         "Unknown",
         "Probable Cause",
         "06-11-2001"
        ],
        [
         "7",
         "20020909X01562",
         "Accident",
         "SEA82DA022",
         "1982-01-01",
         "PULLMAN, WA",
         "United States",
         null,
         null,
         null,
         "BLACKBURN AG STRIP",
         "Non-Fatal",
         "Substantial",
         "Airplane",
         "N2482N",
         "Cessna",
         "140",
         "No",
         "1.0",
         "Reciprocating",
         "Part 91: General Aviation",
         null,
         "Personal",
         null,
         "0.0",
         "0.0",
         "0.0",
         "2.0",
         "VMC",
         "Takeoff",
         "Probable Cause",
         "01-01-1982"
        ],
        [
         "8",
         "20020909X01561",
         "Accident",
         "NYC82DA015",
         "1982-01-01",
         "EAST HANOVER, NJ",
         "United States",
         null,
         null,
         "N58",
         "HANOVER",
         "Non-Fatal",
         "Substantial",
         "Airplane",
         "N7967Q",
         "Cessna",
         "401B",
         "No",
         "2.0",
         "Reciprocating",
         "Part 91: General Aviation",
         null,
         "Business",
         null,
         "0.0",
         "0.0",
         "0.0",
         "2.0",
         "IMC",
         "Landing",
         "Probable Cause",
         "01-01-1982"
        ],
        [
         "9",
         "20020909X01560",
         "Accident",
         "MIA82DA029",
         "1982-01-01",
         "JACKSONVILLE, FL",
         "United States",
         null,
         null,
         "JAX",
         "JACKSONVILLE INTL",
         "Non-Fatal",
         "Substantial",
         null,
         "N3906K",
         "North American",
         "NAVION L-17B",
         "No",
         "1.0",
         "Reciprocating",
         null,
         null,
         "Personal",
         null,
         "0.0",
         "0.0",
         "3.0",
         "0.0",
         "IMC",
         "Cruise",
         "Probable Cause",
         "01-01-1982"
        ]
       ],
       "shape": {
        "columns": 31,
        "rows": 10
       }
      },
      "text/html": [
       "<div>\n",
       "<style scoped>\n",
       "    .dataframe tbody tr th:only-of-type {\n",
       "        vertical-align: middle;\n",
       "    }\n",
       "\n",
       "    .dataframe tbody tr th {\n",
       "        vertical-align: top;\n",
       "    }\n",
       "\n",
       "    .dataframe thead th {\n",
       "        text-align: right;\n",
       "    }\n",
       "</style>\n",
       "<table border=\"1\" class=\"dataframe\">\n",
       "  <thead>\n",
       "    <tr style=\"text-align: right;\">\n",
       "      <th></th>\n",
       "      <th>Event.Id</th>\n",
       "      <th>Investigation.Type</th>\n",
       "      <th>Accident.Number</th>\n",
       "      <th>Event.Date</th>\n",
       "      <th>Location</th>\n",
       "      <th>Country</th>\n",
       "      <th>Latitude</th>\n",
       "      <th>Longitude</th>\n",
       "      <th>Airport.Code</th>\n",
       "      <th>Airport.Name</th>\n",
       "      <th>...</th>\n",
       "      <th>Purpose.of.flight</th>\n",
       "      <th>Air.carrier</th>\n",
       "      <th>Total.Fatal.Injuries</th>\n",
       "      <th>Total.Serious.Injuries</th>\n",
       "      <th>Total.Minor.Injuries</th>\n",
       "      <th>Total.Uninjured</th>\n",
       "      <th>Weather.Condition</th>\n",
       "      <th>Broad.phase.of.flight</th>\n",
       "      <th>Report.Status</th>\n",
       "      <th>Publication.Date</th>\n",
       "    </tr>\n",
       "  </thead>\n",
       "  <tbody>\n",
       "    <tr>\n",
       "      <th>0</th>\n",
       "      <td>20001218X45444</td>\n",
       "      <td>Accident</td>\n",
       "      <td>SEA87LA080</td>\n",
       "      <td>1948-10-24</td>\n",
       "      <td>MOOSE CREEK, ID</td>\n",
       "      <td>United States</td>\n",
       "      <td>NaN</td>\n",
       "      <td>NaN</td>\n",
       "      <td>NaN</td>\n",
       "      <td>NaN</td>\n",
       "      <td>...</td>\n",
       "      <td>Personal</td>\n",
       "      <td>NaN</td>\n",
       "      <td>2.0</td>\n",
       "      <td>0.0</td>\n",
       "      <td>0.0</td>\n",
       "      <td>0.0</td>\n",
       "      <td>UNK</td>\n",
       "      <td>Cruise</td>\n",
       "      <td>Probable Cause</td>\n",
       "      <td>NaN</td>\n",
       "    </tr>\n",
       "    <tr>\n",
       "      <th>1</th>\n",
       "      <td>20001218X45447</td>\n",
       "      <td>Accident</td>\n",
       "      <td>LAX94LA336</td>\n",
       "      <td>1962-07-19</td>\n",
       "      <td>BRIDGEPORT, CA</td>\n",
       "      <td>United States</td>\n",
       "      <td>NaN</td>\n",
       "      <td>NaN</td>\n",
       "      <td>NaN</td>\n",
       "      <td>NaN</td>\n",
       "      <td>...</td>\n",
       "      <td>Personal</td>\n",
       "      <td>NaN</td>\n",
       "      <td>4.0</td>\n",
       "      <td>0.0</td>\n",
       "      <td>0.0</td>\n",
       "      <td>0.0</td>\n",
       "      <td>UNK</td>\n",
       "      <td>Unknown</td>\n",
       "      <td>Probable Cause</td>\n",
       "      <td>19-09-1996</td>\n",
       "    </tr>\n",
       "    <tr>\n",
       "      <th>2</th>\n",
       "      <td>20061025X01555</td>\n",
       "      <td>Accident</td>\n",
       "      <td>NYC07LA005</td>\n",
       "      <td>1974-08-30</td>\n",
       "      <td>Saltville, VA</td>\n",
       "      <td>United States</td>\n",
       "      <td>36.922223</td>\n",
       "      <td>-81.878056</td>\n",
       "      <td>NaN</td>\n",
       "      <td>NaN</td>\n",
       "      <td>...</td>\n",
       "      <td>Personal</td>\n",
       "      <td>NaN</td>\n",
       "      <td>3.0</td>\n",
       "      <td>NaN</td>\n",
       "      <td>NaN</td>\n",
       "      <td>NaN</td>\n",
       "      <td>IMC</td>\n",
       "      <td>Cruise</td>\n",
       "      <td>Probable Cause</td>\n",
       "      <td>26-02-2007</td>\n",
       "    </tr>\n",
       "    <tr>\n",
       "      <th>3</th>\n",
       "      <td>20001218X45448</td>\n",
       "      <td>Accident</td>\n",
       "      <td>LAX96LA321</td>\n",
       "      <td>1977-06-19</td>\n",
       "      <td>EUREKA, CA</td>\n",
       "      <td>United States</td>\n",
       "      <td>NaN</td>\n",
       "      <td>NaN</td>\n",
       "      <td>NaN</td>\n",
       "      <td>NaN</td>\n",
       "      <td>...</td>\n",
       "      <td>Personal</td>\n",
       "      <td>NaN</td>\n",
       "      <td>2.0</td>\n",
       "      <td>0.0</td>\n",
       "      <td>0.0</td>\n",
       "      <td>0.0</td>\n",
       "      <td>IMC</td>\n",
       "      <td>Cruise</td>\n",
       "      <td>Probable Cause</td>\n",
       "      <td>12-09-2000</td>\n",
       "    </tr>\n",
       "    <tr>\n",
       "      <th>4</th>\n",
       "      <td>20041105X01764</td>\n",
       "      <td>Accident</td>\n",
       "      <td>CHI79FA064</td>\n",
       "      <td>1979-08-02</td>\n",
       "      <td>Canton, OH</td>\n",
       "      <td>United States</td>\n",
       "      <td>NaN</td>\n",
       "      <td>NaN</td>\n",
       "      <td>NaN</td>\n",
       "      <td>NaN</td>\n",
       "      <td>...</td>\n",
       "      <td>Personal</td>\n",
       "      <td>NaN</td>\n",
       "      <td>1.0</td>\n",
       "      <td>2.0</td>\n",
       "      <td>NaN</td>\n",
       "      <td>0.0</td>\n",
       "      <td>VMC</td>\n",
       "      <td>Approach</td>\n",
       "      <td>Probable Cause</td>\n",
       "      <td>16-04-1980</td>\n",
       "    </tr>\n",
       "    <tr>\n",
       "      <th>5</th>\n",
       "      <td>20170710X52551</td>\n",
       "      <td>Accident</td>\n",
       "      <td>NYC79AA106</td>\n",
       "      <td>1979-09-17</td>\n",
       "      <td>BOSTON, MA</td>\n",
       "      <td>United States</td>\n",
       "      <td>42.445277</td>\n",
       "      <td>-70.758333</td>\n",
       "      <td>NaN</td>\n",
       "      <td>NaN</td>\n",
       "      <td>...</td>\n",
       "      <td>NaN</td>\n",
       "      <td>Air Canada</td>\n",
       "      <td>NaN</td>\n",
       "      <td>NaN</td>\n",
       "      <td>1.0</td>\n",
       "      <td>44.0</td>\n",
       "      <td>VMC</td>\n",
       "      <td>Climb</td>\n",
       "      <td>Probable Cause</td>\n",
       "      <td>19-09-2017</td>\n",
       "    </tr>\n",
       "    <tr>\n",
       "      <th>6</th>\n",
       "      <td>20001218X45446</td>\n",
       "      <td>Accident</td>\n",
       "      <td>CHI81LA106</td>\n",
       "      <td>1981-08-01</td>\n",
       "      <td>COTTON, MN</td>\n",
       "      <td>United States</td>\n",
       "      <td>NaN</td>\n",
       "      <td>NaN</td>\n",
       "      <td>NaN</td>\n",
       "      <td>NaN</td>\n",
       "      <td>...</td>\n",
       "      <td>Personal</td>\n",
       "      <td>NaN</td>\n",
       "      <td>4.0</td>\n",
       "      <td>0.0</td>\n",
       "      <td>0.0</td>\n",
       "      <td>0.0</td>\n",
       "      <td>IMC</td>\n",
       "      <td>Unknown</td>\n",
       "      <td>Probable Cause</td>\n",
       "      <td>06-11-2001</td>\n",
       "    </tr>\n",
       "    <tr>\n",
       "      <th>7</th>\n",
       "      <td>20020909X01562</td>\n",
       "      <td>Accident</td>\n",
       "      <td>SEA82DA022</td>\n",
       "      <td>1982-01-01</td>\n",
       "      <td>PULLMAN, WA</td>\n",
       "      <td>United States</td>\n",
       "      <td>NaN</td>\n",
       "      <td>NaN</td>\n",
       "      <td>NaN</td>\n",
       "      <td>BLACKBURN AG STRIP</td>\n",
       "      <td>...</td>\n",
       "      <td>Personal</td>\n",
       "      <td>NaN</td>\n",
       "      <td>0.0</td>\n",
       "      <td>0.0</td>\n",
       "      <td>0.0</td>\n",
       "      <td>2.0</td>\n",
       "      <td>VMC</td>\n",
       "      <td>Takeoff</td>\n",
       "      <td>Probable Cause</td>\n",
       "      <td>01-01-1982</td>\n",
       "    </tr>\n",
       "    <tr>\n",
       "      <th>8</th>\n",
       "      <td>20020909X01561</td>\n",
       "      <td>Accident</td>\n",
       "      <td>NYC82DA015</td>\n",
       "      <td>1982-01-01</td>\n",
       "      <td>EAST HANOVER, NJ</td>\n",
       "      <td>United States</td>\n",
       "      <td>NaN</td>\n",
       "      <td>NaN</td>\n",
       "      <td>N58</td>\n",
       "      <td>HANOVER</td>\n",
       "      <td>...</td>\n",
       "      <td>Business</td>\n",
       "      <td>NaN</td>\n",
       "      <td>0.0</td>\n",
       "      <td>0.0</td>\n",
       "      <td>0.0</td>\n",
       "      <td>2.0</td>\n",
       "      <td>IMC</td>\n",
       "      <td>Landing</td>\n",
       "      <td>Probable Cause</td>\n",
       "      <td>01-01-1982</td>\n",
       "    </tr>\n",
       "    <tr>\n",
       "      <th>9</th>\n",
       "      <td>20020909X01560</td>\n",
       "      <td>Accident</td>\n",
       "      <td>MIA82DA029</td>\n",
       "      <td>1982-01-01</td>\n",
       "      <td>JACKSONVILLE, FL</td>\n",
       "      <td>United States</td>\n",
       "      <td>NaN</td>\n",
       "      <td>NaN</td>\n",
       "      <td>JAX</td>\n",
       "      <td>JACKSONVILLE INTL</td>\n",
       "      <td>...</td>\n",
       "      <td>Personal</td>\n",
       "      <td>NaN</td>\n",
       "      <td>0.0</td>\n",
       "      <td>0.0</td>\n",
       "      <td>3.0</td>\n",
       "      <td>0.0</td>\n",
       "      <td>IMC</td>\n",
       "      <td>Cruise</td>\n",
       "      <td>Probable Cause</td>\n",
       "      <td>01-01-1982</td>\n",
       "    </tr>\n",
       "  </tbody>\n",
       "</table>\n",
       "<p>10 rows × 31 columns</p>\n",
       "</div>"
      ],
      "text/plain": [
       "         Event.Id Investigation.Type Accident.Number  Event.Date  \\\n",
       "0  20001218X45444           Accident      SEA87LA080  1948-10-24   \n",
       "1  20001218X45447           Accident      LAX94LA336  1962-07-19   \n",
       "2  20061025X01555           Accident      NYC07LA005  1974-08-30   \n",
       "3  20001218X45448           Accident      LAX96LA321  1977-06-19   \n",
       "4  20041105X01764           Accident      CHI79FA064  1979-08-02   \n",
       "5  20170710X52551           Accident      NYC79AA106  1979-09-17   \n",
       "6  20001218X45446           Accident      CHI81LA106  1981-08-01   \n",
       "7  20020909X01562           Accident      SEA82DA022  1982-01-01   \n",
       "8  20020909X01561           Accident      NYC82DA015  1982-01-01   \n",
       "9  20020909X01560           Accident      MIA82DA029  1982-01-01   \n",
       "\n",
       "           Location        Country   Latitude   Longitude Airport.Code  \\\n",
       "0   MOOSE CREEK, ID  United States        NaN         NaN          NaN   \n",
       "1    BRIDGEPORT, CA  United States        NaN         NaN          NaN   \n",
       "2     Saltville, VA  United States  36.922223  -81.878056          NaN   \n",
       "3        EUREKA, CA  United States        NaN         NaN          NaN   \n",
       "4        Canton, OH  United States        NaN         NaN          NaN   \n",
       "5        BOSTON, MA  United States  42.445277  -70.758333          NaN   \n",
       "6        COTTON, MN  United States        NaN         NaN          NaN   \n",
       "7       PULLMAN, WA  United States        NaN         NaN          NaN   \n",
       "8  EAST HANOVER, NJ  United States        NaN         NaN          N58   \n",
       "9  JACKSONVILLE, FL  United States        NaN         NaN          JAX   \n",
       "\n",
       "         Airport.Name  ... Purpose.of.flight Air.carrier Total.Fatal.Injuries  \\\n",
       "0                 NaN  ...          Personal         NaN                  2.0   \n",
       "1                 NaN  ...          Personal         NaN                  4.0   \n",
       "2                 NaN  ...          Personal         NaN                  3.0   \n",
       "3                 NaN  ...          Personal         NaN                  2.0   \n",
       "4                 NaN  ...          Personal         NaN                  1.0   \n",
       "5                 NaN  ...               NaN  Air Canada                  NaN   \n",
       "6                 NaN  ...          Personal         NaN                  4.0   \n",
       "7  BLACKBURN AG STRIP  ...          Personal         NaN                  0.0   \n",
       "8             HANOVER  ...          Business         NaN                  0.0   \n",
       "9   JACKSONVILLE INTL  ...          Personal         NaN                  0.0   \n",
       "\n",
       "  Total.Serious.Injuries Total.Minor.Injuries Total.Uninjured  \\\n",
       "0                    0.0                  0.0             0.0   \n",
       "1                    0.0                  0.0             0.0   \n",
       "2                    NaN                  NaN             NaN   \n",
       "3                    0.0                  0.0             0.0   \n",
       "4                    2.0                  NaN             0.0   \n",
       "5                    NaN                  1.0            44.0   \n",
       "6                    0.0                  0.0             0.0   \n",
       "7                    0.0                  0.0             2.0   \n",
       "8                    0.0                  0.0             2.0   \n",
       "9                    0.0                  3.0             0.0   \n",
       "\n",
       "  Weather.Condition  Broad.phase.of.flight   Report.Status Publication.Date  \n",
       "0               UNK                 Cruise  Probable Cause              NaN  \n",
       "1               UNK                Unknown  Probable Cause       19-09-1996  \n",
       "2               IMC                 Cruise  Probable Cause       26-02-2007  \n",
       "3               IMC                 Cruise  Probable Cause       12-09-2000  \n",
       "4               VMC               Approach  Probable Cause       16-04-1980  \n",
       "5               VMC                  Climb  Probable Cause       19-09-2017  \n",
       "6               IMC                Unknown  Probable Cause       06-11-2001  \n",
       "7               VMC                Takeoff  Probable Cause       01-01-1982  \n",
       "8               IMC                Landing  Probable Cause       01-01-1982  \n",
       "9               IMC                 Cruise  Probable Cause       01-01-1982  \n",
       "\n",
       "[10 rows x 31 columns]"
      ]
     },
     "execution_count": 4,
     "metadata": {},
     "output_type": "execute_result"
    }
   ],
   "source": [
    "# load data using alias pd and view first 5 reconds of data \n",
    "\n",
    "df = pd.read_csv('data\\Aviation_Data.csv', low_memory=False)\n",
    "df.head(10)"
   ]
  },
  {
   "cell_type": "markdown",
   "metadata": {},
   "source": [
    "Get familiar with the data. Steps includes:\n",
    "\n",
    "* Understanding the dimensionality of the dataset\n",
    "* Investigating what type of data it contains, and the data types used to store it\n",
    "* Discovering how missing values are encoded, and how many there are\n",
    "* Getting a feel for what information it does and doesn't contain\n",
    "\n"
   ]
  },
  {
   "cell_type": "code",
   "execution_count": 5,
   "metadata": {},
   "outputs": [
    {
     "name": "stdout",
     "output_type": "stream",
     "text": [
      "<class 'pandas.core.frame.DataFrame'>\n",
      "RangeIndex: 90348 entries, 0 to 90347\n",
      "Data columns (total 31 columns):\n",
      " #   Column                  Non-Null Count  Dtype  \n",
      "---  ------                  --------------  -----  \n",
      " 0   Event.Id                88889 non-null  object \n",
      " 1   Investigation.Type      90348 non-null  object \n",
      " 2   Accident.Number         88889 non-null  object \n",
      " 3   Event.Date              88889 non-null  object \n",
      " 4   Location                88837 non-null  object \n",
      " 5   Country                 88663 non-null  object \n",
      " 6   Latitude                34382 non-null  object \n",
      " 7   Longitude               34373 non-null  object \n",
      " 8   Airport.Code            50132 non-null  object \n",
      " 9   Airport.Name            52704 non-null  object \n",
      " 10  Injury.Severity         87889 non-null  object \n",
      " 11  Aircraft.damage         85695 non-null  object \n",
      " 12  Aircraft.Category       32287 non-null  object \n",
      " 13  Registration.Number     87507 non-null  object \n",
      " 14  Make                    88826 non-null  object \n",
      " 15  Model                   88797 non-null  object \n",
      " 16  Amateur.Built           88787 non-null  object \n",
      " 17  Number.of.Engines       82805 non-null  float64\n",
      " 18  Engine.Type             81793 non-null  object \n",
      " 19  FAR.Description         32023 non-null  object \n",
      " 20  Schedule                12582 non-null  object \n",
      " 21  Purpose.of.flight       82697 non-null  object \n",
      " 22  Air.carrier             16648 non-null  object \n",
      " 23  Total.Fatal.Injuries    77488 non-null  float64\n",
      " 24  Total.Serious.Injuries  76379 non-null  float64\n",
      " 25  Total.Minor.Injuries    76956 non-null  float64\n",
      " 26  Total.Uninjured         82977 non-null  float64\n",
      " 27  Weather.Condition       84397 non-null  object \n",
      " 28  Broad.phase.of.flight   61724 non-null  object \n",
      " 29  Report.Status           82505 non-null  object \n",
      " 30  Publication.Date        73659 non-null  object \n",
      "dtypes: float64(5), object(26)\n",
      "memory usage: 21.4+ MB\n"
     ]
    }
   ],
   "source": [
    "# use .info() method to perfom metadata summary of df\n",
    "\n",
    "df.info()\n"
   ]
  },
  {
   "cell_type": "markdown",
   "metadata": {},
   "source": [
    "The cell below, I interpret the metadata information above"
   ]
  },
  {
   "cell_type": "code",
   "execution_count": 6,
   "metadata": {},
   "outputs": [
    {
     "data": {
      "text/plain": [
       "'\\nThe type of df is Dataframe.\\nData types: the dataset as 31 columns with 26 columns with object(26) data types\\nand 5 0nly as float(5).\\nThe entire dataset columns as missing values except column 2 Investigation.Type\\n\\n'"
      ]
     },
     "execution_count": 6,
     "metadata": {},
     "output_type": "execute_result"
    }
   ],
   "source": [
    "\"\"\"\n",
    "The type of df is Dataframe.\n",
    "Data types: the dataset as 31 columns with 26 columns with object(26) data types\n",
    "and 5 0nly as float(5).\n",
    "The entire dataset columns as missing values except column 2 Investigation.Type\n",
    "\n",
    "\"\"\""
   ]
  },
  {
   "cell_type": "code",
   "execution_count": 7,
   "metadata": {},
   "outputs": [
    {
     "data": {
      "application/vnd.microsoft.datawrangler.viewer.v0+json": {
       "columns": [
        {
         "name": "index",
         "rawType": "object",
         "type": "string"
        },
        {
         "name": "Number.of.Engines",
         "rawType": "float64",
         "type": "float"
        },
        {
         "name": "Total.Fatal.Injuries",
         "rawType": "float64",
         "type": "float"
        },
        {
         "name": "Total.Serious.Injuries",
         "rawType": "float64",
         "type": "float"
        },
        {
         "name": "Total.Minor.Injuries",
         "rawType": "float64",
         "type": "float"
        },
        {
         "name": "Total.Uninjured",
         "rawType": "float64",
         "type": "float"
        }
       ],
       "conversionMethod": "pd.DataFrame",
       "ref": "208acbde-8ad6-4e27-85a3-6447c246e402",
       "rows": [
        [
         "count",
         "82805.0",
         "77488.0",
         "76379.0",
         "76956.0",
         "82977.0"
        ],
        [
         "mean",
         "1.1465853511261397",
         "0.6478551517654346",
         "0.27988059545162935",
         "0.3570611778158948",
         "5.325439579642552"
        ],
        [
         "std",
         "0.4465102138196286",
         "5.485960107559197",
         "1.5440836452335867",
         "2.235625319656934",
         "27.913634431008564"
        ],
        [
         "min",
         "0.0",
         "0.0",
         "0.0",
         "0.0",
         "0.0"
        ],
        [
         "25%",
         "1.0",
         "0.0",
         "0.0",
         "0.0",
         "0.0"
        ],
        [
         "50%",
         "1.0",
         "0.0",
         "0.0",
         "0.0",
         "1.0"
        ],
        [
         "75%",
         "1.0",
         "0.0",
         "0.0",
         "0.0",
         "2.0"
        ],
        [
         "max",
         "8.0",
         "349.0",
         "161.0",
         "380.0",
         "699.0"
        ]
       ],
       "shape": {
        "columns": 5,
        "rows": 8
       }
      },
      "text/html": [
       "<div>\n",
       "<style scoped>\n",
       "    .dataframe tbody tr th:only-of-type {\n",
       "        vertical-align: middle;\n",
       "    }\n",
       "\n",
       "    .dataframe tbody tr th {\n",
       "        vertical-align: top;\n",
       "    }\n",
       "\n",
       "    .dataframe thead th {\n",
       "        text-align: right;\n",
       "    }\n",
       "</style>\n",
       "<table border=\"1\" class=\"dataframe\">\n",
       "  <thead>\n",
       "    <tr style=\"text-align: right;\">\n",
       "      <th></th>\n",
       "      <th>Number.of.Engines</th>\n",
       "      <th>Total.Fatal.Injuries</th>\n",
       "      <th>Total.Serious.Injuries</th>\n",
       "      <th>Total.Minor.Injuries</th>\n",
       "      <th>Total.Uninjured</th>\n",
       "    </tr>\n",
       "  </thead>\n",
       "  <tbody>\n",
       "    <tr>\n",
       "      <th>count</th>\n",
       "      <td>82805.000000</td>\n",
       "      <td>77488.000000</td>\n",
       "      <td>76379.000000</td>\n",
       "      <td>76956.000000</td>\n",
       "      <td>82977.000000</td>\n",
       "    </tr>\n",
       "    <tr>\n",
       "      <th>mean</th>\n",
       "      <td>1.146585</td>\n",
       "      <td>0.647855</td>\n",
       "      <td>0.279881</td>\n",
       "      <td>0.357061</td>\n",
       "      <td>5.325440</td>\n",
       "    </tr>\n",
       "    <tr>\n",
       "      <th>std</th>\n",
       "      <td>0.446510</td>\n",
       "      <td>5.485960</td>\n",
       "      <td>1.544084</td>\n",
       "      <td>2.235625</td>\n",
       "      <td>27.913634</td>\n",
       "    </tr>\n",
       "    <tr>\n",
       "      <th>min</th>\n",
       "      <td>0.000000</td>\n",
       "      <td>0.000000</td>\n",
       "      <td>0.000000</td>\n",
       "      <td>0.000000</td>\n",
       "      <td>0.000000</td>\n",
       "    </tr>\n",
       "    <tr>\n",
       "      <th>25%</th>\n",
       "      <td>1.000000</td>\n",
       "      <td>0.000000</td>\n",
       "      <td>0.000000</td>\n",
       "      <td>0.000000</td>\n",
       "      <td>0.000000</td>\n",
       "    </tr>\n",
       "    <tr>\n",
       "      <th>50%</th>\n",
       "      <td>1.000000</td>\n",
       "      <td>0.000000</td>\n",
       "      <td>0.000000</td>\n",
       "      <td>0.000000</td>\n",
       "      <td>1.000000</td>\n",
       "    </tr>\n",
       "    <tr>\n",
       "      <th>75%</th>\n",
       "      <td>1.000000</td>\n",
       "      <td>0.000000</td>\n",
       "      <td>0.000000</td>\n",
       "      <td>0.000000</td>\n",
       "      <td>2.000000</td>\n",
       "    </tr>\n",
       "    <tr>\n",
       "      <th>max</th>\n",
       "      <td>8.000000</td>\n",
       "      <td>349.000000</td>\n",
       "      <td>161.000000</td>\n",
       "      <td>380.000000</td>\n",
       "      <td>699.000000</td>\n",
       "    </tr>\n",
       "  </tbody>\n",
       "</table>\n",
       "</div>"
      ],
      "text/plain": [
       "       Number.of.Engines  Total.Fatal.Injuries  Total.Serious.Injuries  \\\n",
       "count       82805.000000          77488.000000            76379.000000   \n",
       "mean            1.146585              0.647855                0.279881   \n",
       "std             0.446510              5.485960                1.544084   \n",
       "min             0.000000              0.000000                0.000000   \n",
       "25%             1.000000              0.000000                0.000000   \n",
       "50%             1.000000              0.000000                0.000000   \n",
       "75%             1.000000              0.000000                0.000000   \n",
       "max             8.000000            349.000000              161.000000   \n",
       "\n",
       "       Total.Minor.Injuries  Total.Uninjured  \n",
       "count          76956.000000     82977.000000  \n",
       "mean               0.357061         5.325440  \n",
       "std                2.235625        27.913634  \n",
       "min                0.000000         0.000000  \n",
       "25%                0.000000         0.000000  \n",
       "50%                0.000000         1.000000  \n",
       "75%                0.000000         2.000000  \n",
       "max              380.000000       699.000000  "
      ]
     },
     "execution_count": 7,
     "metadata": {},
     "output_type": "execute_result"
    }
   ],
   "source": [
    "# use the .describe() to get statistics summary of df data\n",
    "\n",
    "df.describe()"
   ]
  },
  {
   "cell_type": "markdown",
   "metadata": {},
   "source": [
    "The cell bellow interpret the statistical summary above"
   ]
  },
  {
   "cell_type": "code",
   "execution_count": 8,
   "metadata": {},
   "outputs": [
    {
     "data": {
      "text/plain": [
       "'\\ndf total of 5 columns with float data types\\nThe count indicates total entries of each attribute\\nMean is total mean of each attribute\\nstd is the standard deviation of each attribute (how values are far from mean)\\nMIn and max shows the highest and lowest number in each attribute\\n25% is the lower quantile range in each attribute\\n50% is the middle quantile range in each attribute\\n75% is the upper quantile range in each attribute\\n'"
      ]
     },
     "execution_count": 8,
     "metadata": {},
     "output_type": "execute_result"
    }
   ],
   "source": [
    "\"\"\"\n",
    "df total of 5 columns with float data types\n",
    "The count indicates total entries of each attribute\n",
    "Mean is total mean of each attribute\n",
    "std is the standard deviation of each attribute (how values are far from mean)\n",
    "MIn and max shows the highest and lowest number in each attribute\n",
    "25% is the lower quantile range in each attribute\n",
    "50% is the middle quantile range in each attribute\n",
    "75% is the upper quantile range in each attribute\n",
    "\"\"\""
   ]
  },
  {
   "cell_type": "markdown",
   "metadata": {},
   "source": [
    "In the cell below, inspect the overall shape of the dataframe:\n"
   ]
  },
  {
   "cell_type": "code",
   "execution_count": 9,
   "metadata": {},
   "outputs": [
    {
     "data": {
      "text/plain": [
       "(90348, 31)"
      ]
     },
     "execution_count": 9,
     "metadata": {},
     "output_type": "execute_result"
    }
   ],
   "source": [
    "# shape of the df\n",
    "df.shape"
   ]
  },
  {
   "cell_type": "markdown",
   "metadata": {},
   "source": [
    "2. ## **Perform Data Cleaning**\n",
    "\n",
    "Based on my df dataset shape I choose to group data into two `numeric_values` and `categorical_values` for faster end efficient cleaning and performing other method and finally concantenate both DataFrame to one using variable `Aviation_df`\n",
    "\n",
    "* Method inteding to use are **.isna().sum()**, **.isnull()**, **.unique()**, **.value_count()**, **.notna()**, **.fillna()**, **.replace()**, **.drop()**, **.dropna()**, **.duplicated()**, **.drop_duplicated()**\n",
    "\n",
    "### Identifying and Handling Missing Values\n",
    "\n",
    "df contains alot of missing values. Let explore deep to know how to deal with the missing values.\n",
    "\n",
    "In the cell below first I group my dataset into two numeric_values and categorical_values"
   ]
  },
  {
   "cell_type": "code",
   "execution_count": 10,
   "metadata": {},
   "outputs": [
    {
     "data": {
      "text/plain": [
       "['Number.of.Engines',\n",
       " 'Total.Fatal.Injuries',\n",
       " 'Total.Serious.Injuries',\n",
       " 'Total.Minor.Injuries',\n",
       " 'Total.Uninjured']"
      ]
     },
     "execution_count": 10,
     "metadata": {},
     "output_type": "execute_result"
    }
   ],
   "source": [
    "# group the numeric_values from df\n",
    "\n",
    "numeric_values = df.select_dtypes(include=[float, int]).columns\n",
    "list(numeric_values)"
   ]
  },
  {
   "cell_type": "markdown",
   "metadata": {},
   "source": [
    "The above cell takes only numeric values from df and stores them in variable called numeric_values.\n",
    "\n"
   ]
  },
  {
   "cell_type": "code",
   "execution_count": 11,
   "metadata": {},
   "outputs": [
    {
     "data": {
      "text/plain": [
       "['Event.Id',\n",
       " 'Investigation.Type',\n",
       " 'Accident.Number',\n",
       " 'Event.Date',\n",
       " 'Location',\n",
       " 'Country',\n",
       " 'Latitude',\n",
       " 'Longitude',\n",
       " 'Airport.Code',\n",
       " 'Airport.Name',\n",
       " 'Injury.Severity',\n",
       " 'Aircraft.damage',\n",
       " 'Aircraft.Category',\n",
       " 'Registration.Number',\n",
       " 'Make',\n",
       " 'Model',\n",
       " 'Amateur.Built',\n",
       " 'Engine.Type',\n",
       " 'FAR.Description',\n",
       " 'Schedule',\n",
       " 'Purpose.of.flight',\n",
       " 'Air.carrier',\n",
       " 'Weather.Condition',\n",
       " 'Broad.phase.of.flight',\n",
       " 'Report.Status',\n",
       " 'Publication.Date']"
      ]
     },
     "execution_count": 11,
     "metadata": {},
     "output_type": "execute_result"
    }
   ],
   "source": [
    "# group the categorical values from df\n",
    "\n",
    "categorical_values = df.select_dtypes(include=['object']).columns\n",
    "list(categorical_values)"
   ]
  },
  {
   "cell_type": "markdown",
   "metadata": {},
   "source": [
    "In cell above I only take the categorical values from df and stored them in variable known as categorical_values"
   ]
  },
  {
   "cell_type": "markdown",
   "metadata": {},
   "source": [
    "### Next I want to perform cleaning first on numeric_values DataFrame"
   ]
  },
  {
   "cell_type": "code",
   "execution_count": 12,
   "metadata": {},
   "outputs": [
    {
     "data": {
      "text/plain": [
       "Number.of.Engines          7543\n",
       "Total.Fatal.Injuries      12860\n",
       "Total.Serious.Injuries    13969\n",
       "Total.Minor.Injuries      13392\n",
       "Total.Uninjured            7371\n",
       "dtype: int64"
      ]
     },
     "execution_count": 12,
     "metadata": {},
     "output_type": "execute_result"
    }
   ],
   "source": [
    "# check for all missing values\n",
    "\n",
    "df[numeric_values].isna().sum()"
   ]
  },
  {
   "cell_type": "markdown",
   "metadata": {},
   "source": [
    "The cell below interpret the numeric_values dataframe "
   ]
  },
  {
   "cell_type": "code",
   "execution_count": 13,
   "metadata": {},
   "outputs": [
    {
     "data": {
      "text/plain": [
       "'\\nThe numeric_values df as total of 5 columns both are float\\nAttribute Number.of.Engines as total of 7543 missing from 90348\\nAttribute Total.Fatal.Injuries  as total of 12860 missing from 90348\\nAttribute Total.Serious.Injuries  as total of 13969 missing from 90348\\nAttribute Total.Minor.Injuries   as total of Total.Uninjured   missing from 90348\\nAttribute Total.Fatal.Injuries  as total of  7371 missing from 90348\\n\\n'"
      ]
     },
     "execution_count": 13,
     "metadata": {},
     "output_type": "execute_result"
    }
   ],
   "source": [
    "\"\"\"\n",
    "The numeric_values df as total of 5 columns both are float\n",
    "Attribute Number.of.Engines as total of 7543 missing from 90348\n",
    "Attribute Total.Fatal.Injuries  as total of 12860 missing from 90348\n",
    "Attribute Total.Serious.Injuries  as total of 13969 missing from 90348\n",
    "Attribute Total.Minor.Injuries   as total of Total.Uninjured   missing from 90348\n",
    "Attribute Total.Fatal.Injuries  as total of  7371 missing from 90348\n",
    "\n",
    "\"\"\""
   ]
  },
  {
   "cell_type": "code",
   "execution_count": 14,
   "metadata": {},
   "outputs": [
    {
     "data": {
      "text/plain": [
       "(90348, 5)"
      ]
     },
     "execution_count": 14,
     "metadata": {},
     "output_type": "execute_result"
    }
   ],
   "source": [
    "# check the shape of the numeric_values df\n",
    "\n",
    "df[numeric_values].shape"
   ]
  },
  {
   "cell_type": "markdown",
   "metadata": {},
   "source": [
    "### Dealing with missing values in numeric_values DataFrame\n",
    "\n",
    "As total entries is 90348 and missing values range is small I choose to impute all missing values using median() as it will not affect the std . I will use **fillna()** method to impute\n"
   ]
  },
  {
   "cell_type": "code",
   "execution_count": 15,
   "metadata": {},
   "outputs": [],
   "source": [
    "\n",
    "# Impute missing values in numeric columns using median\n",
    "df[numeric_values] = df[numeric_values].fillna(df[numeric_values].median())\n",
    "\n"
   ]
  },
  {
   "cell_type": "markdown",
   "metadata": {},
   "source": [
    "Above cell impute for all missing values in numeric_values using median()\n",
    "\n",
    "In cell below I execute .info() method in numeric_values and .shape to check if the values have been imputed:"
   ]
  },
  {
   "cell_type": "code",
   "execution_count": 16,
   "metadata": {},
   "outputs": [
    {
     "name": "stdout",
     "output_type": "stream",
     "text": [
      "<class 'pandas.core.frame.DataFrame'>\n",
      "RangeIndex: 90348 entries, 0 to 90347\n",
      "Data columns (total 5 columns):\n",
      " #   Column                  Non-Null Count  Dtype  \n",
      "---  ------                  --------------  -----  \n",
      " 0   Number.of.Engines       90348 non-null  float64\n",
      " 1   Total.Fatal.Injuries    90348 non-null  float64\n",
      " 2   Total.Serious.Injuries  90348 non-null  float64\n",
      " 3   Total.Minor.Injuries    90348 non-null  float64\n",
      " 4   Total.Uninjured         90348 non-null  float64\n",
      "dtypes: float64(5)\n",
      "memory usage: 3.4 MB\n"
     ]
    }
   ],
   "source": [
    "# check the summary of the data\n",
    "\n",
    "df[numeric_values].info()"
   ]
  },
  {
   "cell_type": "markdown",
   "metadata": {},
   "source": [
    "The cell below check for any duplicates values in numeric_values DataFrame"
   ]
  },
  {
   "cell_type": "code",
   "execution_count": 17,
   "metadata": {},
   "outputs": [
    {
     "data": {
      "text/plain": [
       "np.int64(87605)"
      ]
     },
     "execution_count": 17,
     "metadata": {},
     "output_type": "execute_result"
    }
   ],
   "source": [
    "# check for any duplicates values in numeric_values\n",
    "\n",
    "df[numeric_values].duplicated().sum()"
   ]
  },
  {
   "cell_type": "code",
   "execution_count": 18,
   "metadata": {},
   "outputs": [
    {
     "data": {
      "text/plain": [
       "(90348, 5)"
      ]
     },
     "execution_count": 18,
     "metadata": {},
     "output_type": "execute_result"
    }
   ],
   "source": [
    "# check for the shape before droping duplicates\n",
    "df[numeric_values].shape"
   ]
  },
  {
   "cell_type": "markdown",
   "metadata": {},
   "source": [
    "In the above cell I checked for duplicated It shows some of records contains duplicates in numeric_values. But if you keenly look to other elements corresponding with such as **Event.Id** each is unique which means each record is unique too"
   ]
  },
  {
   "cell_type": "code",
   "execution_count": 19,
   "metadata": {},
   "outputs": [],
   "source": [
    "\n",
    "# Remove duplicates in numeric columns\n",
    "#df = df.drop_duplicates(subset=numeric_values)"
   ]
  },
  {
   "cell_type": "code",
   "execution_count": 20,
   "metadata": {},
   "outputs": [],
   "source": [
    "# check if all duplicates as been removed\n",
    "#df.duplicated()"
   ]
  },
  {
   "cell_type": "markdown",
   "metadata": {},
   "source": [
    "\n",
    "\n",
    "The cell below check for shape of numeric dataframe after removing the duplicates"
   ]
  },
  {
   "cell_type": "code",
   "execution_count": 21,
   "metadata": {},
   "outputs": [
    {
     "data": {
      "text/plain": [
       "(90348, 5)"
      ]
     },
     "execution_count": 21,
     "metadata": {},
     "output_type": "execute_result"
    }
   ],
   "source": [
    "# check for the shape after removing\n",
    "df[numeric_values].shape"
   ]
  },
  {
   "cell_type": "markdown",
   "metadata": {},
   "source": [
    "The shape as reduced as the duplicates as been removed"
   ]
  },
  {
   "cell_type": "code",
   "execution_count": 22,
   "metadata": {},
   "outputs": [],
   "source": [
    "# assigned remove_duplicates in numeric_values to apply changes \n",
    "#numeric_values = remove_duplicates.columns.tolist()  # Ensure it's a list of column names\n"
   ]
  },
  {
   "cell_type": "markdown",
   "metadata": {},
   "source": [
    "### Next Step Take categorical_values and Deal with Missing Values and duplicates\n",
    "\n",
    "for categorical values I will use .unique(), .value_counts() .dropna(), .drop() and isna().sum()"
   ]
  },
  {
   "cell_type": "code",
   "execution_count": 23,
   "metadata": {},
   "outputs": [
    {
     "data": {
      "text/plain": [
       "Event.Id                  1.614867\n",
       "Investigation.Type        0.000000\n",
       "Accident.Number           1.614867\n",
       "Event.Date                1.614867\n",
       "Location                  1.672422\n",
       "Country                   1.865011\n",
       "Latitude                 61.944924\n",
       "Longitude                61.954886\n",
       "Airport.Code             44.512330\n",
       "Airport.Name             41.665560\n",
       "Injury.Severity           2.721698\n",
       "Aircraft.damage           5.150086\n",
       "Aircraft.Category        64.263736\n",
       "Registration.Number       3.144508\n",
       "Make                      1.684597\n",
       "Model                     1.716695\n",
       "Amateur.Built             1.727764\n",
       "Engine.Type               9.468942\n",
       "FAR.Description          64.555939\n",
       "Schedule                 86.073848\n",
       "Purpose.of.flight         8.468367\n",
       "Air.carrier              81.573471\n",
       "Weather.Condition         6.586753\n",
       "Broad.phase.of.flight    31.681941\n",
       "Report.Status             8.680878\n",
       "Publication.Date         18.471909\n",
       "dtype: float64"
      ]
     },
     "execution_count": 23,
     "metadata": {},
     "output_type": "execute_result"
    }
   ],
   "source": [
    "missing_percent=(df[categorical_values].isna().sum() / len(df[categorical_values])) * 100\n",
    "missing_percent"
   ]
  },
  {
   "cell_type": "markdown",
   "metadata": {},
   "source": [
    "The cell above checks for missing values and founds out that only one attribute as all values other have missing values. Converted them into percentage. \n",
    "\n",
    "\n",
    "The cell below explains the output above and stragey to use for the missing values"
   ]
  },
  {
   "cell_type": "code",
   "execution_count": 24,
   "metadata": {},
   "outputs": [
    {
     "data": {
      "text/plain": [
       "np.int64(1)"
      ]
     },
     "execution_count": 24,
     "metadata": {},
     "output_type": "execute_result"
    }
   ],
   "source": [
    "df[categorical_values].value_counts().sum()"
   ]
  },
  {
   "cell_type": "code",
   "execution_count": 25,
   "metadata": {},
   "outputs": [
    {
     "data": {
      "text/plain": [
       "'\\nMost attributes have very low percentage of missing around 15 \\nBoth Latitude and Longitude have slightly high percent best approach to use is fill them using mode or drop\\nfor the attributes with high percents such as schedule and Air.carrier is good to drop\\n             \\n\\n'"
      ]
     },
     "execution_count": 25,
     "metadata": {},
     "output_type": "execute_result"
    }
   ],
   "source": [
    "\"\"\"\n",
    "Most attributes have very low percentage of missing around 15 \n",
    "Both Latitude and Longitude have slightly high percent best approach to use is fill them using mode or drop\n",
    "for the attributes with high percents such as schedule and Air.carrier is good to drop\n",
    "             \n",
    "\n",
    "\"\"\""
   ]
  },
  {
   "cell_type": "markdown",
   "metadata": {},
   "source": [
    "For all attributes with low percents I will impute them using mode.\n",
    "Fist I store them in a variable known as `low_percent` and impute them using mode in cell below"
   ]
  },
  {
   "cell_type": "code",
   "execution_count": 26,
   "metadata": {},
   "outputs": [
    {
     "name": "stdout",
     "output_type": "stream",
     "text": [
      "Low Missing Values (<50%): ['Event.Id', 'Investigation.Type', 'Accident.Number', 'Event.Date', 'Location', 'Country', 'Airport.Code', 'Airport.Name', 'Injury.Severity', 'Aircraft.damage', 'Registration.Number', 'Make', 'Model', 'Amateur.Built', 'Engine.Type', 'Purpose.of.flight', 'Weather.Condition', 'Broad.phase.of.flight', 'Report.Status', 'Publication.Date']\n",
      "Middle Missing Values (50-65%): ['Latitude', 'Longitude', 'Aircraft.Category', 'FAR.Description']\n",
      "High Missing Values (>80%): ['Schedule', 'Air.carrier']\n"
     ]
    }
   ],
   "source": [
    "# Categorize columns based on missing percentage\n",
    "\n",
    "low_percent = missing_percent[missing_percent < 50].index.tolist()\n",
    "middle_percent = missing_percent[(missing_percent >= 50) & (missing_percent <= 65)].index.tolist()\n",
    "high_percent = missing_percent[missing_percent > 80].index.tolist()\n",
    "\n",
    "# Print results\n",
    "print(\"Low Missing Values (<50%):\", low_percent)\n",
    "print(\"Middle Missing Values (50-65%):\", middle_percent)\n",
    "print(\"High Missing Values (>80%):\", high_percent)"
   ]
  },
  {
   "cell_type": "markdown",
   "metadata": {},
   "source": [
    "In the above cell I just grouped all attributes with less than 50 % to variable called low_percent with intede to impute them with mode and the one between 50 to 65 % to a variable `middle_percent` to impute with 'unknown' and those with 80% stored them to variable `high_percent`and drop them since the missing values are alot"
   ]
  },
  {
   "cell_type": "code",
   "execution_count": 27,
   "metadata": {},
   "outputs": [],
   "source": [
    "# Impute low_percent columns with mode\n",
    "for col in low_percent:\n",
    "    if col in df.columns:\n",
    "        df.loc[:, col] = df[col].fillna(df[col].mode()[0])\n",
    "\n",
    "# Impute middle_percent columns with \"Unknown\"\n",
    "for col in middle_percent:\n",
    "    if col in df.columns:\n",
    "        df.loc[:, col] = df[col].fillna(\"Unknown\")\n",
    "\n",
    "# Drop high_percent columns\n",
    "df.drop(columns=high_percent, inplace=True)"
   ]
  },
  {
   "cell_type": "code",
   "execution_count": 28,
   "metadata": {},
   "outputs": [],
   "source": [
    "# Recalculate categorical columns after dropping\n",
    "categorical_values = df.select_dtypes(include=['object']).columns"
   ]
  },
  {
   "cell_type": "markdown",
   "metadata": {},
   "source": [
    "the cell above I create a for loop to iterate through low_percent and impute all missing values with mode as the percent of the missing values was not too high. And for the middle_percent i iterate with for loop to impute with 'unknown' and lastly for all missing values with 80% and above I droped them as it is hard to impute them.\n",
    "The **inplace = True** is used to change the list but not return new one"
   ]
  },
  {
   "cell_type": "markdown",
   "metadata": {},
   "source": [
    "The cell below reinitilizes the categorical_values dataframe after droping column `Schedule` and `Air.Carrier` to avoid geting errors\n",
    "\n",
    "Then goes ahead to check for empty values again"
   ]
  },
  {
   "cell_type": "code",
   "execution_count": 29,
   "metadata": {},
   "outputs": [
    {
     "data": {
      "text/plain": [
       "Event.Id                 0\n",
       "Investigation.Type       0\n",
       "Accident.Number          0\n",
       "Event.Date               0\n",
       "Location                 0\n",
       "Country                  0\n",
       "Latitude                 0\n",
       "Longitude                0\n",
       "Airport.Code             0\n",
       "Airport.Name             0\n",
       "Injury.Severity          0\n",
       "Aircraft.damage          0\n",
       "Aircraft.Category        0\n",
       "Registration.Number      0\n",
       "Make                     0\n",
       "Model                    0\n",
       "Amateur.Built            0\n",
       "Engine.Type              0\n",
       "FAR.Description          0\n",
       "Purpose.of.flight        0\n",
       "Weather.Condition        0\n",
       "Broad.phase.of.flight    0\n",
       "Report.Status            0\n",
       "Publication.Date         0\n",
       "dtype: int64"
      ]
     },
     "execution_count": 29,
     "metadata": {},
     "output_type": "execute_result"
    }
   ],
   "source": [
    "\n",
    "\n",
    "df[categorical_values].isna().sum()"
   ]
  },
  {
   "cell_type": "markdown",
   "metadata": {},
   "source": [
    "Perfect the categorical_values is now clean and ready to work with"
   ]
  },
  {
   "cell_type": "code",
   "execution_count": 30,
   "metadata": {},
   "outputs": [
    {
     "name": "stdout",
     "output_type": "stream",
     "text": [
      "<class 'pandas.core.frame.DataFrame'>\n",
      "RangeIndex: 90348 entries, 0 to 90347\n",
      "Data columns (total 24 columns):\n",
      " #   Column                 Non-Null Count  Dtype \n",
      "---  ------                 --------------  ----- \n",
      " 0   Event.Id               90348 non-null  object\n",
      " 1   Investigation.Type     90348 non-null  object\n",
      " 2   Accident.Number        90348 non-null  object\n",
      " 3   Event.Date             90348 non-null  object\n",
      " 4   Location               90348 non-null  object\n",
      " 5   Country                90348 non-null  object\n",
      " 6   Latitude               90348 non-null  object\n",
      " 7   Longitude              90348 non-null  object\n",
      " 8   Airport.Code           90348 non-null  object\n",
      " 9   Airport.Name           90348 non-null  object\n",
      " 10  Injury.Severity        90348 non-null  object\n",
      " 11  Aircraft.damage        90348 non-null  object\n",
      " 12  Aircraft.Category      90348 non-null  object\n",
      " 13  Registration.Number    90348 non-null  object\n",
      " 14  Make                   90348 non-null  object\n",
      " 15  Model                  90348 non-null  object\n",
      " 16  Amateur.Built          90348 non-null  object\n",
      " 17  Engine.Type            90348 non-null  object\n",
      " 18  FAR.Description        90348 non-null  object\n",
      " 19  Purpose.of.flight      90348 non-null  object\n",
      " 20  Weather.Condition      90348 non-null  object\n",
      " 21  Broad.phase.of.flight  90348 non-null  object\n",
      " 22  Report.Status          90348 non-null  object\n",
      " 23  Publication.Date       90348 non-null  object\n",
      "dtypes: object(24)\n",
      "memory usage: 16.5+ MB\n"
     ]
    }
   ],
   "source": [
    "# checks if all missing values have been imputed\n",
    "df[categorical_values].info()"
   ]
  },
  {
   "cell_type": "code",
   "execution_count": 31,
   "metadata": {},
   "outputs": [
    {
     "data": {
      "text/plain": [
       "(90348, 24)"
      ]
     },
     "execution_count": 31,
     "metadata": {},
     "output_type": "execute_result"
    }
   ],
   "source": [
    "# checking the shape of the categorical_values after imputing\n",
    "df[categorical_values].shape"
   ]
  },
  {
   "cell_type": "markdown",
   "metadata": {},
   "source": [
    "The shape of categorical_values reduces the columns from 26 to 24 as I just droped two columns `Schedule` and `Air.Carrier`\n",
    "\n",
    "\n",
    "The cell below checks for duplicates value"
   ]
  },
  {
   "cell_type": "code",
   "execution_count": 32,
   "metadata": {},
   "outputs": [
    {
     "data": {
      "text/plain": [
       "0        False\n",
       "1        False\n",
       "2        False\n",
       "3        False\n",
       "4        False\n",
       "         ...  \n",
       "90343    False\n",
       "90344    False\n",
       "90345    False\n",
       "90346    False\n",
       "90347    False\n",
       "Length: 90348, dtype: bool"
      ]
     },
     "execution_count": 32,
     "metadata": {},
     "output_type": "execute_result"
    }
   ],
   "source": [
    "# checking for duplicates \n",
    "\n",
    "df[categorical_values].duplicated()"
   ]
  },
  {
   "cell_type": "markdown",
   "metadata": {},
   "source": [
    "No duplicates found in categorical_values"
   ]
  },
  {
   "cell_type": "markdown",
   "metadata": {},
   "source": [
    "## **Next step I will Concatenate my two df numeric_values and categorical_values to one** \n",
    "\n",
    "I will store them in **Aviation_df** as one for efficient working with"
   ]
  },
  {
   "cell_type": "code",
   "execution_count": 33,
   "metadata": {},
   "outputs": [
    {
     "data": {
      "application/vnd.microsoft.datawrangler.viewer.v0+json": {
       "columns": [
        {
         "name": "index",
         "rawType": "int64",
         "type": "integer"
        },
        {
         "name": "Event.Id",
         "rawType": "object",
         "type": "string"
        },
        {
         "name": "Investigation.Type",
         "rawType": "object",
         "type": "string"
        },
        {
         "name": "Accident.Number",
         "rawType": "object",
         "type": "string"
        },
        {
         "name": "Event.Date",
         "rawType": "object",
         "type": "string"
        },
        {
         "name": "Location",
         "rawType": "object",
         "type": "string"
        },
        {
         "name": "Country",
         "rawType": "object",
         "type": "string"
        },
        {
         "name": "Latitude",
         "rawType": "object",
         "type": "string"
        },
        {
         "name": "Longitude",
         "rawType": "object",
         "type": "string"
        },
        {
         "name": "Airport.Code",
         "rawType": "object",
         "type": "string"
        },
        {
         "name": "Airport.Name",
         "rawType": "object",
         "type": "string"
        },
        {
         "name": "Injury.Severity",
         "rawType": "object",
         "type": "string"
        },
        {
         "name": "Aircraft.damage",
         "rawType": "object",
         "type": "string"
        },
        {
         "name": "Aircraft.Category",
         "rawType": "object",
         "type": "string"
        },
        {
         "name": "Registration.Number",
         "rawType": "object",
         "type": "string"
        },
        {
         "name": "Make",
         "rawType": "object",
         "type": "string"
        },
        {
         "name": "Model",
         "rawType": "object",
         "type": "string"
        },
        {
         "name": "Amateur.Built",
         "rawType": "object",
         "type": "string"
        },
        {
         "name": "Engine.Type",
         "rawType": "object",
         "type": "string"
        },
        {
         "name": "FAR.Description",
         "rawType": "object",
         "type": "string"
        },
        {
         "name": "Purpose.of.flight",
         "rawType": "object",
         "type": "string"
        },
        {
         "name": "Weather.Condition",
         "rawType": "object",
         "type": "string"
        },
        {
         "name": "Broad.phase.of.flight",
         "rawType": "object",
         "type": "string"
        },
        {
         "name": "Report.Status",
         "rawType": "object",
         "type": "string"
        },
        {
         "name": "Publication.Date",
         "rawType": "object",
         "type": "string"
        },
        {
         "name": "Number.of.Engines",
         "rawType": "float64",
         "type": "float"
        },
        {
         "name": "Total.Fatal.Injuries",
         "rawType": "float64",
         "type": "float"
        },
        {
         "name": "Total.Serious.Injuries",
         "rawType": "float64",
         "type": "float"
        },
        {
         "name": "Total.Minor.Injuries",
         "rawType": "float64",
         "type": "float"
        },
        {
         "name": "Total.Uninjured",
         "rawType": "float64",
         "type": "float"
        }
       ],
       "conversionMethod": "pd.DataFrame",
       "ref": "11d4617e-46c3-417a-ba67-b94481452726",
       "rows": [
        [
         "0",
         "20001218X45444",
         "Accident",
         "SEA87LA080",
         "1948-10-24",
         "MOOSE CREEK, ID",
         "United States",
         "Unknown",
         "Unknown",
         "NONE",
         "Private",
         "Fatal(2)",
         "Destroyed",
         "Unknown",
         "NC6404",
         "Stinson",
         "108-3",
         "No",
         "Reciprocating",
         "Unknown",
         "Personal",
         "UNK",
         "Cruise",
         "Probable Cause",
         "25-09-2020",
         "1.0",
         "2.0",
         "0.0",
         "0.0",
         "0.0"
        ],
        [
         "1",
         "20001218X45447",
         "Accident",
         "LAX94LA336",
         "1962-07-19",
         "BRIDGEPORT, CA",
         "United States",
         "Unknown",
         "Unknown",
         "NONE",
         "Private",
         "Fatal(4)",
         "Destroyed",
         "Unknown",
         "N5069P",
         "Piper",
         "PA24-180",
         "No",
         "Reciprocating",
         "Unknown",
         "Personal",
         "UNK",
         "Unknown",
         "Probable Cause",
         "19-09-1996",
         "1.0",
         "4.0",
         "0.0",
         "0.0",
         "0.0"
        ],
        [
         "2",
         "20061025X01555",
         "Accident",
         "NYC07LA005",
         "1974-08-30",
         "Saltville, VA",
         "United States",
         "36.922223",
         "-81.878056",
         "NONE",
         "Private",
         "Fatal(3)",
         "Destroyed",
         "Unknown",
         "N5142R",
         "Cessna",
         "172M",
         "No",
         "Reciprocating",
         "Unknown",
         "Personal",
         "IMC",
         "Cruise",
         "Probable Cause",
         "26-02-2007",
         "1.0",
         "3.0",
         "0.0",
         "0.0",
         "1.0"
        ],
        [
         "3",
         "20001218X45448",
         "Accident",
         "LAX96LA321",
         "1977-06-19",
         "EUREKA, CA",
         "United States",
         "Unknown",
         "Unknown",
         "NONE",
         "Private",
         "Fatal(2)",
         "Destroyed",
         "Unknown",
         "N1168J",
         "Rockwell",
         "112",
         "No",
         "Reciprocating",
         "Unknown",
         "Personal",
         "IMC",
         "Cruise",
         "Probable Cause",
         "12-09-2000",
         "1.0",
         "2.0",
         "0.0",
         "0.0",
         "0.0"
        ],
        [
         "4",
         "20041105X01764",
         "Accident",
         "CHI79FA064",
         "1979-08-02",
         "Canton, OH",
         "United States",
         "Unknown",
         "Unknown",
         "NONE",
         "Private",
         "Fatal(1)",
         "Destroyed",
         "Unknown",
         "N15NY",
         "Cessna",
         "501",
         "No",
         "Reciprocating",
         "Unknown",
         "Personal",
         "VMC",
         "Approach",
         "Probable Cause",
         "16-04-1980",
         "1.0",
         "1.0",
         "2.0",
         "0.0",
         "0.0"
        ]
       ],
       "shape": {
        "columns": 29,
        "rows": 5
       }
      },
      "text/html": [
       "<div>\n",
       "<style scoped>\n",
       "    .dataframe tbody tr th:only-of-type {\n",
       "        vertical-align: middle;\n",
       "    }\n",
       "\n",
       "    .dataframe tbody tr th {\n",
       "        vertical-align: top;\n",
       "    }\n",
       "\n",
       "    .dataframe thead th {\n",
       "        text-align: right;\n",
       "    }\n",
       "</style>\n",
       "<table border=\"1\" class=\"dataframe\">\n",
       "  <thead>\n",
       "    <tr style=\"text-align: right;\">\n",
       "      <th></th>\n",
       "      <th>Event.Id</th>\n",
       "      <th>Investigation.Type</th>\n",
       "      <th>Accident.Number</th>\n",
       "      <th>Event.Date</th>\n",
       "      <th>Location</th>\n",
       "      <th>Country</th>\n",
       "      <th>Latitude</th>\n",
       "      <th>Longitude</th>\n",
       "      <th>Airport.Code</th>\n",
       "      <th>Airport.Name</th>\n",
       "      <th>...</th>\n",
       "      <th>Purpose.of.flight</th>\n",
       "      <th>Weather.Condition</th>\n",
       "      <th>Broad.phase.of.flight</th>\n",
       "      <th>Report.Status</th>\n",
       "      <th>Publication.Date</th>\n",
       "      <th>Number.of.Engines</th>\n",
       "      <th>Total.Fatal.Injuries</th>\n",
       "      <th>Total.Serious.Injuries</th>\n",
       "      <th>Total.Minor.Injuries</th>\n",
       "      <th>Total.Uninjured</th>\n",
       "    </tr>\n",
       "  </thead>\n",
       "  <tbody>\n",
       "    <tr>\n",
       "      <th>0</th>\n",
       "      <td>20001218X45444</td>\n",
       "      <td>Accident</td>\n",
       "      <td>SEA87LA080</td>\n",
       "      <td>1948-10-24</td>\n",
       "      <td>MOOSE CREEK, ID</td>\n",
       "      <td>United States</td>\n",
       "      <td>Unknown</td>\n",
       "      <td>Unknown</td>\n",
       "      <td>NONE</td>\n",
       "      <td>Private</td>\n",
       "      <td>...</td>\n",
       "      <td>Personal</td>\n",
       "      <td>UNK</td>\n",
       "      <td>Cruise</td>\n",
       "      <td>Probable Cause</td>\n",
       "      <td>25-09-2020</td>\n",
       "      <td>1.0</td>\n",
       "      <td>2.0</td>\n",
       "      <td>0.0</td>\n",
       "      <td>0.0</td>\n",
       "      <td>0.0</td>\n",
       "    </tr>\n",
       "    <tr>\n",
       "      <th>1</th>\n",
       "      <td>20001218X45447</td>\n",
       "      <td>Accident</td>\n",
       "      <td>LAX94LA336</td>\n",
       "      <td>1962-07-19</td>\n",
       "      <td>BRIDGEPORT, CA</td>\n",
       "      <td>United States</td>\n",
       "      <td>Unknown</td>\n",
       "      <td>Unknown</td>\n",
       "      <td>NONE</td>\n",
       "      <td>Private</td>\n",
       "      <td>...</td>\n",
       "      <td>Personal</td>\n",
       "      <td>UNK</td>\n",
       "      <td>Unknown</td>\n",
       "      <td>Probable Cause</td>\n",
       "      <td>19-09-1996</td>\n",
       "      <td>1.0</td>\n",
       "      <td>4.0</td>\n",
       "      <td>0.0</td>\n",
       "      <td>0.0</td>\n",
       "      <td>0.0</td>\n",
       "    </tr>\n",
       "    <tr>\n",
       "      <th>2</th>\n",
       "      <td>20061025X01555</td>\n",
       "      <td>Accident</td>\n",
       "      <td>NYC07LA005</td>\n",
       "      <td>1974-08-30</td>\n",
       "      <td>Saltville, VA</td>\n",
       "      <td>United States</td>\n",
       "      <td>36.922223</td>\n",
       "      <td>-81.878056</td>\n",
       "      <td>NONE</td>\n",
       "      <td>Private</td>\n",
       "      <td>...</td>\n",
       "      <td>Personal</td>\n",
       "      <td>IMC</td>\n",
       "      <td>Cruise</td>\n",
       "      <td>Probable Cause</td>\n",
       "      <td>26-02-2007</td>\n",
       "      <td>1.0</td>\n",
       "      <td>3.0</td>\n",
       "      <td>0.0</td>\n",
       "      <td>0.0</td>\n",
       "      <td>1.0</td>\n",
       "    </tr>\n",
       "    <tr>\n",
       "      <th>3</th>\n",
       "      <td>20001218X45448</td>\n",
       "      <td>Accident</td>\n",
       "      <td>LAX96LA321</td>\n",
       "      <td>1977-06-19</td>\n",
       "      <td>EUREKA, CA</td>\n",
       "      <td>United States</td>\n",
       "      <td>Unknown</td>\n",
       "      <td>Unknown</td>\n",
       "      <td>NONE</td>\n",
       "      <td>Private</td>\n",
       "      <td>...</td>\n",
       "      <td>Personal</td>\n",
       "      <td>IMC</td>\n",
       "      <td>Cruise</td>\n",
       "      <td>Probable Cause</td>\n",
       "      <td>12-09-2000</td>\n",
       "      <td>1.0</td>\n",
       "      <td>2.0</td>\n",
       "      <td>0.0</td>\n",
       "      <td>0.0</td>\n",
       "      <td>0.0</td>\n",
       "    </tr>\n",
       "    <tr>\n",
       "      <th>4</th>\n",
       "      <td>20041105X01764</td>\n",
       "      <td>Accident</td>\n",
       "      <td>CHI79FA064</td>\n",
       "      <td>1979-08-02</td>\n",
       "      <td>Canton, OH</td>\n",
       "      <td>United States</td>\n",
       "      <td>Unknown</td>\n",
       "      <td>Unknown</td>\n",
       "      <td>NONE</td>\n",
       "      <td>Private</td>\n",
       "      <td>...</td>\n",
       "      <td>Personal</td>\n",
       "      <td>VMC</td>\n",
       "      <td>Approach</td>\n",
       "      <td>Probable Cause</td>\n",
       "      <td>16-04-1980</td>\n",
       "      <td>1.0</td>\n",
       "      <td>1.0</td>\n",
       "      <td>2.0</td>\n",
       "      <td>0.0</td>\n",
       "      <td>0.0</td>\n",
       "    </tr>\n",
       "  </tbody>\n",
       "</table>\n",
       "<p>5 rows × 29 columns</p>\n",
       "</div>"
      ],
      "text/plain": [
       "         Event.Id Investigation.Type Accident.Number  Event.Date  \\\n",
       "0  20001218X45444           Accident      SEA87LA080  1948-10-24   \n",
       "1  20001218X45447           Accident      LAX94LA336  1962-07-19   \n",
       "2  20061025X01555           Accident      NYC07LA005  1974-08-30   \n",
       "3  20001218X45448           Accident      LAX96LA321  1977-06-19   \n",
       "4  20041105X01764           Accident      CHI79FA064  1979-08-02   \n",
       "\n",
       "          Location        Country   Latitude   Longitude Airport.Code  \\\n",
       "0  MOOSE CREEK, ID  United States    Unknown     Unknown         NONE   \n",
       "1   BRIDGEPORT, CA  United States    Unknown     Unknown         NONE   \n",
       "2    Saltville, VA  United States  36.922223  -81.878056         NONE   \n",
       "3       EUREKA, CA  United States    Unknown     Unknown         NONE   \n",
       "4       Canton, OH  United States    Unknown     Unknown         NONE   \n",
       "\n",
       "  Airport.Name  ... Purpose.of.flight Weather.Condition Broad.phase.of.flight  \\\n",
       "0      Private  ...          Personal               UNK                Cruise   \n",
       "1      Private  ...          Personal               UNK               Unknown   \n",
       "2      Private  ...          Personal               IMC                Cruise   \n",
       "3      Private  ...          Personal               IMC                Cruise   \n",
       "4      Private  ...          Personal               VMC              Approach   \n",
       "\n",
       "    Report.Status Publication.Date Number.of.Engines Total.Fatal.Injuries  \\\n",
       "0  Probable Cause       25-09-2020               1.0                  2.0   \n",
       "1  Probable Cause       19-09-1996               1.0                  4.0   \n",
       "2  Probable Cause       26-02-2007               1.0                  3.0   \n",
       "3  Probable Cause       12-09-2000               1.0                  2.0   \n",
       "4  Probable Cause       16-04-1980               1.0                  1.0   \n",
       "\n",
       "  Total.Serious.Injuries Total.Minor.Injuries Total.Uninjured  \n",
       "0                    0.0                  0.0             0.0  \n",
       "1                    0.0                  0.0             0.0  \n",
       "2                    0.0                  0.0             1.0  \n",
       "3                    0.0                  0.0             0.0  \n",
       "4                    2.0                  0.0             0.0  \n",
       "\n",
       "[5 rows x 29 columns]"
      ]
     },
     "execution_count": 33,
     "metadata": {},
     "output_type": "execute_result"
    }
   ],
   "source": [
    "# Create the final DataFrame\n",
    "Aviation_df = pd.concat([df[categorical_values], df[numeric_values]], axis=1)\n",
    "Aviation_df.head()\n",
    "\n",
    "\n"
   ]
  },
  {
   "cell_type": "code",
   "execution_count": 34,
   "metadata": {},
   "outputs": [
    {
     "name": "stdout",
     "output_type": "stream",
     "text": [
      "<class 'pandas.core.frame.DataFrame'>\n",
      "RangeIndex: 90348 entries, 0 to 90347\n",
      "Data columns (total 29 columns):\n",
      " #   Column                  Non-Null Count  Dtype  \n",
      "---  ------                  --------------  -----  \n",
      " 0   Event.Id                90348 non-null  object \n",
      " 1   Investigation.Type      90348 non-null  object \n",
      " 2   Accident.Number         90348 non-null  object \n",
      " 3   Event.Date              90348 non-null  object \n",
      " 4   Location                90348 non-null  object \n",
      " 5   Country                 90348 non-null  object \n",
      " 6   Latitude                90348 non-null  object \n",
      " 7   Longitude               90348 non-null  object \n",
      " 8   Airport.Code            90348 non-null  object \n",
      " 9   Airport.Name            90348 non-null  object \n",
      " 10  Injury.Severity         90348 non-null  object \n",
      " 11  Aircraft.damage         90348 non-null  object \n",
      " 12  Aircraft.Category       90348 non-null  object \n",
      " 13  Registration.Number     90348 non-null  object \n",
      " 14  Make                    90348 non-null  object \n",
      " 15  Model                   90348 non-null  object \n",
      " 16  Amateur.Built           90348 non-null  object \n",
      " 17  Engine.Type             90348 non-null  object \n",
      " 18  FAR.Description         90348 non-null  object \n",
      " 19  Purpose.of.flight       90348 non-null  object \n",
      " 20  Weather.Condition       90348 non-null  object \n",
      " 21  Broad.phase.of.flight   90348 non-null  object \n",
      " 22  Report.Status           90348 non-null  object \n",
      " 23  Publication.Date        90348 non-null  object \n",
      " 24  Number.of.Engines       90348 non-null  float64\n",
      " 25  Total.Fatal.Injuries    90348 non-null  float64\n",
      " 26  Total.Serious.Injuries  90348 non-null  float64\n",
      " 27  Total.Minor.Injuries    90348 non-null  float64\n",
      " 28  Total.Uninjured         90348 non-null  float64\n",
      "dtypes: float64(5), object(24)\n",
      "memory usage: 20.0+ MB\n"
     ]
    }
   ],
   "source": [
    "Aviation_df.info()"
   ]
  },
  {
   "cell_type": "code",
   "execution_count": 35,
   "metadata": {},
   "outputs": [
    {
     "data": {
      "text/plain": [
       "(90348, 29)"
      ]
     },
     "execution_count": 35,
     "metadata": {},
     "output_type": "execute_result"
    }
   ],
   "source": [
    "Aviation_df.shape"
   ]
  },
  {
   "cell_type": "markdown",
   "metadata": {},
   "source": [
    "### Now the data is prepared, Cleaned ready for Analysis\n",
    "\n",
    "The data is stored under variable `Avition_df`"
   ]
  },
  {
   "cell_type": "markdown",
   "metadata": {},
   "source": [
    "## **Data Analysis**\n",
    "\n",
    "### Key Business Questions/ Business Objectives\n",
    "\n",
    "1. **Which aircraft models have the lowest accident rates?**\n",
    "\n",
    "The goal of this analysis is to identify aircraft models with the lowest accident rates. This will help the company prioritize safer aircraft for purchase and operation. To achieve this, I will analyze the Aviation_df dataset, focusing on aircraft models and their associated accident data.\n",
    "\n",
    "For effective analysis I will be using this features to get insights:\n",
    "\n",
    "* Model: The aircraft model (e.g., Boeing 737, Cessna 172).\n",
    "* Make: The manufacturer of the aircraft (e.g., Boeing, Airbus, Cessna).\n",
    "* Total.Fatal.Injuries: Total fatalities per accident.\n",
    "* Total.Serious.Injuries: Total serious injuries per accident.\n",
    "* Total.Minor.Injuries: Total minor injuries per accident.\n",
    "* Total.Uninjured: Total uninjured individuals per accident.\n",
    "* Event.Date: Date of the accident (to analyze trends over time).\n",
    "* Aircraft.Category: Type of aircraft (e.g., airplane, helicopter).\n",
    "* Engine.Type: Type of engine (e.g., piston, turbojet).\n",
    "* Broad.phase.of.flight: Phase of flight when the accident occurred (e.g., takeoff, landing)."
   ]
  },
  {
   "cell_type": "markdown",
   "metadata": {},
   "source": [
    "\n",
    "\n",
    "In cell below I am calculating the Accident counts per Aircraft model by grouping the data by `Model` and count the number of accidents for each model. Second I find the `Injury` and `fatality` metrics by grouping data by `Model` and calculate **Total Accidents**: count of accidents per model, **Total Fatalities:** sum of Total.Fatal.Injuries, **Total Injuries:** Sum of Total.Serious.Injuries and Total.Minor.Injuries, **Average Severity:** Average fatalities per accident(Total.Fatal.Injuries / Total Accidents).\n",
    "\n",
    "I will achieve this by using **Data Aggregation** methods and `.groupby()` method"
   ]
  },
  {
   "cell_type": "code",
   "execution_count": 36,
   "metadata": {},
   "outputs": [
    {
     "data": {
      "application/vnd.microsoft.datawrangler.viewer.v0+json": {
       "columns": [
        {
         "name": "index",
         "rawType": "int64",
         "type": "integer"
        },
        {
         "name": "Model",
         "rawType": "object",
         "type": "string"
        },
        {
         "name": "Total_Accidents",
         "rawType": "int64",
         "type": "integer"
        },
        {
         "name": "Total_Fatalities",
         "rawType": "float64",
         "type": "float"
        },
        {
         "name": "Total_Serious_Injuries",
         "rawType": "float64",
         "type": "float"
        },
        {
         "name": "Total_Minor_Injuries",
         "rawType": "float64",
         "type": "float"
        },
        {
         "name": "Average_Fatalities",
         "rawType": "float64",
         "type": "float"
        },
        {
         "name": "Total_Injuries",
         "rawType": "float64",
         "type": "float"
        }
       ],
       "conversionMethod": "pd.DataFrame",
       "ref": "811b32dc-a98b-4f1b-9a84-31a62480e1bb",
       "rows": [
        [
         "0",
         "100 180",
         "1",
         "0.0",
         "0.0",
         "0.0",
         "0.0",
         "0.0"
        ],
        [
         "1",
         "100-160",
         "1",
         "0.0",
         "0.0",
         "0.0",
         "0.0",
         "0.0"
        ],
        [
         "2",
         "1000",
         "1",
         "0.0",
         "1.0",
         "0.0",
         "0.0",
         "1.0"
        ],
        [
         "3",
         "1000 STU",
         "1",
         "0.0",
         "0.0",
         "0.0",
         "0.0",
         "0.0"
        ],
        [
         "4",
         "1000LT",
         "1",
         "3.0",
         "0.0",
         "0.0",
         "3.0",
         "0.0"
        ],
        [
         "5",
         "1002",
         "1",
         "0.0",
         "2.0",
         "0.0",
         "0.0",
         "2.0"
        ],
        [
         "6",
         "100D2",
         "1",
         "2.0",
         "0.0",
         "0.0",
         "2.0",
         "0.0"
        ],
        [
         "7",
         "Zodiac CH-601-H",
         "1",
         "0.0",
         "0.0",
         "0.0",
         "0.0",
         "0.0"
        ],
        [
         "8",
         "1-11",
         "1",
         "0.0",
         "0.0",
         "0.0",
         "0.0",
         "0.0"
        ],
        [
         "9",
         "1-11-204AF",
         "1",
         "0.0",
         "0.0",
         "0.0",
         "0.0",
         "0.0"
        ]
       ],
       "shape": {
        "columns": 7,
        "rows": 10
       }
      },
      "text/html": [
       "<div>\n",
       "<style scoped>\n",
       "    .dataframe tbody tr th:only-of-type {\n",
       "        vertical-align: middle;\n",
       "    }\n",
       "\n",
       "    .dataframe tbody tr th {\n",
       "        vertical-align: top;\n",
       "    }\n",
       "\n",
       "    .dataframe thead th {\n",
       "        text-align: right;\n",
       "    }\n",
       "</style>\n",
       "<table border=\"1\" class=\"dataframe\">\n",
       "  <thead>\n",
       "    <tr style=\"text-align: right;\">\n",
       "      <th></th>\n",
       "      <th>Model</th>\n",
       "      <th>Total_Accidents</th>\n",
       "      <th>Total_Fatalities</th>\n",
       "      <th>Total_Serious_Injuries</th>\n",
       "      <th>Total_Minor_Injuries</th>\n",
       "      <th>Average_Fatalities</th>\n",
       "      <th>Total_Injuries</th>\n",
       "    </tr>\n",
       "  </thead>\n",
       "  <tbody>\n",
       "    <tr>\n",
       "      <th>0</th>\n",
       "      <td>100 180</td>\n",
       "      <td>1</td>\n",
       "      <td>0.0</td>\n",
       "      <td>0.0</td>\n",
       "      <td>0.0</td>\n",
       "      <td>0.0</td>\n",
       "      <td>0.0</td>\n",
       "    </tr>\n",
       "    <tr>\n",
       "      <th>1</th>\n",
       "      <td>100-160</td>\n",
       "      <td>1</td>\n",
       "      <td>0.0</td>\n",
       "      <td>0.0</td>\n",
       "      <td>0.0</td>\n",
       "      <td>0.0</td>\n",
       "      <td>0.0</td>\n",
       "    </tr>\n",
       "    <tr>\n",
       "      <th>2</th>\n",
       "      <td>1000</td>\n",
       "      <td>1</td>\n",
       "      <td>0.0</td>\n",
       "      <td>1.0</td>\n",
       "      <td>0.0</td>\n",
       "      <td>0.0</td>\n",
       "      <td>1.0</td>\n",
       "    </tr>\n",
       "    <tr>\n",
       "      <th>3</th>\n",
       "      <td>1000 STU</td>\n",
       "      <td>1</td>\n",
       "      <td>0.0</td>\n",
       "      <td>0.0</td>\n",
       "      <td>0.0</td>\n",
       "      <td>0.0</td>\n",
       "      <td>0.0</td>\n",
       "    </tr>\n",
       "    <tr>\n",
       "      <th>4</th>\n",
       "      <td>1000LT</td>\n",
       "      <td>1</td>\n",
       "      <td>3.0</td>\n",
       "      <td>0.0</td>\n",
       "      <td>0.0</td>\n",
       "      <td>3.0</td>\n",
       "      <td>0.0</td>\n",
       "    </tr>\n",
       "    <tr>\n",
       "      <th>5</th>\n",
       "      <td>1002</td>\n",
       "      <td>1</td>\n",
       "      <td>0.0</td>\n",
       "      <td>2.0</td>\n",
       "      <td>0.0</td>\n",
       "      <td>0.0</td>\n",
       "      <td>2.0</td>\n",
       "    </tr>\n",
       "    <tr>\n",
       "      <th>6</th>\n",
       "      <td>100D2</td>\n",
       "      <td>1</td>\n",
       "      <td>2.0</td>\n",
       "      <td>0.0</td>\n",
       "      <td>0.0</td>\n",
       "      <td>2.0</td>\n",
       "      <td>0.0</td>\n",
       "    </tr>\n",
       "    <tr>\n",
       "      <th>7</th>\n",
       "      <td>Zodiac CH-601-H</td>\n",
       "      <td>1</td>\n",
       "      <td>0.0</td>\n",
       "      <td>0.0</td>\n",
       "      <td>0.0</td>\n",
       "      <td>0.0</td>\n",
       "      <td>0.0</td>\n",
       "    </tr>\n",
       "    <tr>\n",
       "      <th>8</th>\n",
       "      <td>1-11</td>\n",
       "      <td>1</td>\n",
       "      <td>0.0</td>\n",
       "      <td>0.0</td>\n",
       "      <td>0.0</td>\n",
       "      <td>0.0</td>\n",
       "      <td>0.0</td>\n",
       "    </tr>\n",
       "    <tr>\n",
       "      <th>9</th>\n",
       "      <td>1-11-204AF</td>\n",
       "      <td>1</td>\n",
       "      <td>0.0</td>\n",
       "      <td>0.0</td>\n",
       "      <td>0.0</td>\n",
       "      <td>0.0</td>\n",
       "      <td>0.0</td>\n",
       "    </tr>\n",
       "  </tbody>\n",
       "</table>\n",
       "</div>"
      ],
      "text/plain": [
       "             Model  Total_Accidents  Total_Fatalities  Total_Serious_Injuries  \\\n",
       "0          100 180                1               0.0                     0.0   \n",
       "1          100-160                1               0.0                     0.0   \n",
       "2             1000                1               0.0                     1.0   \n",
       "3         1000 STU                1               0.0                     0.0   \n",
       "4           1000LT                1               3.0                     0.0   \n",
       "5             1002                1               0.0                     2.0   \n",
       "6            100D2                1               2.0                     0.0   \n",
       "7  Zodiac CH-601-H                1               0.0                     0.0   \n",
       "8             1-11                1               0.0                     0.0   \n",
       "9       1-11-204AF                1               0.0                     0.0   \n",
       "\n",
       "   Total_Minor_Injuries  Average_Fatalities  Total_Injuries  \n",
       "0                   0.0                 0.0             0.0  \n",
       "1                   0.0                 0.0             0.0  \n",
       "2                   0.0                 0.0             1.0  \n",
       "3                   0.0                 0.0             0.0  \n",
       "4                   0.0                 3.0             0.0  \n",
       "5                   0.0                 0.0             2.0  \n",
       "6                   0.0                 2.0             0.0  \n",
       "7                   0.0                 0.0             0.0  \n",
       "8                   0.0                 0.0             0.0  \n",
       "9                   0.0                 0.0             0.0  "
      ]
     },
     "execution_count": 36,
     "metadata": {},
     "output_type": "execute_result"
    }
   ],
   "source": [
    "# Group data by model and use .mean(), .count() .sum() aggregation methods\n",
    "\n",
    "accident_summary = Aviation_df.groupby('Model').agg(\n",
    "    Total_Accidents=('Event.Id', 'count'), # count accidents per model\n",
    "    Total_Fatalities=('Total.Fatal.Injuries', 'sum'), # sum the fatalities\n",
    "    Total_Serious_Injuries=('Total.Serious.Injuries', 'sum'),# sum serious injuries\n",
    "    Total_Minor_Injuries=('Total.Minor.Injuries', 'sum'), # sum minor injuries\n",
    "    Average_Fatalities=('Total.Fatal.Injuries', 'mean')# Avg fatalities per accident\n",
    "\n",
    ").reset_index()\n",
    "\n",
    "# calculate total injuries separately \n",
    "accident_summary ['Total_Injuries']=(\n",
    "    accident_summary['Total_Serious_Injuries'] + accident_summary['Total_Minor_Injuries']\n",
    ")\n",
    "\n",
    "# sort by total accidents to find the safest models\n",
    "safest_models = accident_summary.sort_values(by='Total_Accidents').head(10).reset_index(drop=True)\n",
    "\n",
    "# display the safest model\n",
    "safest_models"
   ]
  },
  {
   "cell_type": "markdown",
   "metadata": {},
   "source": [
    "The cell above finds which model had lowest risk accident. I group data using `Model` and uses aggregation methods and .groupby() to achieve the result. To achieve this I used `Event.Id` as **unique identify** to target all model, And lastly used `.sort_values` by **Total_Accident**.\n",
    "\n",
    "From the analysis Most model had atleast 1 Total_Accidents but still 0 Total_Fatalities, Total_Serious_Injuries, Total_Minor_Injuries,Total_Injuries. This means there was accident but it was not fatal, serious or minor"
   ]
  },
  {
   "cell_type": "markdown",
   "metadata": {},
   "source": [
    "## **Visualization To Highlight Safest aircraft models and trends**\n",
    "\n",
    "To effectively communicate insights, I will use data visualization to highlight aircraft models with the lowest accident counts and identify patterns in aviation safety.\n",
    "\n",
    "### Objective\n",
    "\n",
    "* Visualize the top 10 aircraft models with the lowest accident counts.\n",
    "* Use bar charts to show accident frequency across different aircraft models.\n",
    "* Identify potential trends in aircraft safety.\n",
    "\n",
    "First I import Libraries for visualization in cell below.\n",
    "1. Matplotlib as plt\n",
    "2. seaborn as sns\n",
    "\n",
    "In the cell below I plot a **Bar plot** for safest Models visualize the top 10 models with the lowest accident counts."
   ]
  },
  {
   "cell_type": "code",
   "execution_count": 55,
   "metadata": {},
   "outputs": [
    {
     "name": "stderr",
     "output_type": "stream",
     "text": [
      "C:\\Users\\ronny somi\\AppData\\Local\\Temp\\ipykernel_11468\\1367816411.py:5: FutureWarning: \n",
      "\n",
      "Passing `palette` without assigning `hue` is deprecated and will be removed in v0.14.0. Assign the `y` variable to `hue` and set `legend=False` for the same effect.\n",
      "\n",
      "  bars = sns.barplot(x='Total_Accidents', y='Model', data=safest_models, palette='viridis', ax=ax)\n"
     ]
    },
    {
     "data": {
      "image/png": "[encoded data removed]",
      "text/plain": [
       "<Figure size 1000x600 with 1 Axes>"
      ]
     },
     "metadata": {},
     "output_type": "display_data"
    }
   ],
   "source": [
    "\n",
    "# Create a figure and axis\n",
    "fig, ax = plt.subplots(figsize=(10,6))  # Defines size of the figure\n",
    "\n",
    "# Create the barplot and store bars\n",
    "bars = sns.barplot(x='Total_Accidents', y='Model', data=safest_models, palette='viridis', ax=ax)\n",
    "\n",
    "# Manually create legend\n",
    "handles = [plt.Rectangle((0,0),1,1, color=bar.get_facecolor()) for bar in bars.patches]\n",
    "ax.legend(handles, safest_models['Model'], title=\"Top 10 Safest Models\", bbox_to_anchor=(1.05, 1), loc='upper left')\n",
    "\n",
    "# Set labels and title\n",
    "ax.set_title('Top 10 Safest Aircraft Models by Accident Count')\n",
    "ax.set_xlabel('Total Accidents')\n",
    "ax.set_ylabel('Aircraft Model')\n",
    "\n",
    "# Show the plot\n",
    "plt.show()\n"
   ]
  },
  {
   "cell_type": "markdown",
   "metadata": {},
   "source": [
    "Interpretation of the above cell **Aircraft Models on Y-axis** shows the the safest models simply meaning they had the lowest risk.\n",
    "\n",
    "The company should consider this model `100 180`,`100 160`,`1000`,`1000 STU` etc **for business start as they are abit safe** \n",
    "\n",
    "For ploting I am using **object oriented concept** `fig, ax =plt.subplots(), ax`\n",
    "\n",
    "And in X-axis shows **Total Accidents**: The X-axis values ranges from 0 to 1, meaning each of these aircraft models recorded **only 1 accident**\n",
    "Since all bars appear to have the same length, it implies that all models here have an **equal number of recorded accidents**\n",
    "\n",
    "For colorRepresentation **Different shades represent different aircraft models**"
   ]
  },
  {
   "cell_type": "markdown",
   "metadata": {},
   "source": [
    "In cell below I am analysing the **Safest aircraft models** by analyzing `fatalities` and **injuries** associated with the different `Engine.Type` \n",
    "\n",
    "First I filtered the top 10 engine types as the there are 90,308 entiries in data and the chart would be cluttered to plot all the entiries at once and hard for readability. `value_counts()`:value_counts(), `nlargest(10).index`: Picks the top 10 most common engine types and `isin(top_engines)`: Filters the dataset, keeping only rows where the engine type is in the top 10.\n",
    "\n",
    "Then performs grouping of data by `Make`, `Model` and `Engine.Type`. Next I aggregate `.gg()` which agggregates **Key injury metrics using**: `sum of fatalities (Total.Fatal.Injuries)`, `sum of serious injuries (Total.Serious.Injuries)` and `sum of minor injuries (Total.Minor.Injuries)`.\n",
    "\n",
    "And filtered **models with no injuries with a goal to keep only aircraft models that had atleast onne**: `Fatality`, `Serious injury` and `Minor injury`. Model with zero reported accident was not included\n",
    "\n"
   ]
  },
  {
   "cell_type": "code",
   "execution_count": 38,
   "metadata": {},
   "outputs": [
    {
     "data": {
      "application/vnd.microsoft.datawrangler.viewer.v0+json": {
       "columns": [
        {
         "name": "index",
         "rawType": "int64",
         "type": "integer"
        },
        {
         "name": "Make",
         "rawType": "object",
         "type": "string"
        },
        {
         "name": "Model",
         "rawType": "object",
         "type": "string"
        },
        {
         "name": "Engine.Type",
         "rawType": "object",
         "type": "string"
        },
        {
         "name": "Total_Fatalities",
         "rawType": "float64",
         "type": "float"
        },
        {
         "name": "Total_Serious_Injuries",
         "rawType": "float64",
         "type": "float"
        },
        {
         "name": "Total_Minor_Injuries",
         "rawType": "float64",
         "type": "float"
        }
       ],
       "conversionMethod": "pd.DataFrame",
       "ref": "ec04ffff-04b5-4dae-8b12-e8183533f388",
       "rows": [
        [
         "0",
         "107.5 Flying Corporation",
         "One Design DR 107",
         "Reciprocating",
         "1.0",
         "0.0",
         "0.0"
        ],
        [
         "1",
         "1200",
         "G103",
         "Reciprocating",
         "0.0",
         "1.0",
         "0.0"
        ],
        [
         "2",
         "177MF LLC",
         "PITTS MODEL 12",
         "Reciprocating",
         "0.0",
         "2.0",
         "0.0"
        ],
        [
         "3",
         "1977 Colfer-chan",
         "STEEN SKYBOLT",
         "Reciprocating",
         "0.0",
         "0.0",
         "1.0"
        ],
        [
         "4",
         "1st Ftr Gp",
         "FOCKE-WULF 190",
         "Reciprocating",
         "1.0",
         "0.0",
         "0.0"
        ]
       ],
       "shape": {
        "columns": 6,
        "rows": 5
       }
      },
      "text/html": [
       "<div>\n",
       "<style scoped>\n",
       "    .dataframe tbody tr th:only-of-type {\n",
       "        vertical-align: middle;\n",
       "    }\n",
       "\n",
       "    .dataframe tbody tr th {\n",
       "        vertical-align: top;\n",
       "    }\n",
       "\n",
       "    .dataframe thead th {\n",
       "        text-align: right;\n",
       "    }\n",
       "</style>\n",
       "<table border=\"1\" class=\"dataframe\">\n",
       "  <thead>\n",
       "    <tr style=\"text-align: right;\">\n",
       "      <th></th>\n",
       "      <th>Make</th>\n",
       "      <th>Model</th>\n",
       "      <th>Engine.Type</th>\n",
       "      <th>Total_Fatalities</th>\n",
       "      <th>Total_Serious_Injuries</th>\n",
       "      <th>Total_Minor_Injuries</th>\n",
       "    </tr>\n",
       "  </thead>\n",
       "  <tbody>\n",
       "    <tr>\n",
       "      <th>0</th>\n",
       "      <td>107.5 Flying Corporation</td>\n",
       "      <td>One Design DR 107</td>\n",
       "      <td>Reciprocating</td>\n",
       "      <td>1.0</td>\n",
       "      <td>0.0</td>\n",
       "      <td>0.0</td>\n",
       "    </tr>\n",
       "    <tr>\n",
       "      <th>1</th>\n",
       "      <td>1200</td>\n",
       "      <td>G103</td>\n",
       "      <td>Reciprocating</td>\n",
       "      <td>0.0</td>\n",
       "      <td>1.0</td>\n",
       "      <td>0.0</td>\n",
       "    </tr>\n",
       "    <tr>\n",
       "      <th>2</th>\n",
       "      <td>177MF LLC</td>\n",
       "      <td>PITTS MODEL 12</td>\n",
       "      <td>Reciprocating</td>\n",
       "      <td>0.0</td>\n",
       "      <td>2.0</td>\n",
       "      <td>0.0</td>\n",
       "    </tr>\n",
       "    <tr>\n",
       "      <th>3</th>\n",
       "      <td>1977 Colfer-chan</td>\n",
       "      <td>STEEN SKYBOLT</td>\n",
       "      <td>Reciprocating</td>\n",
       "      <td>0.0</td>\n",
       "      <td>0.0</td>\n",
       "      <td>1.0</td>\n",
       "    </tr>\n",
       "    <tr>\n",
       "      <th>4</th>\n",
       "      <td>1st Ftr Gp</td>\n",
       "      <td>FOCKE-WULF 190</td>\n",
       "      <td>Reciprocating</td>\n",
       "      <td>1.0</td>\n",
       "      <td>0.0</td>\n",
       "      <td>0.0</td>\n",
       "    </tr>\n",
       "  </tbody>\n",
       "</table>\n",
       "</div>"
      ],
      "text/plain": [
       "                       Make              Model    Engine.Type  \\\n",
       "0  107.5 Flying Corporation  One Design DR 107  Reciprocating   \n",
       "1                      1200               G103  Reciprocating   \n",
       "2                 177MF LLC     PITTS MODEL 12  Reciprocating   \n",
       "3          1977 Colfer-chan      STEEN SKYBOLT  Reciprocating   \n",
       "4                1st Ftr Gp     FOCKE-WULF 190  Reciprocating   \n",
       "\n",
       "   Total_Fatalities  Total_Serious_Injuries  Total_Minor_Injuries  \n",
       "0               1.0                     0.0                   0.0  \n",
       "1               0.0                     1.0                   0.0  \n",
       "2               0.0                     2.0                   0.0  \n",
       "3               0.0                     0.0                   1.0  \n",
       "4               1.0                     0.0                   0.0  "
      ]
     },
     "execution_count": 38,
     "metadata": {},
     "output_type": "execute_result"
    }
   ],
   "source": [
    "# Filter the dataset for top engine types\n",
    "top_engines = Aviation_df['Engine.Type'].value_counts().nlargest(10).index\n",
    "filtered_data = Aviation_df[Aviation_df['Engine.Type'].isin(top_engines)]\n",
    "\n",
    "# Group by Make, Model, and Engine Type\n",
    "safety_df = filtered_data.groupby(['Make', 'Model', 'Engine.Type']).agg(\n",
    "    Total_Fatalities=('Total.Fatal.Injuries', 'sum'),\n",
    "    Total_Serious_Injuries=('Total.Serious.Injuries', 'sum'),\n",
    "    Total_Minor_Injuries=('Total.Minor.Injuries', 'sum')\n",
    ").reset_index()\n",
    "\n",
    "# Ensure valid accident data\n",
    "safety_df = safety_df[\n",
    "    (safety_df['Total_Fatalities'] > 0) | \n",
    "    (safety_df['Total_Serious_Injuries'] > 0) | \n",
    "    (safety_df['Total_Minor_Injuries'] > 0)\n",
    "]\n",
    "\n",
    "# Show results\n",
    "safety_df.head()\n"
   ]
  },
  {
   "cell_type": "markdown",
   "metadata": {},
   "source": [
    "The above output shows a **a DataFrame** created after **grouping data**\n",
    "\n",
    "\n",
    "\n",
    "Cell below **Assigns a weight to each injury type**:\n",
    "`Fatalities (*3): Highest impact (most severe)`, `Serious injuries (*2): Moderate impact` and `Minor injuries (*1): Least impact`. Then sort by Safety_Score in ascending.\n",
    "\n",
    "Lastly I plot a **Horizontal bar chart** with X-axis representing `Safety_Score` and Y-axis `Model`.\n",
    "\n",
    "FOr **color** I uses `Blues_r` reverse color map. **Darker bars** shows safer aircraft"
   ]
  },
  {
   "cell_type": "code",
   "execution_count": 39,
   "metadata": {},
   "outputs": [
    {
     "name": "stderr",
     "output_type": "stream",
     "text": [
      "C:\\Users\\ronny somi\\AppData\\Local\\Temp\\ipykernel_11468\\255335542.py:13: FutureWarning: \n",
      "\n",
      "Passing `palette` without assigning `hue` is deprecated and will be removed in v0.14.0. Assign the `y` variable to `hue` and set `legend=False` for the same effect.\n",
      "\n",
      "  sns.barplot(\n"
     ]
    },
    {
     "data": {
      "image/png": "[encoded data removed]",
      "text/plain": [
       "<Figure size 1000x600 with 1 Axes>"
      ]
     },
     "metadata": {},
     "output_type": "display_data"
    }
   ],
   "source": [
    "# Calculate weighted safety score (lower = safer)\n",
    "safety_df['Safety_Score'] = (\n",
    "    safety_df['Total_Fatalities'] * 3 + \n",
    "    safety_df['Total_Serious_Injuries'] * 2 + \n",
    "    safety_df['Total_Minor_Injuries']\n",
    ")\n",
    "\n",
    "# Get top 10 safest models\n",
    "top_safest = safety_df.sort_values('Safety_Score').head(10)\n",
    "\n",
    "# Plot\n",
    "fig, ax=plt.subplots(figsize=(10, 6))\n",
    "sns.barplot(\n",
    "    data=top_safest,\n",
    "    x='Safety_Score',\n",
    "    y='Model',\n",
    "    palette='Blues_r'  # Darker = safer\n",
    ")\n",
    "\n",
    "\n",
    "ax.set_title('Top 10 Safest Models by Engine.Type and Make')\n",
    "ax.set_xlabel('Safety Score (Lower = Safer)')\n",
    "ax.set_ylabel('Model')\n",
    "plt.show()"
   ]
  },
  {
   "cell_type": "markdown",
   "metadata": {},
   "source": [
    "Above output shows a horizontal bar chart showing safest model depending on the weight of the injuries.\n",
    "\n",
    "The plot shows that Model **MONI MOTORGRINDER, RV8** are more safer depending on the **Engine.Type and Make**"
   ]
  },
  {
   "cell_type": "markdown",
   "metadata": {},
   "source": [
    "### **Analysis of Injury Severity Distribution for the Safest Aircraft Models**\n",
    "\n",
    "The cell below I processes **Aviation_df data** to analyze the **injury severity distribution of the safest aircraft models**\n",
    "\n",
    "The dataset Aviation_df is filtered to include only aircraft models listed in safest_models.The data is grouped by aircraft model and sums up the number of injuries for each model. And stores results in `df_filtered`\n",
    "\n",
    "The dataframe is indexed by aircraft model and plotted as a **stacked bar chart**. `stacked='True` makes sures different injury categories are displayed as stacked segments. And the **color map uses (coolwarm)** for better visualization\n",
    "\n",
    "Then Plots: the chart is analyzed based on **injury severity distribution**.\n",
    "\n",
    "**Highest number of \"Total.Uninjured\" passengers are represented by `(dark red bars)`**. And **Lowest or zero \"Total.Fatal.Injuries represented by `(dark blue bars)`**"
   ]
  },
  {
   "cell_type": "code",
   "execution_count": 40,
   "metadata": {},
   "outputs": [
    {
     "data": {
      "image/png": "[encoded data removed]",
      "text/plain": [
       "<Figure size 1000x600 with 1 Axes>"
      ]
     },
     "metadata": {},
     "output_type": "display_data"
    }
   ],
   "source": [
    "# Step 3: Aggregate Injury Severity for Selected Models\n",
    "injury_cols = [\"Total.Fatal.Injuries\", \"Total.Serious.Injuries\", \"Total.Minor.Injuries\", \"Total.Uninjured\"]\n",
    "df_filtered = Aviation_df[Aviation_df[\"Model\"].isin(safest_models[\"Model\"])].groupby(\"Model\")[injury_cols].sum().reset_index()\n",
    "\n",
    "# Plot Stacked Bar Chart for Injury Severity\n",
    "fig, ax =plt.subplots(figsize=(10,6))\n",
    "df_filtered.set_index(\"Model\").plot(kind=\"bar\", stacked=True, colormap=\"coolwarm\", ax=ax)\n",
    "ax.set_title(\"Injury Severity Distribution for the Safest Aircraft Models\")\n",
    "ax.set_xlabel(\"Aircraft Model\")\n",
    "ax.set_ylabel(\"Number of People\")\n",
    "ax.legend(title=\"Injury Type\")\n",
    "ax.tick_params(axis='x', rotation=45)\n",
    "plt.show()"
   ]
  },
  {
   "cell_type": "markdown",
   "metadata": {},
   "source": [
    "**Observations from the chart**:\n",
    "* The **1-11 and 1-11-204AF** models have the highest number of uninjured people.\n",
    "* Several models such as **1000LT, 100D2, Zodiac CH-601-H** have fatal injuries, making them riskier.\n",
    "* Models with small bar heights generally indicate fewer total incidents, which could also indicate better safety"
   ]
  },
  {
   "cell_type": "markdown",
   "metadata": {},
   "source": [
    "\n",
    "## **Business Objective 1 Findings From my Analysis**\n",
    "\n",
    "### Findings\n",
    "\n",
    "1. **Lowest Accident Rates**: The analysis identifies the top 10 safest aircraft models based on accident count. These models have the lowest number of reported accidents in the dataset, making them statistically safer in terms of historical incident records.\n",
    "\n",
    "2. **Aircraft Models with Minimal Incidents**: The models **100 180, 100-160, 1000, 1000 STU, 1000LT, 1002, 100D2, Zodiac CH-601-H, 1-11, and 1-11-204AF** emerged as having the fewest recorded accidents. This suggests that these models have maintained a strong safety record over time.\n",
    "\n",
    "3. **Consistent Safety Performance**: The safety of these models could be attributed to factors such as reliable engineering, rigorous maintenance protocols, and adherence to operational safety standards. Additionally, some models may have fewer flights in operation, naturally reducing accident occurrences.\n",
    "\n",
    "4. **Injury Analysis**:While accident count was the primary metric, additional insights into fatal and non-fatal injuries revealed that these aircraft models also reported relatively **low numbers of total injuries, including fatalities and serious injuries**.\n",
    "\n",
    "5. **Operational Implications**: Airlines, aviation regulatory bodies, and manufacturers may find this data useful when assessing aircraft reliability, considering fleet upgrades, or making safety-related decisions.\n",
    "6. **Top 10 Safest Aircraft Models**:\n",
    "The analysis identified the **top 10 safest aircraft models** based on accident-related injury data. The **MONI MOTORGLIDER, RV8, RV-4, RANS S-7, RV-6A, SQ-2, Kitfox II, STEEN SKYBOLT, FREEDOM MASTER FM-2, and U206-G** ranked as the safest models according to their Safety Score.\n",
    "\n",
    "7. **Lower Safety Scores Indicate Safer Models**:\n",
    "The safety score was calculated based on the weighted sum of **fatalities, serious injuries, and minor injuries**, where fatalities had the highest weight. The l**ower the safety score, the safer the model**, meaning these models have historically reported fewer severe accidents.\n",
    "\n",
    "7. **Dominance of Light Aircraft and Experimental Models**:\n",
    "A significant proportion of the safest aircraft are **light aircraft, motor gliders, and experimental/homebuilt models** (such as the RV series and Kitfox II). This suggests that these aircraft may have superior safety records due to controlled flight operations, stringent maintenance by individual owners, or advancements in lightweight aviation technology.\n",
    "\n",
    "8. **Impact of Engine Type on Safety**:\n",
    "The dataset was filtered based on the top **10 engine types**, suggesting that specific engine categories may contribute to overall aircraft safety. The engines used in the safest aircraft may exhibit **better reliability, performance efficiency, and lower failure rates**.\n",
    "\n",
    "9. **Variation in Injury Severity Across Aircraft Models**\n",
    "\n",
    "* The plotted data highlights a wide disparity in accident outcomes among aircraft models.\n",
    "* Some models have high numbers of uninjured passengers, while others show instances of fatal, serious, and minor injuries.\n",
    "\n",
    "10. **Models with the Highest Number of Uninjured Passengers**\n",
    "\n",
    "* The 1-11 and 1-11-204AF models stand out with a significantly high number of uninjured passengers, suggesting these models may have strong safety features, robust engineering, or better emergency response capabilities.\n",
    "* These models outperform others in passenger survivability, making them candidates for best safety practices.\n",
    "\n",
    "11. **Aircraft Models with Some Recorded Fatalities and Serious Injuries**\n",
    "\n",
    "* Some models, including the 1000LT, 1002, and Zodiac CH-601-H, have recorded fatal and serious injuries, indicating a higher risk factor compared to other models in the dataset.\n",
    "* These models may require further investigation into their safety performance, crashworthiness, and operational risk factors.\n"
   ]
  },
  {
   "cell_type": "markdown",
   "metadata": {},
   "source": [
    "## **Business Objective 1 Recomendation Based On Analysis and Findings**.\n",
    "\n",
    "### Recommendations\n",
    "\n",
    "1. **Prioritization of Safer Models**: **Airlines and aircraft manufacturers should consider prioritizing these low-accident models** in fleet decisions, training programs, and safety regulations to enhance overall air travel safety.\n",
    "\n",
    "2. **Continuous Safety Enhancements**:Although these models have demonstrated low accident rates, **ongoing improvements in maintenance, pilot training, and regulatory oversight should be sustained** to ensure continued safety performance.\n",
    "\n",
    "3. **Further Investigation of Safety Factors**:  A deeper investigation into **what makes these aircraft models safer**—whether design, operational practices, or technological advancements—can provide valuable insights for **new aircraft development and airline risk management strategies**.\n",
    "\n",
    "4. **Transparency & Passenger Awareness**: Airlines operating these models should **leverage their strong safety records as a competitive advantage**, providing passengers with **clear information about aircraft reliability** to boost confidence in air travel.\n",
    "\n",
    "5. **Industry-wide Safety Benchmarking**:The findings should be shared with **aviation regulatory agencies, airline operators, and aircraft manufacturers** to inform future industry-wide safety benchmarks and **inspire safety improvements across other models**.\n",
    "\n",
    "6. **Airlines and Flight Schools Should Consider These Models for Training and Operations**:\n",
    "The safest aircraft models should be **prioritized for pilot training and recreational flying**, as they have demonstrated lower accident-related fatalities and injuries. Flight schools and aviation organizations should integrate these models into training programs.\n",
    "\n",
    "7. **Aviation Authorities Should Investigate the Factors Behind Their Safety**:\n",
    "Regulatory bodies should **study the engineering, operational procedures, and maintenance protocols of these aircraft models** to extract best practices that can be applied industry-wide.\n",
    "\n",
    "8. **Manufacturers Should Leverage These Findings to Market Their Aircraft**:\n",
    "Aircraft manufacturers whose models rank among the safest should use these insights as a competitive advantage by promoting safety as a core feature in their marketing campaigns and investor presentations.\n",
    "\n",
    "9. **Further Investigation into Engine Type Reliability**:\n",
    "Since engine types influence aircraft safety, **a deeper analysis should be conducted on engine failure rates** across various models. If specific engine types have contributed to lower accident rates, aviation stakeholders should encourage their adoption in new aircraft.\n",
    "\n",
    "10. **Adopt Best Safety Practices from the Top-Performing Aircraft Models**\n",
    "* Airlines and manufacturers should analyze the 1-11 and 1-11-204AF models to understand what makes them safer.\n",
    "* Investigate design choices, materials, avionics, and emergency response systems that contribute to their high passenger survival rates.\n",
    "\n",
    "11. **Review and Improve Safety Measures for Higher-Risk Models**\n",
    "\n",
    "* Models with recorded fatalities and serious injuries (such as **1000LT, 1002, and Zodiac CH-601-H**) should undergo detailed safety assessments.\n",
    "* This could involve design improvements, better pilot training, or regulatory reviews to enhance safety.\n",
    "\n",
    "12. **Data-Driven Decision-Making for Fleet Selection**\n",
    "\n",
    "* Airlines should **prioritize acquiring aircraft models with lower accident severity records to reduce passenger risk and liability**.\n",
    "* Safety should be a key factor in procurement strategies alongside cost and operational efficiency.\n",
    "\n",
    "13. **Encourage Pilot Training and Risk Management Strategies**\n",
    "\n",
    "* For models with recorded incidents, stakeholders should **analyze pilot training protocols and operational risk factors**.\n",
    "* Enhanced pilot simulation training** for high-risk models can help reduce accident rates and improve emergency responses.\n",
    "\n",
    "14. **Continuous Monitoring and Safety Audits**\n",
    "\n",
    "* Regulatory bodies and airlines should regularly audit aircraft safety data and update protocols based on real-world performance.\n",
    "\n",
    "* Aircraft models with recurring safety concerns should be flagged for mandatory design reviews and operational limitations if necessary.\n",
    "\n"
   ]
  },
  {
   "cell_type": "markdown",
   "metadata": {},
   "source": [
    "# **Business Objective 2: What are the common causes of aviation accidents?**\n",
    "\n",
    "**Goal of the Analysis**:\n",
    "\n",
    "The goal of this analysis is to **identify the most frequent causes of aviation accidents** and understand their impact on aviation safety. By analyzing the contributing factors, we can uncover patterns and trends in accident causes, which can help in **risk assessment, preventive measures, and safety improvements** in the company new business.\n",
    "\n",
    "For effective analysis I will be using the following **key features**nto answer the question:\n",
    "\n",
    "* **Broad.phase.of.flight** :  Identifies when the accident occurred (e.g., takeoff, cruise, landing).\n",
    "* **Weather.Condition**: Determines if bad weather contributed to accidents.\n",
    "* **FAR.Description**:Indicates regulatory flight rules (e.g., commercial, general aviation).\n",
    "* **Purpose.of.flight**:Shows whether accidents are more common in certain flight types (e.g., training, private).\n",
    "* **Aircraft.damage**: Indicates severity (e.g., substantial, minor).\n",
    "* **Investigation.Type**:Determines if the accident was an \"Accident\" or \"Incident.\"\n",
    "* **Report.Status**: Helps filter for finalized reports with detailed findings.\n",
    "\n",
    "\n",
    "#### How These Features Help Analysis: \n",
    "\n",
    "1. Broad.phase.of.flight : Identifies if accidents occur more often during takeoff, cruise, or landing.\n",
    "2. Weather.Condition : Determines if bad weather (e.g., fog, storm) is a significant factor.\n",
    "3. FAR.Description : Distinguishes commercial vs. private flight risks.\n",
    "4. Purpose.of.flight : Analyzes if certain flight types (training, business, ferry flights) have higher accident rates.\n",
    "5. Aircraft.damage : Helps determine if common causes lead to minor vs. severe damage.\n",
    "6. Investigation.Type :\tFilters out non-serious incidents.\n",
    "7. Report.Status :Ensures analysis is based on finalized reports."
   ]
  },
  {
   "cell_type": "markdown",
   "metadata": {},
   "source": [
    "In below I am checking **Accidents by Broad Phase of Flight** which is an attribute in `Aviation_df`.\n",
    "\n",
    "This will help identify the riskiest flight phase maybe `takeoff`, `cruise` or `landing`\n",
    "\n",
    "Below I create a variable called `Phase_counts` and stores **count Accident by flight phase** which count the number of accidents that occured during each **phase of flight**\n",
    "\n",
    "Then ploted a **Bar chart** using seaborn library `barplot` function.\n",
    "**X-axis**: represent `Flight phases` and **Y-axis**: represent `Number of accidents per each phase`.\n",
    "\n",
    "`palette=\"coolwarm\"` applies a color gradient where cooler colors (blue) represent higher values and warmer colors (red) represent lower values"
   ]
  },
  {
   "cell_type": "code",
   "execution_count": 54,
   "metadata": {},
   "outputs": [
    {
     "name": "stderr",
     "output_type": "stream",
     "text": [
      "C:\\Users\\ronny somi\\AppData\\Local\\Temp\\ipykernel_11468\\3574415440.py:8: FutureWarning: \n",
      "\n",
      "Passing `palette` without assigning `hue` is deprecated and will be removed in v0.14.0. Assign the `x` variable to `hue` and set `legend=False` for the same effect.\n",
      "\n",
      "  bars = sns.barplot(x=phase_counts.index, y=phase_counts.values, palette=\"coolwarm\", ax=ax)\n"
     ]
    },
    {
     "data": {
      "image/png": "[encoded data removed]",
      "text/plain": [
       "<Figure size 1000x600 with 1 Axes>"
      ]
     },
     "metadata": {},
     "output_type": "display_data"
    }
   ],
   "source": [
    "\n",
    "\n",
    "# Count accidents per flight phase\n",
    "phase_counts = Aviation_df[\"Broad.phase.of.flight\"].value_counts()\n",
    "\n",
    "# Create a figure and axis\n",
    "fig, ax = plt.subplots(figsize=(10, 6))\n",
    "\n",
    "# Create the barplot and store bars\n",
    "bars = sns.barplot(x=phase_counts.index, y=phase_counts.values, palette=\"coolwarm\", ax=ax)\n",
    "\n",
    "# Manually create legend\n",
    "handles = [plt.Rectangle((0,0),1,1, color=bar.get_facecolor()) for bar in bars.patches]\n",
    "ax.legend(handles, phase_counts.index, title=\"Broad Phase of Flight\", bbox_to_anchor=(1.05, 1), loc='upper left')\n",
    "\n",
    "# Set labels and title\n",
    "ax.set_title(\"Accidents by Broad Phase of Flight\")\n",
    "ax.set_xlabel(\"Flight Phase\")\n",
    "ax.set_ylabel(\"Number of Accidents\")\n",
    "ax.tick_params(axis='x', rotation=45)\n",
    "\n",
    "# Show the plot\n",
    "plt.show()\n"
   ]
  },
  {
   "cell_type": "markdown",
   "metadata": {},
   "source": [
    "The cell above shows distribution of accidents across different phases of flight.\n",
    "The x-axis represents different phases of flight and The y-axis represents the number of accidents.\n",
    "\n",
    "**key insights**: 1. Landing has the highest number of accidents this could be either because of **hard landings, runway overruns, loss of control, or weather conditions.**\n",
    "2. Takeoff and Cruise also have a significant number of accidents.\n",
    "3. Maneuvering and Approach phases also contribute significantly\n",
    "4. Climb, Taxi, Descent, and Go-Around have fewer accidents.\n",
    "5. Unknown and Other categories exist but are minimal"
   ]
  },
  {
   "cell_type": "markdown",
   "metadata": {},
   "source": [
    "The cell below I am analysising **Weather Conditions and Accidents**. This assist to understand whether bad weather contributes to more accidents.\n",
    "\n",
    "created a variable unknown as `eather_count` which stores information about whether conditions at the time of the accident. `.value_counts()` this counts how many accidents occurred under each weather condition.\n",
    "\n",
    "The result is a Pandas Series where:\n",
    "The **index** contains unique weather conditions (VMC, IMC, UNK, Unk).\n",
    "The **values** represent the number of accidents recorded for each weather condition.\n",
    "\n",
    "Next I plot a **Bar chart** using seaborn library to visualize \n",
    "\n",
    "\n"
   ]
  },
  {
   "cell_type": "code",
   "execution_count": 42,
   "metadata": {},
   "outputs": [
    {
     "name": "stderr",
     "output_type": "stream",
     "text": [
      "C:\\Users\\ronny somi\\AppData\\Local\\Temp\\ipykernel_11468\\1878177528.py:6: FutureWarning: \n",
      "\n",
      "Passing `palette` without assigning `hue` is deprecated and will be removed in v0.14.0. Assign the `x` variable to `hue` and set `legend=False` for the same effect.\n",
      "\n",
      "  sns.barplot(x=weather_counts.index, y=weather_counts.values, palette=\"magma\", hue=None)\n"
     ]
    },
    {
     "data": {
      "image/png": "[encoded data removed]",
      "text/plain": [
       "<Figure size 800x500 with 1 Axes>"
      ]
     },
     "metadata": {},
     "output_type": "display_data"
    }
   ],
   "source": [
    "# Count accidents by weather condition\n",
    "weather_counts = Aviation_df[\"Weather.Condition\"].value_counts()\n",
    "\n",
    "# Plot bar chart\n",
    "fig, ax = plt.subplots(figsize=(8, 5))\n",
    "sns.barplot(x=weather_counts.index, y=weather_counts.values, palette=\"magma\", hue=None)\n",
    "ax.set_title(\"Accidents by Weather Condition\")\n",
    "ax.set_xlabel(\"Weather Condition\")\n",
    "ax.set_ylabel(\"Number of Accidents\")\n",
    "plt.show()\n"
   ]
  },
  {
   "cell_type": "markdown",
   "metadata": {},
   "source": [
    "The above output shows bar chart that shows **number of accidents** for each weather condition.\n",
    "\n",
    "The weather conditions in the dataset are:\n",
    "* **VMC (Visual Meteorological Conditions)** – Clear weather conditions.\n",
    "* **IMC (Instrument Meteorological Conditions)** – Poor visibility (fog, storms, etc.).\n",
    "* **UNK / Unk** – Unknown or unclassified weather conditions.\n",
    "\n",
    "Observations from the chart:\n",
    "* The majority of aviation accidents occur under VMC (clear weather conditions).\n",
    "* Accidents under IMC (poor weather conditions) are significantly lower but still present.\n",
    "* A small number of accidents are recorded as UNK (unknown).\n",
    "\n",
    "In conclusion this analysis reveals that **clear weather does not necessarily mean safe flights**, as human and mechanical factors contribute to most accidents.\n"
   ]
  },
  {
   "cell_type": "markdown",
   "metadata": {},
   "source": [
    "In the cell below I creates a variable known as `purpose_counts` and store the number of the aviation accidents cayegorized by **Purpose of flight**.\n",
    "\n",
    "Counts the number of accidents for each flight purpose `value_counts().head(10)` and extracts top 10 most frequent flight purposes using .head(10).\n",
    "\n",
    "`y=purpose_counts.index`: The y-axis represents different flight purposes.\n",
    "`x=purpose_counts.values`: The x-axis represents the number of accidents.\n",
    "\n",
    "`palette=\"viridis\"`: Applies a viridis color scheme for better visual contrast."
   ]
  },
  {
   "cell_type": "code",
   "execution_count": 43,
   "metadata": {},
   "outputs": [
    {
     "name": "stderr",
     "output_type": "stream",
     "text": [
      "C:\\Users\\ronny somi\\AppData\\Local\\Temp\\ipykernel_11468\\1518889035.py:6: FutureWarning: \n",
      "\n",
      "Passing `palette` without assigning `hue` is deprecated and will be removed in v0.14.0. Assign the `y` variable to `hue` and set `legend=False` for the same effect.\n",
      "\n",
      "  sns.barplot(x=purpose_counts.values, y=purpose_counts.index, palette=\"viridis\")\n"
     ]
    },
    {
     "data": {
      "image/png": "[encoded data removed]",
      "text/plain": [
       "<Figure size 1200x600 with 1 Axes>"
      ]
     },
     "metadata": {},
     "output_type": "display_data"
    }
   ],
   "source": [
    "# Count accidents by purpose of flight\n",
    "purpose_counts = Aviation_df[\"Purpose.of.flight\"].value_counts().head(10)  # Top 10 categories\n",
    "\n",
    "# Plot bar chart\n",
    "fig, ax =plt.subplots(figsize=(12, 6))\n",
    "sns.barplot(x=purpose_counts.values, y=purpose_counts.index, palette=\"viridis\")\n",
    "ax.set_title(\"Accidents by Purpose of Flight\")\n",
    "ax.set_xlabel(\"Number of Accidents\")\n",
    "ax.set_ylabel(\"Purpose of Flight\")\n",
    "plt.show()\n"
   ]
  },
  {
   "cell_type": "markdown",
   "metadata": {},
   "source": [
    "Key Observations from the Chart:\n",
    "\n",
    "* **\"Personal\" flights** have the highest number of accidents by a huge margin.\n",
    "* **\"Instructional\" and \"Unknown\"** categories follow but are significantly lower.\n",
    "* **\"Aerial Application\" (agricultural flying) and \"Business\" flights** also contribute a notable number of accidents.\n",
    "Less frequent accident types include **\"Positioning,\" \"Other Work Use,\" \"Ferry,\" \"Aerial Observation,\" and \"Public Aircraft.\"**\n",
    "\n",
    "\n",
    "**Why Do Personal Flights Have the Most Accidents**:\n",
    "* Personal flights often involve private pilots with less experience compared to commercial pilots.\n",
    "* Private aircraft maintenance may not be as strictly regulated as commercial airlines.\n",
    "* Pilots flying for personal reasons may take more risks or be underprepared.\n",
    "* Commercial flights (airline transport) follow strict regulations, safety protocols, and pilot training, reducing their accident rates."
   ]
  },
  {
   "cell_type": "markdown",
   "metadata": {},
   "source": [
    "\n",
    "In cell below I am analysising **Aircraft Damage Analysis**By categorizing accidents based on whether they caused substantial, minor, or no damage.\n",
    "\n",
    "Creates a variable called `damage_counts` which counts the number of occurrences for each type of aircraft damage in the dataset (Aviation_df).\n",
    "\n",
    "The result is a **frequency table**, showing how many accidents fall into each category (e.g., \"Substantial,\" \"Destroyed,\" \"Minor,\").\n",
    "\n",
    "Ploting the pie:\n",
    "`ax.pie()` : Creates the pie chart.\n",
    "`damage_counts` : Data values (number of accidents per damage type).\n",
    "`labels=damage_counts.index` : Uses the damage type names as labels.\n",
    "`autopct='%1.1f%%'` : Displays percentages inside the pie slices.\n",
    "`colors=[\"red\", \"orange\", \"green\"]`: Specifies colors for each category.\n",
    "\n"
   ]
  },
  {
   "cell_type": "code",
   "execution_count": 44,
   "metadata": {},
   "outputs": [
    {
     "data": {
      "image/png": "[encoded data removed]",
      "text/plain": [
       "<Figure size 700x700 with 1 Axes>"
      ]
     },
     "metadata": {},
     "output_type": "display_data"
    }
   ],
   "source": [
    "# Count accidents by aircraft damage category\n",
    "damage_counts = Aviation_df[\"Aircraft.damage\"].value_counts()\n",
    "\n",
    "# Plot pie chart\n",
    "fig, ax =plt.subplots(figsize=(7, 7))\n",
    "ax.pie(damage_counts, labels=damage_counts.index, autopct='%1.1f%%', colors=[\"red\", \"orange\", \"green\"])\n",
    "ax.set_title(\"Aircraft Damage Distribution in Accidents\")\n",
    "plt.show()\n"
   ]
  },
  {
   "cell_type": "markdown",
   "metadata": {},
   "source": [
    "Analysis of output above:\n",
    "\n",
    "1. **Most Accidents Lead to Substantial Damage (76.2%)**\n",
    "* The biggest portion of accidents does not destroy the aircraft completely.\n",
    "* These aircraft may be repairable after incidents.\n",
    "2. **Destroyed Aircraft (20.6%)**\n",
    "* About 1 in 5 accidents result in the complete loss of an aircraft.\n",
    "* This could indicate serious crashes or fire damage.\n",
    "3. **Minor Damage (3.1%) and Unknown (0.1%)**\n",
    "* Minor damage is rare : Small incidents may be underreported.\n",
    "* Unknown category is extremely small : Most accidents have proper classification.\n",
    "\n"
   ]
  },
  {
   "cell_type": "markdown",
   "metadata": {},
   "source": [
    "## **Business Objective 2 Findings From my Analysis**\n",
    "\n",
    "### Findings\n",
    "\n",
    "Findings on Aviation Accidents by Flight Phase:\n",
    "\n",
    "1. **Landing Phase is the Most Critical**\n",
    "\n",
    "* The landing phase accounts for the highest number of accidents, significantly surpassing all other flight phases.\n",
    "* This indicates that aircraft face heightened risks during descent, final approach, and touchdown, likely due to factors such as unstable approaches, runway conditions, and pilot errors.\n",
    "\n",
    "2. **Takeoff and Initial Climb Also Pose Significant Risks**\n",
    "\n",
    "* **Takeoff** is the second most accident-prone phase.\n",
    "* This is often attributed to engine failures, miscalculations in speed and weight, and adverse weather conditions that make takeoff more challenging.\n",
    "\n",
    "3. **Cruise Phase Incidents Are Notable**\n",
    "\n",
    "* Despite being the most stable phase of flight, cruise phase accidents still occur in significant numbers.\n",
    "* Possible contributing factors include mechanical failures, mid-air collisions, and weather-related disturbances.\n",
    "\n",
    "4. Maneuvering, Approach, and Taxi Phases Also Present Risks\n",
    "\n",
    "* **Maneuvering** (e.g., in-flight turns, holding patterns) and approach phases exhibit moderate accident frequencies, potentially due to pilot workload, misjudged descents, or loss of situational awareness.\n",
    "* **Taxi accidents** occur, though less frequently, and may involve runway incursions, ground handling errors, or collisions with obstacles.\n",
    "\n",
    "5. **Other Phases Show Relatively Lower Accident Rates**\n",
    "\n",
    "* Phases such as descent, go-around, and standing contribute less significantly to accident statistics but remain areas of concern, particularly in abnormal or emergency situations.\n",
    "\n",
    "6. **Majority of Accidents Occur in Visual Meteorological Conditions (VMC)**\n",
    "\n",
    "* The highest number of aviation accidents occur under Visual Meteorological Conditions (VMC), where visibility is clear and weather conditions are favorable.\n",
    "* This finding suggests that human error, mechanical failures, and operational risks contribute significantly to accidents, rather than adverse weather conditions.\n",
    "\n",
    "7. **Instrument Meteorological Conditions (IMC) Account for Fewer but More Critical Accidents**\n",
    "\n",
    "* Accidents in Instrument Meteorological Conditions (IMC)—where pilots rely on instruments due to poor visibility—are significantly lower in frequency compared to VMC accidents.\n",
    "* However, IMC accidents often result in **higher fatality rates**, as poor visibility increases the likelihood of controlled flight into terrain (CFIT) and spatial disorientation.\n",
    "\n",
    "8. **Unknown or Unclassified Weather Conditions (UNK, Unk) Have Minimal Reported Cases**\n",
    "\n",
    "* Some accidents fall under unknown (UNK) or unclassified (Unk) weather conditions, indicating incomplete or missing weather data in reports.\n",
    "* While the numbers are minimal, they highlight a gap in accident reporting that could impact accurate risk assessment.\n",
    "\n",
    "9.**Personal Flights Have the Highest Number of Accidents**\n",
    "\n",
    "* The majority of aviation accidents occur during **personal flights**, significantly outnumbering other categories.\n",
    "* This suggests that **private pilots, recreational flyers, and general aviation users** are at a higher risk, possibly due to less rigorous regulatory oversight, limited experience, or lower adherence to strict operational standards compared to commercial aviation.\n",
    "\n",
    "10. **Instructional Flights Account for a Considerable Number of Accidents**\n",
    "\n",
    "* Accidents involving instructional flights (training flights with student pilots) rank second in frequency.\n",
    "* While flight training is crucial for aviation safety, these accidents may indicate inexperience, misjudgment by trainee pilots, or insufficient instructor intervention in critical situations.\n",
    "\n",
    "11. **A Significant Number of Accidents Fall Under \"Unknown\" Purpose**\n",
    "\n",
    "* A notable number of accidents are categorized under **\"Unknown\"**, indicating incomplete or missing data.\n",
    "* This suggests a potential issue with accident classification and reporting, which could impact risk assessments and safety policy development.\n",
    "\n",
    "12. **Aerial Application and Business Flights Also Have Notable Accident Rates**\n",
    "\n",
    "* **Aerial application flights** (such as crop dusting) experience a relatively high number of accidents, likely due to low-altitude flying, frequent maneuvering, and hazardous environments (e.g., power lines, terrain obstacles).\n",
    "* **Business flights** have a lower accident count than personal flights but still represent a risk, possibly influenced by time pressure, operational demands, or corporate aviation pilots flying in challenging conditions.\n",
    "\n",
    "13. **Positioning, Ferry, and Public Aircraft Flights Have Relatively Fewer Accidents**\n",
    "\n",
    "* Positioning and ferry flights**—which involve aircraft being moved without passengers or cargo—experience fewer accidents, likely due to professional pilots operating under strict procedures.\n",
    "* **Public aircraft (government-operated planes)** show the lowest number of recorded accidents, reflecting **stricter operational guidelines and oversight**.\n",
    "\n"
   ]
  },
  {
   "cell_type": "markdown",
   "metadata": {},
   "source": [
    "## **Business Objective 2 Recomendation Based On Analysis and Findings**.\n",
    "\n",
    "### Recommendations\n",
    "\n",
    "Based on the findings, I propose the following targeted recommendations to enhance aviation safety:\n",
    "\n",
    "1. **Enhanced Pilot Training and Simulation for Landing and Takeoff**\n",
    "\n",
    "* Increase simulator-based training focused on handling **landing and takeof**f emergencies, such as sudden wind shifts, engine failures, or unstable approaches.\n",
    "* Implement stricter approach stabilization criteria to minimize landing accidents.\n",
    "\n",
    "2. **Technology Integration for Safer Landings**\n",
    "\n",
    "* Expand the use of **Runway Awareness and Advisory Systems (RAAS)** and automated landing assistance technologies.\n",
    "* Improve airport infrastructure, including better runway lighting and real-time weather reporting systems.\n",
    "\n",
    "3. **Strengthening Pre-Flight and In-Flight Safety Measures**\n",
    "\n",
    "* Improve **pre-flight inspections and engine monitoring systems** to reduce failures during takeoff.\n",
    "* Enhance weather forecasting and air traffic coordination to minimize cruise-phase risks.\n",
    "\n",
    "4. **Improved Air Traffic Control (ATC) Coordination**\n",
    "\n",
    "* Reinforce ATC communication during approach and maneuvering phases to prevent miscalculations and possible collisions.\n",
    "* Implement stricter airspace management to reduce mid-air conflicts during cruise.\n",
    "\n",
    "5. **Runway Safety and Ground Operations Enhancements**\n",
    "\n",
    "* Increase vigilance in ground operations to reduce taxi-phase accidents, ensuring better lighting, signage, and obstacle-free taxiways.\n",
    "* Encourage airports to implement runway incursion prevention programs.\n",
    "\n",
    "7. **Enhanced Pilot Training in Visual Conditions to Reduce Human Errors**\n",
    "\n",
    "* Given that most accidents occur in **VMC**, pilot training programs should **emphasize situational awareness, risk assessment, and decision-making** during routine flights.\n",
    "* Simulation-based training should incorporate high-risk scenarios in clear weather to help pilots manage distractions, unexpected mechanical failures, and human errors.\n",
    "\n",
    "8. **Stronger Focus on Technology-Assisted Navigation in IMC**\n",
    "\n",
    "* To mitigate risks in **IMC**, airlines and aviation authorities should invest in enhanced autopilot systems, terrain awareness warning systems (TAWS), and synthetic vision technology to improve pilot decision-making in low visibility.\n",
    "* Implement **mandatory recurrent training** on instrument-only navigation to ensure pilots are proficient in IMC scenarios.\n",
    "\n",
    "9. **Improved Weather Data Reporting and Analysis**\n",
    "\n",
    "* Authorities should standardize weather condition reporting to reduce the number of accidents recorded under \"unknown\" categories.\n",
    "* Encourage the use of real-time weather monitoring systems on aircraft to improve accuracy in accident investigations and proactive risk management.\n",
    "\n",
    "10. **Operational Safety Enhancements to Reduce VMC Accidents**\n",
    "\n",
    "* While **weather conditions may not always be the primary cause in VMC accidents, stricter air traffic control coordination, crew resource management (CRM), and fatigue monitoring** should be implemented to minimize operational risks.\n",
    "\n",
    "* Airlines should introduce **preemptive safety audits** targeting flights that operate frequently in **clear weather conditions**, ensuring pilots remain vigilant and do not develop complacency.\n",
    "\n",
    "11. **Stronger Safety Regulations and Training for General Aviation Pilots**\n",
    "\n",
    "* Given that personal flights account for the majority of accidents, regulatory bodies should consider **enhanced safety training, periodic re-certification, and stricter enforcement of maintenance requirements** for private pilots.\n",
    "* **Outreach programs and awareness campaigns** should educate recreational and non-commercial pilots on risk management, emergency procedures, and human factor issues.\n",
    "\n",
    "12. **Enhanced Instructor Supervision and Standardization in Training Flights**\n",
    "\n",
    "* Aviation training schools should implement **more rigorous instructor intervention** protocols to reduce accidents during instructional flights.\n",
    "* **Simulator-based training** should be expanded to expose student pilots to high-risk scenarios without real-world consequences.\n",
    "\n",
    "13. **Improved Data Collection and Classification of Accident Reports**\n",
    "\n",
    "* Authorities should **standardize the reporting process** to reduce the number of accidents categorized under \"Unknown.\"\n",
    "* Airlines and aviation authorities should integrate **automated flight data monitoring systems** to improve accuracy in accident classification and root cause identification.\n",
    "\n",
    "14. **Safety Enhancements for Aerial Application Flights**\n",
    "\n",
    "* Given the unique risks of aerial application operations, additional **mandatory training in low-altitude flying, obstacle avoidance, and emergency procedures** should be enforced.\n",
    "* Operators should consider adopting **more advanced GPS guidance and automated spraying systems** to reduce pilot workload and increase safety margins.\n",
    "\n",
    "15. **Risk Management and Safety Protocols for Business and Corporate Flights**\n",
    "\n",
    "* Business aviation operators should implement stricter fatigue management policies and enhance risk assessment procedures to mitigate time-pressure risks.\n",
    "* Companies using corporate jets should encourage **standardized safety procedures** similar to commercial airlines, including mandatory recurrent training for pilots."
   ]
  },
  {
   "cell_type": "code",
   "execution_count": null,
   "metadata": {},
   "outputs": [],
   "source": []
  },
  {
   "cell_type": "markdown",
   "metadata": {},
   "source": [
    "# **Business Objective 3: How do different aircraft manufacturers compare in terms of safety**\n",
    "\n",
    "**Goal of the Analysis**:\n",
    "\n",
    "This analysis aims to identify manufacturers with the lowest accident rates, most severe incidents, and common causes of accidents. The insights will help the company make informed decisions on which aircraft manufacturers to prioritize when entering the aviation industry, minimizing risk while ensuring operational safety and reliability.\n",
    "\n",
    "\n",
    "For effective analysis I will use the following **key attribute**  for my analysis:\n",
    "\n",
    "* **Make** :Identifies the aircraft manufacturer (e.g., Boeing, Airbus, Cessna).\n",
    "* **Total.Fatal.Injuries** : Shows the severity of accidents per manufacturer.\n",
    "* **Total.Serious.Injuries** : Indicates non-fatal but severe injuries.\n",
    "* **Total.Minor.Injuries** : Counts minor injuries per accident.\n",
    "* **Total.Uninjured** : Helps calculate survivability rates per manufacturer.\n",
    "* **Aircraft.damage** : Tells whether the accident led to substantial or minor damage."
   ]
  },
  {
   "cell_type": "markdown",
   "metadata": {},
   "source": [
    "In cell below I am find top aircraft manufactures by Accident count. First I create a variable called `manufacturer_counts` and store `Make` which is the manufactures of different aircraft.\n",
    "`Aviation_df[\"Make\"]`: Extracts the column containing aircraft manufacturers.\n",
    "`.value_counts():` Counts the number of occurrences of each manufacturer in the dataset.\n",
    "`.head(10)`: Selects the top 10 manufacturers with the highest accident counts.\n",
    "\n",
    "Then I uses **seaborn** a library in python for ploting. for ploting I used `barplot` function to create a horizontal bar chart.\n",
    "`y=manufacturer_counts.index`: Puts manufacturers on the y-axis.\n",
    "`x=manufacturer_counts.values`: Puts accident counts on the x-axis.\n",
    "`palette=\"coolwarm\"`: Uses a color gradient from cool to warm colors for better visualization.\n"
   ]
  },
  {
   "cell_type": "code",
   "execution_count": 45,
   "metadata": {},
   "outputs": [
    {
     "name": "stderr",
     "output_type": "stream",
     "text": [
      "C:\\Users\\ronny somi\\AppData\\Local\\Temp\\ipykernel_11468\\4077553781.py:6: FutureWarning: \n",
      "\n",
      "Passing `palette` without assigning `hue` is deprecated and will be removed in v0.14.0. Assign the `y` variable to `hue` and set `legend=False` for the same effect.\n",
      "\n",
      "  sns.barplot(y=manufacturer_counts.index, x=manufacturer_counts.values, palette=\"coolwarm\")\n"
     ]
    },
    {
     "data": {
      "image/png": "[encoded data removed]",
      "text/plain": [
       "<Figure size 1200x600 with 1 Axes>"
      ]
     },
     "metadata": {},
     "output_type": "display_data"
    }
   ],
   "source": [
    "# Count accidents per manufacturer\n",
    "manufacturer_counts = Aviation_df[\"Make\"].value_counts().head(10)  # Top 10 manufacturers\n",
    "\n",
    "# Plot\n",
    "fig, ax= plt.subplots(figsize=(12, 6))\n",
    "sns.barplot(y=manufacturer_counts.index, x=manufacturer_counts.values, palette=\"coolwarm\")\n",
    "ax.set_xlabel(\"Number of Accidents\")\n",
    "ax.set_ylabel(\"Aircraft Manufacturer\")\n",
    "ax.set_title(\"Top 10 Aircraft Manufacturers by Accident Count\")\n",
    "plt.show()"
   ]
  },
  {
   "cell_type": "markdown",
   "metadata": {},
   "source": [
    "The output above shows:\n",
    "\n",
    "* **Cessna** has the highest number of accidents, followed by Piper and Beech.\n",
    "\n",
    "**There are duplicate entries (e.g., \"Cessna\" and \"CESSNA\", \"Piper\" and \"PIPER\"), suggesting inconsistencies in data capitalization. Data cleaning is needed to merge similar manufacturers.**\n",
    "\n",
    "* **Boeing appears on the list**, but with significantly fewer accidents than general aviation manufacturers like Cessna and Piper.\n",
    "Manufacturers such as **Bell, Grumman, and Mooney** have lower accident counts in comparison."
   ]
  },
  {
   "cell_type": "markdown",
   "metadata": {},
   "source": [
    "In the cell below I am calculating average fatalities per manufacturer. This helps us understand which manufacturers have the highest fatality rates.\n",
    "\n",
    "`.groupby(\"Make\")`: Groups the data by aircraft manufacturer.\n",
    "`[\"Total.Fatal.Injuries\"]`.mean(): Computes the average number of fatalities per accident for each manufacturer.\n",
    "`.sort_values(ascending=False)`: Sorts the results in descending order, showing the manufacturers with the highest fatalities per accident.\n",
    "`.head(10)`: Selects the top 10 manufacturers with the highest fatality rates.\n",
    "\n",
    "Then uses seaborn library in python to plot a **barplot** function to create a horizontal bar chart.\n",
    "\n",
    "`y=fatality_rates.index`: Displays manufacturers on the y-axis.\n",
    "`x=fatality_rates.values`: Displays average fatalities per accident on the x-axis.\n",
    "`palette=\"Reds\"`: Uses a red gradient to highlight severity.\n",
    "\n",
    "\n",
    "\n"
   ]
  },
  {
   "cell_type": "code",
   "execution_count": 46,
   "metadata": {},
   "outputs": [
    {
     "name": "stderr",
     "output_type": "stream",
     "text": [
      "C:\\Users\\ronny somi\\AppData\\Local\\Temp\\ipykernel_11468\\1729472118.py:6: FutureWarning: \n",
      "\n",
      "Passing `palette` without assigning `hue` is deprecated and will be removed in v0.14.0. Assign the `y` variable to `hue` and set `legend=False` for the same effect.\n",
      "\n",
      "  sns.barplot(y=fatality_rates.index, x=fatality_rates.values, palette=\"Reds\")\n"
     ]
    },
    {
     "data": {
      "image/png": "[encoded data removed]",
      "text/plain": [
       "<Figure size 1200x600 with 1 Axes>"
      ]
     },
     "metadata": {},
     "output_type": "display_data"
    }
   ],
   "source": [
    "# Group by manufacturer and calculate average fatalities per accident\n",
    "fatality_rates = Aviation_df.groupby(\"Make\")[\"Total.Fatal.Injuries\"].mean().sort_values(ascending=False).head(10)\n",
    "\n",
    "# Plot\n",
    "fig,ax = plt.subplots(figsize=(12, 6))\n",
    "sns.barplot(y=fatality_rates.index, x=fatality_rates.values, palette=\"Reds\")\n",
    "ax.set_xlabel(\"Average Fatalities Per Accident\")\n",
    "ax.set_ylabel(\"Aircraft Manufacturer\")\n",
    "ax.set_title(\"Average Fatalities per Accident (Top 10 Manufacturers)\")\n",
    "plt.show()\n"
   ]
  },
  {
   "cell_type": "markdown",
   "metadata": {},
   "source": [
    "**Tupolev** has the highest average fatalities per accident, significantly higher than all other manufacturers.\n",
    "\n",
    "**Data inconsistency is present: \"Tupolev\" appears twice with different capitalizations (\"Tupolev\" and \"TUPOLEV\"). This suggests that data cleaning is needed to merge duplicate manufacturer names.**\n",
    "\n",
    "**Russian and Soviet-era aircraft manufacturers (Tupolev, Sukhoi, Antonov, Mil)** dominate the list, which could be due to historical aviation accidents involving large passenger aircraft.\n",
    "**Viking Air Limited and Aviocar CASA** also appear on the list, which may indicate smaller aircraft with high fatality rates per accident.\n",
    "**Embraer Aircraft and Airvan**, which are known for smaller regional and private aircraft, have lower but still significant fatality averages."
   ]
  },
  {
   "cell_type": "code",
   "execution_count": null,
   "metadata": {},
   "outputs": [],
   "source": []
  },
  {
   "cell_type": "markdown",
   "metadata": {},
   "source": [
    "#### **Survivability Rate by Manufacturer**\n",
    "\n",
    "The cell below I alculates the Survivability Rate for different aircraft manufacturers and visualizes the top 10 manufacturers with the highest survivability rate. A safer manufacturer should have a higher survivability rate.\n",
    "\n",
    "First compute percentage of people who survived incidents involving aircraft from different manufacturers and sums up all individuals involved in crashes (including fatalities, serious, minor injuries, and uninjured).  **uninjured individuals**, representing the fraction of those who survived without injuries.\n",
    "\n",
    "Then groups data by **aircraft manufacturer (\"Make\")**\n",
    "\n",
    "Lastly I create a **horizontal bar chart** to display **top 10 manufacturers**  with the highest survivability rate.\n",
    "The **palette is set to \"Blues\"**, making it visually intuitive (darker shades represent higher survivability).\n",
    "The chart **labels the manufacturers on the y-axis and survivability rates on the x-axis**.\n",
    "\n",
    "\n",
    "\n"
   ]
  },
  {
   "cell_type": "code",
   "execution_count": 47,
   "metadata": {},
   "outputs": [
    {
     "name": "stderr",
     "output_type": "stream",
     "text": [
      "C:\\Users\\ronny somi\\AppData\\Local\\Temp\\ipykernel_11468\\4020463836.py:14: FutureWarning: \n",
      "\n",
      "Passing `palette` without assigning `hue` is deprecated and will be removed in v0.14.0. Assign the `y` variable to `hue` and set `legend=False` for the same effect.\n",
      "\n",
      "  sns.barplot(y=survivability_rates.index, x=survivability_rates.values, palette=\"Blues\")\n"
     ]
    },
    {
     "data": {
      "image/png": "[encoded data removed]",
      "text/plain": [
       "<Figure size 1200x600 with 1 Axes>"
      ]
     },
     "metadata": {},
     "output_type": "display_data"
    }
   ],
   "source": [
    "# Calculate survivability rate = (Total Uninjured) / (Total Fatal + Serious + Minor + Uninjured)\n",
    "Aviation_df[\"Survivability Rate\"] = Aviation_df[\"Total.Uninjured\"] / (\n",
    "    Aviation_df[\"Total.Fatal.Injuries\"] + \n",
    "    Aviation_df[\"Total.Serious.Injuries\"] + \n",
    "    Aviation_df[\"Total.Minor.Injuries\"] + \n",
    "    Aviation_df[\"Total.Uninjured\"]\n",
    ")\n",
    "\n",
    "# Group by manufacturer and calculate average survivability rate\n",
    "survivability_rates = Aviation_df.groupby(\"Make\")[\"Survivability Rate\"].mean().sort_values(ascending=False).head(10)\n",
    "\n",
    "# Plot\n",
    "fig, ax =plt.subplots(figsize=(12, 6))\n",
    "sns.barplot(y=survivability_rates.index, x=survivability_rates.values, palette=\"Blues\")\n",
    "ax.set_xlabel(\"Survivability Rate (%)\")\n",
    "ax.set_ylabel(\"Aircraft Manufacturer\")\n",
    "ax.set_title(\"Top 10 Manufacturers with Highest Survivability Rate\")\n",
    "plt.show()\n"
   ]
  },
  {
   "cell_type": "markdown",
   "metadata": {},
   "source": [
    "The output above shows:\n",
    "**Zuber Thomas P and Zwicker Murray R** have 100% survivability.\n",
    "\n",
    "**Zacharius, Zbacnick, Zdybel, Zeidler, Zeidman, and Zlin Aviation** show slightly lower survivability but still high."
   ]
  },
  {
   "cell_type": "code",
   "execution_count": null,
   "metadata": {},
   "outputs": [],
   "source": []
  },
  {
   "cell_type": "markdown",
   "metadata": {},
   "source": [
    " ### **Aircraft Damage Comparison by Manufacturer**\n",
    "\n",
    "The cell beolow analyzes and visualizes aircraft damage types for different manufacturers based on accident data.\n",
    "\n",
    "I group dataset by **ircraft manufacturer (\"Make\") and damage type (\"Aircraft.damage\")**.\n",
    "`.size()` counts the number of occurrences for each combination.\n",
    "`.unstack()` restructures the data so that damage types become columns.\n",
    "\n",
    "I create a `Stacked Bar Chart` (kind=\"bar\", stacked=True).\n",
    "Each represents a **manufacturer** and different colors represent **damage categories**\n",
    "`colormap=\"viridis\"` applies a visually appealing color scheme"
   ]
  },
  {
   "cell_type": "code",
   "execution_count": 48,
   "metadata": {},
   "outputs": [
    {
     "data": {
      "image/png": "[encoded data removed]",
      "text/plain": [
       "<Figure size 1200x600 with 1 Axes>"
      ]
     },
     "metadata": {},
     "output_type": "display_data"
    }
   ],
   "source": [
    "\n",
    "# Group by manufacturer and damage type\n",
    "damage_counts = Aviation_df.groupby([\"Make\", \"Aircraft.damage\"]).size().unstack()\n",
    "\n",
    "# Plot\n",
    "fig, ax = plt.subplots(figsize=(12, 6))\n",
    "damage_counts.head(10).plot(kind=\"bar\", stacked=True, colormap=\"viridis\", ax=ax)\n",
    "\n",
    "# Formatting\n",
    "ax.set_xlabel(\"Aircraft Manufacturer\")\n",
    "ax.set_ylabel(\"Number of Accidents\")\n",
    "ax.set_title(\"Aircraft Damage Comparison by Manufacturer\")\n",
    "ax.legend(title=\"Damage Type\")  # Fixed legend method\n",
    "plt.xticks(rotation=45)  # Fixed tick rotation\n",
    "\n",
    "# Show plot\n",
    "plt.show()\n"
   ]
  },
  {
   "cell_type": "markdown",
   "metadata": {},
   "source": [
    "The output above shows the following\n",
    "Damage Types:\n",
    "\n",
    "**Destroyed (Purple)**: Total aircraft loss.\n",
    "**Substantial (Green)**: Major but repairable damage.\n",
    "**Minor (Blue)**: Small damages.\n",
    "**Unknown (Yellow)**: Unclassified damages.\n",
    "\n",
    "**Manufacturers with High Accidents**\n",
    "**2021 FX3 LLC** has the highest number of substantial damage cases.\n",
    "**Several manufacturers (e.g., 107.5 Flying Corporation, 1st Ftr Gp, 2000 McCoy)** have many destroyed aircraft."
   ]
  },
  {
   "cell_type": "code",
   "execution_count": null,
   "metadata": {},
   "outputs": [],
   "source": []
  },
  {
   "cell_type": "markdown",
   "metadata": {},
   "source": [
    "## **Business Objective 3 Findings From my Analysis**\n",
    "\n",
    "### Findings\n",
    "\n",
    "**Cessna and Piper have the highest accident counts**\n",
    "\n",
    "1. * Cessna leads with the highest number of recorded accidents, significantly outpacing other manufacturers.\n",
    "* Piper follows as the second-highest, with a substantial number of accidents.\n",
    "\n",
    "2. **Boeing and Bell have relatively lower accident counts**\n",
    "\n",
    "* Compared to Cessna and Piper, manufacturers like Boeing and Bell have fewer recorded accidents.\n",
    "* However, this could be due to the nature of aircraft usage—Cessna and Piper primarily manufacture small general aviation planes, which are more frequently used in private and training flights, leading to a higher accident exposure.\n",
    "\n",
    "3. **General aviation aircraft dominate the accident statistics**\n",
    "\n",
    "* The top manufacturers in the accident list (Cessna, Piper, and Beech) are predominantly general aviation manufacturers.\n",
    "* This suggests that private, training, and small commercial aircraft are more prone to accidents compared to larger commercial aircraft.\n",
    "\n",
    "4. **Tupolev aircraft have the highest fatalities per accident**\n",
    "\n",
    "* The data shows that Tupolev has the highest average fatalities per accident, significantly outpacing all other manufacturers.\n",
    "* This suggests that Tupolev aircraft are often involved in high-fatality accidents, possibly due to the types of aircraft they produce (large commercial or military aircraft) or operational factors.\n",
    "\n",
    "5. **Viking Air Limited, Aviocar CASA, and Sukhoi also have high fatality rates**\n",
    "\n",
    "* These manufacturers rank among the top 5 in average fatalities per accident.\n",
    "* The high fatality rate could be due to the type of aircraft they produce (e.g., military, regional, or commercial planes) or specific accident circumstances.\n",
    "\n",
    "6. **Antonov, Embraer, and Mil aircraft also show notable fatality rates**\n",
    "\n",
    "* While their rates are lower than Tupolev, they still rank within the top 10 manufacturers with high fatality averages.\n",
    "* These manufacturers operate in both commercial and military sectors, which may contribute to their accident severity.\n",
    "\n",
    "7. **General aviation manufacturers like Cessna and Piper do not appear in the high-fatality list**\n",
    "\n",
    "* This suggests that larger aircraft (e.g., commercial airliners and military aircraft) tend to have higher fatalities per accident compared to smaller private aircraft.\n",
    "* The high fatality rates could be linked to aircraft size, passenger capacity, and operational environment.\n",
    "\n",
    "\n"
   ]
  },
  {
   "cell_type": "markdown",
   "metadata": {},
   "source": [
    "## **Business Objective 2 Recomendation Based On Analysis and Findings**.\n",
    "\n",
    "### Recommendations\n",
    "\n",
    "Based on the findings, I propose the following targeted recommendations to enhance aviation safety:\n",
    "\n",
    "1. **Prioritize aircraft manufacturers with lower accident rates**\n",
    "\n",
    "* Given the high accident rates associated with Cessna and Piper, the company should exercise caution when purchasing aircraft from these manufacturers.\n",
    "* Consider aircraft from manufacturers with historically lower accident rates, such as Boeing and Bell, which may have better safety records in larger-scale commercial aviation.\n",
    "\n",
    "2. **Investigate the nature of the accidents**\n",
    "\n",
    "* Not all accidents are equal—some may be minor incidents while others are catastrophic. A deeper analysis into accident severity and root causes (e.g., mechanical failure vs. pilot error) would help in better decision-making.\n",
    "\n",
    "3. **Consider aircraft usage and maintenance factors**\n",
    "\n",
    "* The high accident count for Cessna and Piper could be due to their frequent use in training and private aviation rather than an inherent safety issue.\n",
    "* If the company plans to operate small aircraft, it should focus on rigorous maintenance, pilot training, and operational protocols to mitigate risks.\n",
    "\n",
    "4. **Develop a safety-oriented purchasing strategy**\n",
    "\n",
    "* When selecting aircraft, prioritize manufacturers with strong safety records, comprehensive maintenance support, and advanced safety features.\n",
    "* This will not only reduce operational risks but also improve customer confidence and regulatory compliance.\n",
    "\n",
    "5. **Consider aircraft manufacturers with lower fatality rates for operations**\n",
    "\n",
    "* Since Tupolev and Antonov show high fatality risks, stakeholders should carefully evaluate the safety records of these manufacturers before acquiring aircraft.\n",
    "* Manufacturers with a lower average fatality rate may offer **better safety outcomes**.\n",
    "\n",
    "6. **Investigate factors contributing to high fatality rates**\n",
    "\n",
    "* High-fatality accidents could be influenced by:\n",
    "**Aircraft design flaws, Operational risks (e.g., military use, extreme conditions), Lack of modern safety features**\n",
    "* A deeper analysis into accident causes will help determine whether fatalities are due to manufacturer flaws or operational conditions.\n",
    "\n",
    "7. **Prioritize modern aircraft with advanced safety features**\n",
    "* Many of the manufacturers with high fatality rates produce older aircraft models that may lack modern safety improvements.\n",
    "* Acquiring aircraft with enhanced safety systems (e.g., collision avoidance, better emergency protocols) will reduce fatality risks.\n",
    "\n",
    "8. **Review maintenance and operational history before acquisition**\n",
    "\n",
    "* Some manufacturers with high fatality rates may have aircraft that are **older, poorly maintained, or operated in high-risk environments**.\n",
    "* Ensuring **regular maintenance and strict safety compliance** can mitigate risks even for aircraft from high-fatality manufacturers.\n",
    "\n"
   ]
  },
  {
   "cell_type": "code",
   "execution_count": null,
   "metadata": {},
   "outputs": [],
   "source": []
  },
  {
   "cell_type": "markdown",
   "metadata": {},
   "source": [
    "4.  **4.**\n",
    "# **Business Objective 4: What factors contribute most to aviation risk, and how can they be mitigated**\n",
    "\n",
    "**Goal of the Analysis**:\n",
    "\n",
    "The goal of this analysis is to identify key factors contributing to aviation risk by examining historical accident data, including aircraft damage severity, manufacturer trends, and other relevant variables. By understanding these risk factors, we can develop data-driven strategies to mitigate aviation accidents, improve safety protocols, and enhance regulatory measures to reduce future incidents.\n",
    "\n",
    "\n",
    "To analyze aviation risk factors, we need to determine what conditions are most associated with accidents. We can use different features to analyze how weather, flight phase, purpose, and other factors contribute to accidents.\n",
    "\n",
    "For effective analysis I will use the following Features from Dataset:\n",
    "\n",
    "\n",
    "* **Weather.Condition** → Determines if poor weather increases accident risk.\n",
    "* **Broad.phase.of.flight** → Helps analyze which flight phases (e.g., Takeoff, Landing) have the most accidents.\n",
    "* **Purpose.of.flight** → Tells whether certain flight types (e.g., Commercial, Private, Military) are riskier.\n",
    "* **Engine.Type** → Allows us to compare engine types and their accident association.\n",
    "* **Aircraft.damage** → Indicates severity levels of aircraft damage.\n",
    "* **Total.Fatal.Injuries, Total.Serious.Injuries** → Help assess human impact severity.\n",
    "\n",
    "\n"
   ]
  },
  {
   "cell_type": "markdown",
   "metadata": {},
   "source": [
    "**Impact of Weather Conditions on Accidents**\n",
    "\n",
    "In the cell bellow I check how weather conditions (VMC = Visual Meteorological Conditions, IMC = Instrument Meteorological Conditions) affect accident frequency.\n",
    "\n",
    "Created a variable known as `weather_counts` which extracts `\"Weather.Condition\"` column from the `Aviation_df` dataset and uses `.value_counts()` to count the number of occurrences of each unique weather condition.\n",
    "Next I create a `Barplot` using seaborn library:\n",
    "`sns.barplot(...)` creates a bar chart:\n",
    "`x=weather_counts.index` : The unique weather conditions.\n",
    "`y=weather_counts.values` : The count of accidents for each condition.\n",
    "`palette=\"coolwarm\"` : Uses a color gradient for better visualization.\n",
    "Labels the **X-axis as \"Weather Condition\"** and **Y-axis as \"Number of Accidents\"**.\n",
    "Adds a title for better interpretation.\n"
   ]
  },
  {
   "cell_type": "code",
   "execution_count": 57,
   "metadata": {},
   "outputs": [
    {
     "name": "stderr",
     "output_type": "stream",
     "text": [
      "C:\\Users\\ronny somi\\AppData\\Local\\Temp\\ipykernel_11468\\153978668.py:6: FutureWarning: \n",
      "\n",
      "Passing `palette` without assigning `hue` is deprecated and will be removed in v0.14.0. Assign the `x` variable to `hue` and set `legend=False` for the same effect.\n",
      "\n",
      "  sns.barplot(x=weather_counts.index, y=weather_counts.values, palette=\"coolwarm\")\n"
     ]
    },
    {
     "data": {
      "image/png": "[encoded data removed]",
      "text/plain": [
       "<Figure size 800x500 with 1 Axes>"
      ]
     },
     "metadata": {},
     "output_type": "display_data"
    }
   ],
   "source": [
    "# Count accidents by weather condition\n",
    "weather_counts = Aviation_df[\"Weather.Condition\"].value_counts()\n",
    "\n",
    "# Plot\n",
    "fig, ax =plt.subplots(figsize=(8, 5))\n",
    "sns.barplot(x=weather_counts.index, y=weather_counts.values, palette=\"coolwarm\")\n",
    "ax.set_xlabel(\"Weather Conditsion\")\n",
    "ax.set_ylabel(\"Number of Accidents\")\n",
    "ax.set_title(\"Impact of Weather Conditions on Accidents\")\n",
    "plt.show()"
   ]
  },
  {
   "cell_type": "markdown",
   "metadata": {},
   "source": [
    "The **bar chart** shows the number of accidents under different weather conditions. The chart shows the following:\n",
    "\n",
    "* **VMC (Visual Meteorological Conditions)** – Most accidents occur under this condition.\n",
    "* **IMC (Instrument Meteorological Conditions)** – A significantly lower number of accidents.\n",
    "* **UNK (Unknown) and Unk** – Represent cases where the weather condition was not recorded.\n",
    "\n"
   ]
  },
  {
   "cell_type": "code",
   "execution_count": null,
   "metadata": {},
   "outputs": [],
   "source": []
  },
  {
   "cell_type": "markdown",
   "metadata": {},
   "source": [
    "In cell below shows **Accidents by Flight Phase**. I create a variable `flight_phase_counts` which extracts `\"Broad.phase.of.flight\"` column from the dataset. Then applies `.value_counts()`to count the number of accidents occurring in each flight phase.\n",
    "\n",
    "Lastly I create a **Bar plot**\n",
    "`y=flight_phase_counts.index`: Uses flight phases as the labels on the y-axis.\n",
    "`x=flight_phase_counts.values`: Uses the count of accidents as values on the x-axis.\n",
    "`palette=\"Oranges\"`: The color scheme for the bars, making it visually engaging. This assist to identify where most accidents happen\n",
    "\n"
   ]
  },
  {
   "cell_type": "code",
   "execution_count": 58,
   "metadata": {},
   "outputs": [
    {
     "name": "stderr",
     "output_type": "stream",
     "text": [
      "C:\\Users\\ronny somi\\AppData\\Local\\Temp\\ipykernel_11468\\628046180.py:6: FutureWarning: \n",
      "\n",
      "Passing `palette` without assigning `hue` is deprecated and will be removed in v0.14.0. Assign the `y` variable to `hue` and set `legend=False` for the same effect.\n",
      "\n",
      "  sns.barplot(y=flight_phase_counts.index, x=flight_phase_counts.values, palette=\"Blues\")\n"
     ]
    },
    {
     "data": {
      "image/png": "[encoded data removed]",
      "text/plain": [
       "<Figure size 1200x600 with 1 Axes>"
      ]
     },
     "metadata": {},
     "output_type": "display_data"
    }
   ],
   "source": [
    "# Count accidents per flight phase\n",
    "flight_phase_counts = Aviation_df[\"Broad.phase.of.flight\"].value_counts()\n",
    "\n",
    "# Plot\n",
    "fig, ax = plt.subplots(figsize=(12, 6))\n",
    "sns.barplot(y=flight_phase_counts.index, x=flight_phase_counts.values, palette=\"Blues\")\n",
    "ax.set_xlabel(\"Number of Accidents\")\n",
    "ax.set_ylabel(\"Flight Phase\")\n",
    "ax.set_title(\"Accidents by Flight Phase\")\n",
    "plt.show()\n"
   ]
  },
  {
   "cell_type": "markdown",
   "metadata": {},
   "source": [
    "The output above shows **horizontal bar chart** that represents the number aviation accidents occurring at different phases of flight. It shows that :\n",
    "\n",
    "**Landing phase** has the highest number of accidents, significantly more than any other phase.\n",
    "**Takeoff, cruise, and maneuvering** phases also have a considerable number of accidents.\n",
    "**Approach, climb, taxi, and descent** phases show fewer accidents but are still important.\n",
    "**Go-around, standing, and unknown** phases have the least reported incidents.\n",
    "\n",
    "This visualization provides a strong business case for **improving safety measures during landing and takeoff**, as these are the most critical flight phases.\n",
    "\n"
   ]
  },
  {
   "cell_type": "code",
   "execution_count": null,
   "metadata": {},
   "outputs": [],
   "source": []
  },
  {
   "cell_type": "markdown",
   "metadata": {},
   "source": [
    "The cell below we creates **horizontal bar chart** to visualize **Purpose of Flight vs. Accident Risk**. Creates `purpose_counts` variable and uses `.value_counts()` function counts the occurrences of each unique value in the `\"Purpose.of.flight\"` column.\n",
    "`y=purpose_counts.index`: Uses the flight purposes as labels for the y-axis.\n",
    "`x=purpose_counts.values`: Uses the accident counts as values for the x-axis.\n",
    "`palette=\"Purples\"`: Applies a purple color gradient.\n",
    "`ax=ax`: Ensures the plot is drawn on the specified ax object (object-oriented plotting).\n"
   ]
  },
  {
   "cell_type": "code",
   "execution_count": null,
   "metadata": {},
   "outputs": [
    {
     "name": "stderr",
     "output_type": "stream",
     "text": [
      "C:\\Users\\ronny somi\\AppData\\Local\\Temp\\ipykernel_11468\\3164823941.py:6: FutureWarning: \n",
      "\n",
      "Passing `palette` without assigning `hue` is deprecated and will be removed in v0.14.0. Assign the `y` variable to `hue` and set `legend=False` for the same effect.\n",
      "\n",
      "  bars = sns.barplot(y=purpose_counts.index, x=purpose_counts.values, palette=\"Purples\")\n"
     ]
    },
    {
     "data": {
      "image/png": "[encoded data removed]",
      "text/plain": [
       "<Figure size 1200x600 with 1 Axes>"
      ]
     },
     "metadata": {},
     "output_type": "display_data"
    }
   ],
   "source": [
    "# Count accidents by purpose of flight\n",
    "purpose_counts = Aviation_df[\"Purpose.of.flight\"].value_counts().head(10)  # Top 10 categories\n",
    "\n",
    "# Create the plot\n",
    "fig, ax =plt.subplots(figsize=(12, 6))\n",
    "bars = sns.barplot(y=purpose_counts.index, x=purpose_counts.values, palette=\"Purples\")\n",
    "\n",
    "# Create a legend manually\n",
    "legend_labels = purpose_counts.index\n",
    "plt.legend(bars.patches, legend_labels, title=\"Purpose of Flight\", bbox_to_anchor=(1.05, 1), loc='upper left')\n",
    "\n",
    "# Labels and title\n",
    "ax.set_xlabel(\"Number of Accidents\")\n",
    "ax.set_ylabel(\"Purpose of Flight\")\n",
    "ax.set_title(\"Accidents by Purpose of Flight\")\n",
    "\n",
    "# Show the plot\n",
    "plt.show()"
   ]
  },
  {
   "cell_type": "code",
   "execution_count": null,
   "metadata": {},
   "outputs": [],
   "source": []
  },
  {
   "cell_type": "markdown",
   "metadata": {},
   "source": [
    "The output above shows **Personal\" flights** have the highest number of accidents.\n",
    "* **\"Instructional\" and \"Unknown\" flights** follow but with significantly fewer incidents.\n",
    "* Other categories like **\"Aerial Application,\" \"Business,\" and \"Positioning\"** show a noticeable but lower number of accidents.\n",
    "* **\"Public Aircraft\" and \"Aerial Observation\"** have the fewest reported accidents.\n",
    "\n",
    "This insight suggests that personal flights may require more **safety measures, training, or stricter regulations**."
   ]
  },
  {
   "cell_type": "code",
   "execution_count": null,
   "metadata": {},
   "outputs": [],
   "source": []
  },
  {
   "cell_type": "markdown",
   "metadata": {},
   "source": [
    "In cell below I check if engine type influences accident outcomes.**Engine Type and Accident Severity**.\n",
    "\n",
    "Creates a variable known as `engine_counts` to extracts the top 10 most common engine types in the dataset by counting the number of occurrences in the \"Engine.Type\" column.\n",
    "Then creates a `Barplot` using `sns.barplot` alias of seaborn library.\n",
    "\n",
    "The **y-axis** represents the engine types (categories).\n",
    "The **x-axis** represents the number of accidents for each engine type.\n",
    "The **palette=\"Oranges\"** adds a blue color gradient to the bars.\n",
    "\n",
    "\n"
   ]
  },
  {
   "cell_type": "code",
   "execution_count": 59,
   "metadata": {},
   "outputs": [
    {
     "name": "stderr",
     "output_type": "stream",
     "text": [
      "C:\\Users\\ronny somi\\AppData\\Local\\Temp\\ipykernel_11468\\128339562.py:6: FutureWarning: \n",
      "\n",
      "Passing `palette` without assigning `hue` is deprecated and will be removed in v0.14.0. Assign the `y` variable to `hue` and set `legend=False` for the same effect.\n",
      "\n",
      "  sns.barplot(y=engine_counts.index, x=engine_counts.values, palette=\"Oranges\")\n"
     ]
    },
    {
     "data": {
      "image/png": "[encoded data removed]",
      "text/plain": [
       "<Figure size 1200x600 with 1 Axes>"
      ]
     },
     "metadata": {},
     "output_type": "display_data"
    }
   ],
   "source": [
    "# Count accidents by engine type\n",
    "engine_counts = Aviation_df[\"Engine.Type\"].value_counts().head(10)  # Top 10 engine types\n",
    "\n",
    "# Plot\n",
    "fig, ax =plt.subplots(figsize=(12, 6))\n",
    "sns.barplot(y=engine_counts.index, x=engine_counts.values, palette=\"Oranges\")\n",
    "ax.set_xlabel(\"Number of Accidents\")\n",
    "ax.set_ylabel(\"Engine Type\")\n",
    "ax.set_title(\"Accidents by Engine Type\")\n",
    "plt.show()\n"
   ]
  },
  {
   "cell_type": "markdown",
   "metadata": {},
   "source": [
    "* The bar chart visualizes the number of accidents categorized by engine type.\n",
    "* The **\"Reciprocating\"** engine type has the highest number of accidents, significantly more than the others.\n",
    "* Other engine types like **\"Turbo Shaft\", \"Turbo Prop\", \"Turbo Fan\"**, and **\"Unknown\"** have relatively fewer accidents.\n",
    "* Some engine types, such as **\"Geared Turbofan\", \"Electric\", \"NONE\"**, and **\"LR\"**, have little to no data or recorded accidents."
   ]
  },
  {
   "cell_type": "code",
   "execution_count": null,
   "metadata": {},
   "outputs": [],
   "source": []
  },
  {
   "cell_type": "markdown",
   "metadata": {},
   "source": [
    "Cell below analysis how aircraft damage is distributed among accidents. **Aircraft Damage Severity**\n"
   ]
  },
  {
   "cell_type": "code",
   "execution_count": 60,
   "metadata": {},
   "outputs": [
    {
     "name": "stderr",
     "output_type": "stream",
     "text": [
      "C:\\Users\\ronny somi\\AppData\\Local\\Temp\\ipykernel_11468\\2184724260.py:6: FutureWarning: \n",
      "\n",
      "Passing `palette` without assigning `hue` is deprecated and will be removed in v0.14.0. Assign the `x` variable to `hue` and set `legend=False` for the same effect.\n",
      "\n",
      "  sns.barplot(x=damage_counts.index, y=damage_counts.values, palette=\"Reds\")\n"
     ]
    },
    {
     "data": {
      "image/png": "[encoded data removed]",
      "text/plain": [
       "<Figure size 800x500 with 1 Axes>"
      ]
     },
     "metadata": {},
     "output_type": "display_data"
    }
   ],
   "source": [
    "# Count aircraft damage cases\n",
    "damage_counts = Aviation_df[\"Aircraft.damage\"].value_counts()\n",
    "\n",
    "# Plot\n",
    "fig, ax=plt.subplots(figsize=(8, 5))\n",
    "sns.barplot(x=damage_counts.index, y=damage_counts.values, palette=\"Reds\")\n",
    "ax.set_xlabel(\"Aircraft Damage Type\")\n",
    "ax.set_ylabel(\"Number of Accidents\")\n",
    "ax.set_title(\"Aircraft Damage Severity Distribution\")\n",
    "plt.show()\n"
   ]
  },
  {
   "cell_type": "markdown",
   "metadata": {},
   "source": [
    " Insights & Mitigation Strategies\n",
    "Weather Conditions → IMC (bad weather) accidents are higher. Mitigation: Enhanced weather monitoring, better pilot training.\n",
    "\n",
    "Flight Phase → Takeoff & Landing are riskiest. Mitigation: Improved pilot procedures & aircraft maintenance.\n",
    "\n",
    "Purpose of Flight → Some types (e.g., Private) have higher risks. Mitigation: Stricter safety regulations for private aircraft.\n",
    "\n",
    "Engine Type → Certain engine types may show more failures. Mitigation: Frequent engine inspections & redundancy systems.\n",
    "\n",
    "Aircraft Damage → Identifies how accidents affect aircraft. Mitigation: Strengthened materials & crash-resistant designs."
   ]
  },
  {
   "cell_type": "code",
   "execution_count": null,
   "metadata": {},
   "outputs": [],
   "source": []
  }
 ],
 "metadata": {
  "kernelspec": {
   "display_name": ".venv",
   "language": "python",
   "name": "python3"
  },
  "language_info": {
   "codemirror_mode": {
    "name": "ipython",
    "version": 3
   },
   "file_extension": ".py",
   "mimetype": "text/x-python",
   "name": "python",
   "nbconvert_exporter": "python",
   "pygments_lexer": "ipython3",
   "version": "3.11.9"
  }
 },
 "nbformat": 4,
 "nbformat_minor": 2
}
